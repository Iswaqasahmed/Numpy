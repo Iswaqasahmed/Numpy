{
 "cells": [
  {
   "cell_type": "markdown",
   "metadata": {},
   "source": [
    "Numpy is the fundamental package for numeric computing with Python. It provides powerful ways to create,\n",
    "store, and/or manipulate data, which makes it able to seamlessly and speedily integrate with a wide variety\n",
    "of databases. This is also the foundation that Pandas is built on, which is a high-performance data-centric\n",
    "package that we will learn later in the course.\n",
    "\n",
    "In this lecture, we will talk about creating array with certain data types, manipulating array, selecting\n",
    "elements from arrays, and loading dataset into array. Such functions are useful for manipulating data and\n",
    "understanding the functionalities of other common Python data packages."
   ]
  },
  {
   "cell_type": "code",
   "execution_count": 1,
   "metadata": {},
   "outputs": [],
   "source": [
    "# You'll recall that we import a library using the `import` keyword as numpy's common abbreviation is np\n",
    "import numpy as np # first import numpy module"
   ]
  },
  {
   "cell_type": "code",
   "execution_count": 2,
   "metadata": {},
   "outputs": [
    {
     "output_type": "execute_result",
     "data": {
      "text/plain": [
       "'1.16.2'"
      ]
     },
     "metadata": {},
     "execution_count": 2
    }
   ],
   "source": [
    "np.__version__   # there are different version of numpy, it's good approach to be touch with latest update. (tip)"
   ]
  },
  {
   "cell_type": "code",
   "execution_count": 3,
   "metadata": {},
   "outputs": [
    {
     "output_type": "stream",
     "name": "stdout",
     "text": [
      "Array [1 2 3 4 5 5 6 7 8 9], Type of arrayint32\n"
     ]
    }
   ],
   "source": [
    "lis = [1,2,3,4,5,5,6,7,8,9]\n",
    "_1dim = np.array(lis)\n",
    "print('Array {0}, Type of array{1}'.format(_1dim,_1dim.dtype))"
   ]
  },
  {
   "source": [
    "### Concept of Dimenstion in Array:\n",
    "`there are a lot of dimension to be possible in array. we should only focus of mostly and oftenly use.`"
   ],
   "cell_type": "markdown",
   "metadata": {}
  },
  {
   "cell_type": "code",
   "execution_count": 4,
   "metadata": {},
   "outputs": [
    {
     "output_type": "stream",
     "name": "stdout",
     "text": [
      "[1 2 3 4 5 6 7 8 9]\n[[ 1  2]\n [ 3  4]\n [ 5  6]\n [ 7  8]\n [ 9 10]]\n[[[ 1  2  3]\n  [ 4  5  6]\n  [ 7  8  9]]\n\n [[10 11 12]\n  [13 14 15]\n  [16 17 18]]\n\n [[19 20 21]\n  [22 23 24]\n  [25 26 27]]\n\n [[28 29 30]\n  [31 32 33]\n  [34 35 36]]\n\n [[37 38 39]\n  [40 41 42]\n  [43 44 45]]]\n[[[[  1   2   3]\n   [  4   5   6]\n   [  7   8   9]]\n\n  [[ 10  11  12]\n   [ 13  14  15]\n   [ 16  17  18]]\n\n  [[ 19  20  21]\n   [ 22  23  24]\n   [ 25  26  27]]]\n\n\n [[[ 28  29  30]\n   [ 31  32  33]\n   [ 34  35  36]]\n\n  [[ 37  38  39]\n   [ 40  41  42]\n   [ 43  44  45]]\n\n  [[ 46  47  48]\n   [ 49  50  51]\n   [ 52  53  54]]]\n\n\n [[[ 55  56  57]\n   [ 58  59  60]\n   [ 61  62  63]]\n\n  [[ 64  65  66]\n   [ 67  68  69]\n   [ 70  71  72]]\n\n  [[ 73  74  75]\n   [ 76  77  78]\n   [ 79  80  81]]]\n\n\n [[[ 82  83  84]\n   [ 85  86  87]\n   [ 88  89  90]]\n\n  [[ 91  92  93]\n   [ 94  95  96]\n   [ 97  98  99]]\n\n  [[100 101 102]\n   [103 104 105]\n   [106 107 108]]]\n\n\n [[[109 110 111]\n   [112 113 114]\n   [115 116 117]]\n\n  [[118 119 120]\n   [121 122 123]\n   [124 125 126]]\n\n  [[127 128 129]\n   [130 131 132]\n   [133 134 135]]]]\n"
     ]
    }
   ],
   "source": [
    "# **Note** np.arange(include,exclude)\n",
    "_1_dimention_array = np.array(np.arange(1,10))\n",
    "_2_dimention_array = np.array(np.arange(1,11)).reshape(5,2)  # 5: row, 2 : column. 5*2 : 10\n",
    "_3_dimention_array = np.array(np.arange(1,46)).reshape(5,3,3) # 5: row, 3: column, 3: Depth, 5*3*3 = 45\n",
    "_4_dimention_array = np.array(np.arange(1,136)).reshape(5,3,3,3) #  row: 5, column: 3, Depth: 3, whole 3 dimentional array depth: 3\n",
    "print(_1_dimention_array)\n",
    "print(_2_dimention_array)\n",
    "print(_3_dimention_array)\n",
    "print(_4_dimention_array)"
   ]
  },
  {
   "cell_type": "code",
   "execution_count": 5,
   "metadata": {},
   "outputs": [
    {
     "output_type": "stream",
     "name": "stdout",
     "text": [
      "(9,) 1\n(5, 2) 2\n(5, 3, 3) 3\n(5, 3, 3, 3) 4\n"
     ]
    }
   ],
   "source": [
    "print(_1_dimention_array.shape,_1_dimention_array.ndim)\n",
    "print(_2_dimention_array.shape,_2_dimention_array.ndim)\n",
    "print(_3_dimention_array.shape,_3_dimention_array.ndim)\n",
    "print(_4_dimention_array.shape,_4_dimention_array.ndim)"
   ]
  },
  {
   "source": [
    "### Timing\n",
    "Why we should use array? although it's answer is annoying, but it's true: python numpy library written in C language.   Numpy computational power must faster than normal python list."
   ],
   "cell_type": "markdown",
   "metadata": {}
  },
  {
   "cell_type": "code",
   "execution_count": 6,
   "metadata": {},
   "outputs": [
    {
     "output_type": "stream",
     "name": "stdout",
     "text": [
      "Wall time: 320 ms\n"
     ]
    }
   ],
   "source": [
    "%time lis = [2*i for i in range(1000000)]"
   ]
  },
  {
   "cell_type": "code",
   "execution_count": 7,
   "metadata": {},
   "outputs": [
    {
     "output_type": "stream",
     "name": "stdout",
     "text": [
      "Wall time: 8.02 ms\n"
     ]
    },
    {
     "output_type": "execute_result",
     "data": {
      "text/plain": [
       "array([      2,       4,       6, ..., 1999994, 1999996, 1999998])"
      ]
     },
     "metadata": {},
     "execution_count": 7
    }
   ],
   "source": [
    "array = np.arange(1,1000000)\n",
    "%time array*2"
   ]
  },
  {
   "source": [
    "### Array Creation Function\n",
    "\n",
    "- asarray `Convert input to ndarray, but do not copy if the input is already an ndarray` &nbsp;\n",
    "- arange `Like the built-in range but returns an ndarray instead of a list` &nbsp;\n",
    "- ones `Produce an array of all 1s with the given shape and dtype` &nbsp;\n",
    "- ones_like `Produce an array of all 1s with the given shape and dtype; ones_like takes another array and produces a ones array of the same shape and dtype` &nbsp;\n",
    "- zeros `Like ones and ones_like but producing arrays of 0s instead` &nbsp;\n",
    "- zeros_like `zero reference`\n",
    "- empty `Create new arrays by allocating new memory, but do not populate with any values like ones and zeros` &nbsp; \n",
    "- empty_like `Above reference ` &nbsp;\n",
    "- full : `Produce an array of the given shape and dtype with all values set to the indicated “fill value”` &nbsp\n",
    "- full_like `Above reference`\n",
    "- full_like ` takes another array and produces a filled array of the same shape and dtype`\n",
    "- eye, identity `Create a square N × N identity matrix (1s on the diagonal and 0s elsewhere)`"
   ],
   "cell_type": "markdown",
   "metadata": {}
  },
  {
   "cell_type": "code",
   "execution_count": null,
   "metadata": {},
   "outputs": [],
   "source": []
  }
 ],
 "metadata": {
  "kernelspec": {
   "display_name": "Python 3",
   "language": "python",
   "name": "python3"
  },
  "language_info": {
   "codemirror_mode": {
    "name": "ipython",
    "version": 3
   },
   "file_extension": ".py",
   "mimetype": "text/x-python",
   "name": "python",
   "nbconvert_exporter": "python",
   "pygments_lexer": "ipython3",
   "version": "3.7.3-final"
  }
 },
 "nbformat": 4,
 "nbformat_minor": 2
}