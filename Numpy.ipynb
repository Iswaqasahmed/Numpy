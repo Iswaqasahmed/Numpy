{
 "cells": [
  {
   "cell_type": "markdown",
   "metadata": {},
   "source": [
    "Numpy is the fundamental package for numeric computing with Python. It provides powerful ways to create,\n",
    "store, and/or manipulate data, which makes it able to seamlessly and speedily integrate with a wide variety\n",
    "of databases. This is also the foundation that Pandas is built on, which is a high-performance data-centric\n",
    "package that we will learn later in the course.\n",
    "\n",
    "In this lecture, we will talk about creating array with certain data types, manipulating array, selecting\n",
    "elements from arrays, and loading dataset into array. Such functions are useful for manipulating data and\n",
    "understanding the functionalities of other common Python data packages."
   ]
  },
  {
   "cell_type": "code",
   "execution_count": 1,
   "metadata": {},
   "outputs": [],
   "source": [
    "# You'll recall that we import a library using the `import` keyword as numpy's common abbreviation is np\n",
    "import numpy as np # first import numpy module"
   ]
  },
  {
   "cell_type": "code",
   "execution_count": 2,
   "metadata": {},
   "outputs": [
    {
     "output_type": "execute_result",
     "data": {
      "text/plain": [
       "'1.18.5'"
      ]
     },
     "metadata": {},
     "execution_count": 2
    }
   ],
   "source": [
    "np.__version__   # there are different version of numpy, it's good approach to be touch with latest update. (tip)"
   ]
  },
  {
   "cell_type": "code",
   "execution_count": 3,
   "metadata": {},
   "outputs": [
    {
     "output_type": "stream",
     "name": "stdout",
     "text": [
      "Array [1 2 3 4 5 5 6 7 8 9], Type of arrayint32\n"
     ]
    }
   ],
   "source": [
    "lis = [1,2,3,4,5,5,6,7,8,9]\n",
    "_1dim = np.array(lis)\n",
    "print('Array {0}, Type of array{1}'.format(_1dim,_1dim.dtype))"
   ]
  },
  {
   "source": [
    "### Concept of Dimenstion in Array:\n",
    "`there are a lot of dimension to be possible in array. we should only focus of mostly and oftenly use.`"
   ],
   "cell_type": "markdown",
   "metadata": {}
  },
  {
   "cell_type": "code",
   "execution_count": 4,
   "metadata": {},
   "outputs": [
    {
     "output_type": "stream",
     "name": "stdout",
     "text": [
      "[1 2 3 4 5 6 7 8 9]\n[[ 1  2]\n [ 3  4]\n [ 5  6]\n [ 7  8]\n [ 9 10]]\n[[[ 1  2  3]\n  [ 4  5  6]\n  [ 7  8  9]]\n\n [[10 11 12]\n  [13 14 15]\n  [16 17 18]]\n\n [[19 20 21]\n  [22 23 24]\n  [25 26 27]]\n\n [[28 29 30]\n  [31 32 33]\n  [34 35 36]]\n\n [[37 38 39]\n  [40 41 42]\n  [43 44 45]]]\n[[[[  1   2   3]\n   [  4   5   6]\n   [  7   8   9]]\n\n  [[ 10  11  12]\n   [ 13  14  15]\n   [ 16  17  18]]\n\n  [[ 19  20  21]\n   [ 22  23  24]\n   [ 25  26  27]]]\n\n\n [[[ 28  29  30]\n   [ 31  32  33]\n   [ 34  35  36]]\n\n  [[ 37  38  39]\n   [ 40  41  42]\n   [ 43  44  45]]\n\n  [[ 46  47  48]\n   [ 49  50  51]\n   [ 52  53  54]]]\n\n\n [[[ 55  56  57]\n   [ 58  59  60]\n   [ 61  62  63]]\n\n  [[ 64  65  66]\n   [ 67  68  69]\n   [ 70  71  72]]\n\n  [[ 73  74  75]\n   [ 76  77  78]\n   [ 79  80  81]]]\n\n\n [[[ 82  83  84]\n   [ 85  86  87]\n   [ 88  89  90]]\n\n  [[ 91  92  93]\n   [ 94  95  96]\n   [ 97  98  99]]\n\n  [[100 101 102]\n   [103 104 105]\n   [106 107 108]]]\n\n\n [[[109 110 111]\n   [112 113 114]\n   [115 116 117]]\n\n  [[118 119 120]\n   [121 122 123]\n   [124 125 126]]\n\n  [[127 128 129]\n   [130 131 132]\n   [133 134 135]]]]\n"
     ]
    }
   ],
   "source": [
    "# **Note** np.arange(include,exclude)\n",
    "_1_dimention_array = np.array(np.arange(1,10))\n",
    "_2_dimention_array = np.array(np.arange(1,11)).reshape(5,2)  # 5: row, 2 : column. 5*2 : 10\n",
    "_3_dimention_array = np.array(np.arange(1,46)).reshape(5,3,3) # 5: row, 3: column, 3: Depth, 5*3*3 = 45\n",
    "_4_dimention_array = np.array(np.arange(1,136)).reshape(5,3,3,3) #  row: 5, column: 3, Depth: 3, whole 3 dimentional array depth: 3\n",
    "print(_1_dimention_array)\n",
    "print(_2_dimention_array)\n",
    "print(_3_dimention_array)\n",
    "print(_4_dimention_array)"
   ]
  },
  {
   "cell_type": "code",
   "execution_count": 5,
   "metadata": {},
   "outputs": [
    {
     "output_type": "stream",
     "name": "stdout",
     "text": [
      "(9,) 1\n(5, 2) 2\n(5, 3, 3) 3\n(5, 3, 3, 3) 4\n"
     ]
    }
   ],
   "source": [
    "print(_1_dimention_array.shape,_1_dimention_array.ndim)\n",
    "print(_2_dimention_array.shape,_2_dimention_array.ndim)\n",
    "print(_3_dimention_array.shape,_3_dimention_array.ndim)\n",
    "print(_4_dimention_array.shape,_4_dimention_array.ndim)"
   ]
  },
  {
   "source": [
    "### Timing\n",
    "Why we should use array? although it's answer is annoying, but it's true: python numpy library written in C language.   Numpy computational power must faster than normal python list."
   ],
   "cell_type": "markdown",
   "metadata": {}
  },
  {
   "cell_type": "code",
   "execution_count": 6,
   "metadata": {},
   "outputs": [
    {
     "output_type": "stream",
     "name": "stdout",
     "text": [
      "Wall time: 566 ms\n"
     ]
    }
   ],
   "source": [
    "%time lis = [2*i for i in range(1000000)]"
   ]
  },
  {
   "cell_type": "code",
   "execution_count": 7,
   "metadata": {},
   "outputs": [
    {
     "output_type": "stream",
     "name": "stdout",
     "text": [
      "Wall time: 6 ms\n"
     ]
    },
    {
     "output_type": "execute_result",
     "data": {
      "text/plain": [
       "array([      2,       4,       6, ..., 1999994, 1999996, 1999998])"
      ]
     },
     "metadata": {},
     "execution_count": 7
    }
   ],
   "source": [
    "array = np.arange(1,1000000)\n",
    "%time array*2"
   ]
  },
  {
   "source": [
    "### Array Creation Function\n",
    "\n",
    "- asarray `Convert input to ndarray, but do not copy if the input is already an ndarray` &nbsp;\n",
    "- arange `Like the built-in range but returns an ndarray instead of a list` &nbsp;\n",
    "- ones `Produce an array of all 1s with the given shape and dtype` &nbsp;\n",
    "- ones_like `Produce an array of all 1s with the given shape and dtype; ones_like takes another array and produces a ones array of the same shape and dtype` &nbsp;\n",
    "- zeros `Like ones and ones_like but producing arrays of 0s instead` &nbsp;\n",
    "- zeros_like `zero reference`\n",
    "- empty `Create new arrays by allocating new memory, but do not populate with any values like ones and zeros` &nbsp; \n",
    "- empty_like `Above reference ` &nbsp;\n",
    "- full : `Produce an array of the given shape and dtype with all values set to the indicated “fill value”` &nbsp\n",
    "- full_like `Above reference`\n",
    "- full_like ` takes another array and produces a filled array of the same shape and dtype`\n",
    "- eye, identity `Create a square N × N identity matrix (1s on the diagonal and 0s elsewhere)`"
   ],
   "cell_type": "markdown",
   "metadata": {}
  },
  {
   "source": [
    "#### Very interesting fact about numpy array. see example:"
   ],
   "cell_type": "markdown",
   "metadata": {}
  },
  {
   "cell_type": "code",
   "execution_count": 8,
   "metadata": {},
   "outputs": [
    {
     "output_type": "execute_result",
     "data": {
      "text/plain": [
       "array([0, 1, 2, 3, 4, 5, 6, 7, 8, 9])"
      ]
     },
     "metadata": {},
     "execution_count": 8
    }
   ],
   "source": [
    "array = np.arange(10)\n",
    "array"
   ]
  },
  {
   "cell_type": "code",
   "execution_count": 9,
   "metadata": {},
   "outputs": [
    {
     "output_type": "execute_result",
     "data": {
      "text/plain": [
       "array([4, 5, 6, 7, 8, 9])"
      ]
     },
     "metadata": {},
     "execution_count": 9
    }
   ],
   "source": [
    "new_array = array[4:]\n",
    "new_array"
   ]
  },
  {
   "cell_type": "code",
   "execution_count": 10,
   "metadata": {},
   "outputs": [
    {
     "output_type": "stream",
     "name": "stdout",
     "text": [
      "[[1. 1. 1.]\n [1. 1. 1.]]\n[1 1 1 1 1 1 1 1 1 1 1 1]\n"
     ]
    }
   ],
   "source": [
    "# ones and ones_like\n",
    "one = np.ones((2,3))     # numpy.ones(shape, dtype=None, order='C')\n",
    "print(one)\n",
    "one_like = np.ones_like(np.arange(12))  # it can be convert multi dimentional value of vector into multidimentional value of 1's\n",
    "print(one_like)            "
   ]
  },
  {
   "cell_type": "code",
   "execution_count": 11,
   "metadata": {},
   "outputs": [
    {
     "output_type": "stream",
     "name": "stdout",
     "text": [
      "[[0. 0. 0. 0.]\n [0. 0. 0. 0.]\n [0. 0. 0. 0.]\n [0. 0. 0. 0.]]\n[[0 0 0 0]\n [0 0 0 0]\n [0 0 0 0]\n [0 0 0 0]]\n"
     ]
    }
   ],
   "source": [
    "# Zero and Zero_like\n",
    "zero = np.zeros((4,4))\n",
    "print(zero)\n",
    "zero_like = np.zeros_like(np.arange(1,17).reshape(4,4))\n",
    "print(zero_like)\n"
   ]
  },
  {
   "cell_type": "code",
   "execution_count": 12,
   "metadata": {},
   "outputs": [
    {
     "output_type": "stream",
     "name": "stdout",
     "text": [
      "[[inf inf]\n [inf inf]]\n[['a' 'b']\n ['a' 'b']]\n"
     ]
    }
   ],
   "source": [
    "# full and full like\n",
    "# numpy.full(shape, fill_value, dtype=None, order='C')\n",
    "full = np.full((2,2),np.inf)\n",
    "print(full)\n",
    "full_coustome = np.full((2,2),['a','b'])\n",
    "print(full_coustome)\n"
   ]
  },
  {
   "cell_type": "code",
   "execution_count": 13,
   "metadata": {},
   "outputs": [
    {
     "output_type": "execute_result",
     "data": {
      "text/plain": [
       "array([1, 1, 1, 1, 1, 1])"
      ]
     },
     "metadata": {},
     "execution_count": 13
    }
   ],
   "source": [
    "# numpy.full_like(a, fill_value, dtype=None, order='K', subok=True, shape=None)\n",
    "full_like = np.full_like(np.arange(6),1)\n",
    "full_like\n",
    "full_like2 = np.full_like(np.arange(6),0.4)\n",
    "full_like\n"
   ]
  },
  {
   "cell_type": "code",
   "execution_count": 14,
   "metadata": {},
   "outputs": [
    {
     "output_type": "execute_result",
     "data": {
      "text/plain": [
       "array([[1., 0., 0., 0.],\n",
       "       [0., 1., 0., 0.],\n",
       "       [0., 0., 1., 0.],\n",
       "       [0., 0., 0., 1.]])"
      ]
     },
     "metadata": {},
     "execution_count": 14
    }
   ],
   "source": [
    "# eye or identity\n",
    "eye = np.eye(4)\n",
    "eye"
   ]
  },
  {
   "source": [
    "### Arithmetic with Numpy Array\n",
    "- Addition.\n",
    "- Substraction.\n",
    "- Division.\n",
    "- Multiplication.\n",
    "- Complex Number \n"
   ],
   "cell_type": "markdown",
   "metadata": {}
  },
  {
   "cell_type": "code",
   "execution_count": 15,
   "metadata": {},
   "outputs": [
    {
     "output_type": "stream",
     "name": "stdout",
     "text": [
      "***** Addition********\n[[ 2  4  6  8]\n [10 12 14 16]\n [18 20 22 24]\n [26 28 30 32]]\n*****Subtraction********\n[[ 2  4  6  8]\n [10 12 14 16]\n [18 20 22 24]\n [26 28 30 32]]\n*****Method 1: Multiplication********\n[[  1   4   9  16]\n [ 25  36  49  64]\n [ 81 100 121 144]\n [169 196 225 256]]\n*****Method 2: Multiplication********\n[[ 90 100 110 120]\n [202 228 254 280]\n [314 356 398 440]\n [426 484 542 600]]\n*****Division********\n[[1. 1. 1. 1.]\n [1. 1. 1. 1.]\n [1. 1. 1. 1.]\n [1. 1. 1. 1.]]\n"
     ]
    }
   ],
   "source": [
    "array1 = np.arange(1,17).reshape(4,4)\n",
    "array2 = np.arange(1,17).reshape(4,4)\n",
    "addition = array1 + array2\n",
    "print('***** Addition********')\n",
    "print(addition)\n",
    "subtraction = array1 + array2\n",
    "print('*****Subtraction********')\n",
    "print(subtraction)\n",
    "multiplication1 = array1*array2\n",
    "print('*****Method 1: Multiplication********')\n",
    "print(multiplication1)\n",
    "multiplication2 = array1 @ array2\n",
    "print('*****Method 2: Multiplication********')\n",
    "print(multiplication2)\n",
    "division = array1/array2\n",
    "print('*****Division********')\n",
    "print(division)\n"
   ]
  },
  {
   "source": [
    "### Slicing:\n",
    "`What is Slicing? selecting inside elements from array. It may be single or multidimentional slicing.\n"
   ],
   "cell_type": "markdown",
   "metadata": {}
  },
  {
   "cell_type": "code",
   "execution_count": 16,
   "metadata": {},
   "outputs": [
    {
     "output_type": "stream",
     "name": "stdout",
     "text": [
      "[1 2 3 4 5 6]\n[7 8 9]\n"
     ]
    }
   ],
   "source": [
    "# single dimention silicing.\n",
    "arr = np.array(np.arange(1,10))\n",
    "print(arr[:6]) \n",
    "print(arr[6:])"
   ]
  },
  {
   "source": [
    "### important fact about numpy "
   ],
   "cell_type": "markdown",
   "metadata": {}
  },
  {
   "cell_type": "code",
   "execution_count": 17,
   "metadata": {},
   "outputs": [
    {
     "output_type": "stream",
     "name": "stdout",
     "text": [
      "[1 2 3 4 5 6 0 0 0]\nAs you noticed that we chnage only new array but it's result also reflect at old arr\n"
     ]
    }
   ],
   "source": [
    "new_arr = arr[6:]\n",
    "new_arr[:] = 0\n",
    "print(arr)\n",
    "print(\"As you noticed that we chnage only new array but it's result also reflect at old arr\")"
   ]
  },
  {
   "cell_type": "code",
   "execution_count": 18,
   "metadata": {},
   "outputs": [
    {
     "output_type": "stream",
     "name": "stdout",
     "text": [
      "[0 0 0 0 0 0]\n[1 2 3 4 5 6 7 8 9]\n"
     ]
    }
   ],
   "source": [
    "arr2 = np.array(np.arange(1,10))\n",
    "copyarray = arr2[3:].copy()\n",
    "copyarray[:] = 0\n",
    "print(copyarray)\n",
    "print(arr2)"
   ]
  },
  {
   "cell_type": "code",
   "execution_count": 19,
   "metadata": {},
   "outputs": [
    {
     "output_type": "stream",
     "name": "stdout",
     "text": [
      "[[ 1  2  3  4]\n [ 5  6  7  8]\n [ 9 10 11 12]\n [13 14 15 16]]\n"
     ]
    }
   ],
   "source": [
    "# 2 dimentional slicing\n",
    "_2array = np.array(np.arange(1,17).reshape(4,4))\n",
    "print(_2array)"
   ]
  },
  {
   "cell_type": "code",
   "execution_count": 20,
   "metadata": {},
   "outputs": [
    {
     "output_type": "execute_result",
     "data": {
      "text/plain": [
       "array([1, 2, 3, 4])"
      ]
     },
     "metadata": {},
     "execution_count": 20
    }
   ],
   "source": [
    "_2array[0][:]"
   ]
  },
  {
   "cell_type": "code",
   "execution_count": 21,
   "metadata": {},
   "outputs": [
    {
     "output_type": "execute_result",
     "data": {
      "text/plain": [
       "array([[[ 1,  2,  3],\n",
       "        [ 4,  5,  6],\n",
       "        [ 7,  8,  9]],\n",
       "\n",
       "       [[10, 11, 12],\n",
       "        [13, 14, 15],\n",
       "        [16, 17, 18]],\n",
       "\n",
       "       [[19, 20, 21],\n",
       "        [22, 23, 24],\n",
       "        [25, 26, 27]]])"
      ]
     },
     "metadata": {},
     "execution_count": 21
    }
   ],
   "source": [
    " _3darr = np.array(np.arange(1,28).reshape(3,3,3))\n",
    " _3darr"
   ]
  },
  {
   "cell_type": "code",
   "execution_count": 22,
   "metadata": {},
   "outputs": [
    {
     "output_type": "execute_result",
     "data": {
      "text/plain": [
       "array([[1, 2, 3],\n",
       "       [4, 5, 6],\n",
       "       [7, 8, 9]])"
      ]
     },
     "metadata": {},
     "execution_count": 22
    }
   ],
   "source": [
    "x = _3darr[0]\n",
    "x"
   ]
  },
  {
   "cell_type": "code",
   "execution_count": 23,
   "metadata": {},
   "outputs": [
    {
     "output_type": "execute_result",
     "data": {
      "text/plain": [
       "array([1, 2, 3])"
      ]
     },
     "metadata": {},
     "execution_count": 23
    }
   ],
   "source": [
    "x[0]"
   ]
  },
  {
   "source": [
    "## Indexing Vs Slicing\n",
    "index means in array (numpy array), starting position of zero and till nth location. &nbsp;\n",
    "Slicing means break array into futher pieces.\n"
   ],
   "cell_type": "markdown",
   "metadata": {}
  },
  {
   "source": [
    "### Indexing with Slices"
   ],
   "cell_type": "markdown",
   "metadata": {}
  },
  {
   "cell_type": "code",
   "execution_count": 24,
   "metadata": {},
   "outputs": [
    {
     "output_type": "execute_result",
     "data": {
      "text/plain": [
       "array([2, 3, 4, 5, 6])"
      ]
     },
     "metadata": {},
     "execution_count": 24
    }
   ],
   "source": [
    "\n",
    "# first dimention\n",
    "arr[1:6]"
   ]
  },
  {
   "cell_type": "code",
   "execution_count": 25,
   "metadata": {},
   "outputs": [
    {
     "output_type": "execute_result",
     "data": {
      "text/plain": [
       "array([[ 1,  2,  3,  4],\n",
       "       [ 5,  6,  7,  8],\n",
       "       [ 9, 10, 11, 12],\n",
       "       [13, 14, 15, 16]])"
      ]
     },
     "metadata": {},
     "execution_count": 25
    }
   ],
   "source": [
    "_2array"
   ]
  },
  {
   "cell_type": "code",
   "execution_count": 26,
   "metadata": {},
   "outputs": [
    {
     "output_type": "execute_result",
     "data": {
      "text/plain": [
       "array([[1, 2, 3, 4],\n",
       "       [5, 6, 7, 8]])"
      ]
     },
     "metadata": {},
     "execution_count": 26
    }
   ],
   "source": [
    "_2array[:2]  # slicing at axis 0."
   ]
  },
  {
   "cell_type": "code",
   "execution_count": 27,
   "metadata": {},
   "outputs": [
    {
     "output_type": "execute_result",
     "data": {
      "text/plain": [
       "array([[2, 3, 4],\n",
       "       [6, 7, 8]])"
      ]
     },
     "metadata": {},
     "execution_count": 27
    }
   ],
   "source": [
    "_2array[:2,1:]"
   ]
  },
  {
   "cell_type": "code",
   "execution_count": 28,
   "metadata": {},
   "outputs": [
    {
     "output_type": "execute_result",
     "data": {
      "text/plain": [
       "array([[ 1],\n",
       "       [ 5],\n",
       "       [ 9],\n",
       "       [13]])"
      ]
     },
     "metadata": {},
     "execution_count": 28
    }
   ],
   "source": [
    "_2array[:,:1]"
   ]
  },
  {
   "cell_type": "code",
   "execution_count": 29,
   "metadata": {},
   "outputs": [
    {
     "output_type": "execute_result",
     "data": {
      "text/plain": [
       "array([[[ 1,  2,  3],\n",
       "        [ 4,  5,  6],\n",
       "        [ 7,  8,  9]],\n",
       "\n",
       "       [[10, 11, 12],\n",
       "        [13, 14, 15],\n",
       "        [16, 17, 18]],\n",
       "\n",
       "       [[19, 20, 21],\n",
       "        [22, 23, 24],\n",
       "        [25, 26, 27]]])"
      ]
     },
     "metadata": {},
     "execution_count": 29
    }
   ],
   "source": [
    "_3darr"
   ]
  },
  {
   "cell_type": "code",
   "execution_count": 30,
   "metadata": {},
   "outputs": [
    {
     "output_type": "execute_result",
     "data": {
      "text/plain": [
       "array([[1, 2, 3],\n",
       "       [4, 5, 6],\n",
       "       [7, 8, 9]])"
      ]
     },
     "metadata": {},
     "execution_count": 30
    }
   ],
   "source": [
    "x3 = _3darr[0]\n",
    "x3"
   ]
  },
  {
   "source": [
    "## Boolean Index"
   ],
   "cell_type": "markdown",
   "metadata": {}
  },
  {
   "cell_type": "code",
   "execution_count": 31,
   "metadata": {},
   "outputs": [],
   "source": [
    "string_list = np.array(['a','b','c','d','e','f'])\n",
    "numbers = np.random.rand(6,6)"
   ]
  },
  {
   "cell_type": "code",
   "execution_count": 32,
   "metadata": {},
   "outputs": [
    {
     "output_type": "stream",
     "name": "stdout",
     "text": [
      "['a' 'b' 'c' 'd' 'e' 'f']\n[[0.13468571 0.80917929 0.35349558 0.27801249 0.60289466 0.97161749]\n [0.3983225  0.73268425 0.81642255 0.43831872 0.31703072 0.92263061]\n [0.25424967 0.50060914 0.10331245 0.53803753 0.11547109 0.68044357]\n [0.59309544 0.98444145 0.5259599  0.26759493 0.86307332 0.14596533]\n [0.09031344 0.43147436 0.05734315 0.6424417  0.13442431 0.86466886]\n [0.24662554 0.4219166  0.51945804 0.76655941 0.23946776 0.43681532]]\n"
     ]
    }
   ],
   "source": [
    "print(string_list)\n",
    "print(numbers)"
   ]
  },
  {
   "cell_type": "code",
   "execution_count": 33,
   "metadata": {},
   "outputs": [
    {
     "output_type": "execute_result",
     "data": {
      "text/plain": [
       "array([ True, False, False, False, False, False])"
      ]
     },
     "metadata": {},
     "execution_count": 33
    }
   ],
   "source": [
    "string_list == 'a'"
   ]
  },
  {
   "cell_type": "code",
   "execution_count": 34,
   "metadata": {},
   "outputs": [
    {
     "output_type": "execute_result",
     "data": {
      "text/plain": [
       "array([[0.13468571, 0.80917929, 0.35349558, 0.27801249, 0.60289466,\n",
       "        0.97161749]])"
      ]
     },
     "metadata": {},
     "execution_count": 34
    }
   ],
   "source": [
    "numbers[string_list == 'a']"
   ]
  },
  {
   "cell_type": "code",
   "execution_count": 35,
   "metadata": {},
   "outputs": [
    {
     "output_type": "execute_result",
     "data": {
      "text/plain": [
       "array([[0.80917929, 0.35349558, 0.27801249]])"
      ]
     },
     "metadata": {},
     "execution_count": 35
    }
   ],
   "source": [
    "numbers[string_list == 'a' ,1:4]"
   ]
  },
  {
   "cell_type": "code",
   "execution_count": 36,
   "metadata": {},
   "outputs": [
    {
     "output_type": "execute_result",
     "data": {
      "text/plain": [
       "array([0.80917929])"
      ]
     },
     "metadata": {},
     "execution_count": 36
    }
   ],
   "source": [
    "numbers[string_list == 'a' ,1]"
   ]
  },
  {
   "cell_type": "code",
   "execution_count": 37,
   "metadata": {},
   "outputs": [
    {
     "output_type": "execute_result",
     "data": {
      "text/plain": [
       "array([[0.3983225 , 0.73268425, 0.81642255, 0.43831872, 0.31703072,\n",
       "        0.92263061],\n",
       "       [0.25424967, 0.50060914, 0.10331245, 0.53803753, 0.11547109,\n",
       "        0.68044357],\n",
       "       [0.59309544, 0.98444145, 0.5259599 , 0.26759493, 0.86307332,\n",
       "        0.14596533],\n",
       "       [0.09031344, 0.43147436, 0.05734315, 0.6424417 , 0.13442431,\n",
       "        0.86466886],\n",
       "       [0.24662554, 0.4219166 , 0.51945804, 0.76655941, 0.23946776,\n",
       "        0.43681532]])"
      ]
     },
     "metadata": {},
     "execution_count": 37
    }
   ],
   "source": [
    "numbers[string_list != 'a' ]"
   ]
  },
  {
   "cell_type": "code",
   "execution_count": 38,
   "metadata": {},
   "outputs": [],
   "source": [
    "invert = string_list == 'a'"
   ]
  },
  {
   "cell_type": "code",
   "execution_count": 39,
   "metadata": {},
   "outputs": [
    {
     "output_type": "execute_result",
     "data": {
      "text/plain": [
       "array([ True, False, False, False, False, False])"
      ]
     },
     "metadata": {},
     "execution_count": 39
    }
   ],
   "source": [
    "invert"
   ]
  },
  {
   "cell_type": "code",
   "execution_count": 40,
   "metadata": {},
   "outputs": [
    {
     "output_type": "execute_result",
     "data": {
      "text/plain": [
       "array([[0.3983225 , 0.73268425, 0.81642255, 0.43831872, 0.31703072,\n",
       "        0.92263061],\n",
       "       [0.25424967, 0.50060914, 0.10331245, 0.53803753, 0.11547109,\n",
       "        0.68044357],\n",
       "       [0.59309544, 0.98444145, 0.5259599 , 0.26759493, 0.86307332,\n",
       "        0.14596533],\n",
       "       [0.09031344, 0.43147436, 0.05734315, 0.6424417 , 0.13442431,\n",
       "        0.86466886],\n",
       "       [0.24662554, 0.4219166 , 0.51945804, 0.76655941, 0.23946776,\n",
       "        0.43681532]])"
      ]
     },
     "metadata": {},
     "execution_count": 40
    }
   ],
   "source": [
    "numbers[~invert]"
   ]
  },
  {
   "source": [
    "### Logical Operator or Bitwise opeartor\n",
    "- instead of or (python) we use | (pipe symbol)\n",
    "- instead of and (python) we use and (simple english word and)"
   ],
   "cell_type": "markdown",
   "metadata": {}
  },
  {
   "cell_type": "code",
   "execution_count": 41,
   "metadata": {},
   "outputs": [
    {
     "output_type": "stream",
     "name": "stdout",
     "text": [
      "[ True  True False False False False]\n"
     ]
    }
   ],
   "source": [
    "bitwise = (string_list == 'a') | (string_list == 'b')\n",
    "print(bitwise)"
   ]
  },
  {
   "cell_type": "code",
   "execution_count": 42,
   "metadata": {},
   "outputs": [
    {
     "output_type": "execute_result",
     "data": {
      "text/plain": [
       "array([[0.13468571, 0.80917929, 0.35349558, 0.27801249, 0.60289466,\n",
       "        0.97161749],\n",
       "       [0.3983225 , 0.73268425, 0.81642255, 0.43831872, 0.31703072,\n",
       "        0.92263061]])"
      ]
     },
     "metadata": {},
     "execution_count": 42
    }
   ],
   "source": [
    "numbers[bitwise]"
   ]
  },
  {
   "cell_type": "code",
   "execution_count": 43,
   "metadata": {},
   "outputs": [
    {
     "output_type": "execute_result",
     "data": {
      "text/plain": [
       "array([0.13468571, 0.27801249, 0.25424967, 0.10331245, 0.11547109,\n",
       "       0.26759493, 0.14596533, 0.09031344, 0.05734315, 0.13442431,\n",
       "       0.24662554, 0.23946776])"
      ]
     },
     "metadata": {},
     "execution_count": 43
    }
   ],
   "source": [
    "numbers[numbers <= 0.3]"
   ]
  },
  {
   "cell_type": "code",
   "execution_count": 44,
   "metadata": {},
   "outputs": [],
   "source": [
    "numbers[numbers <= 0.2] = 'NAN'"
   ]
  },
  {
   "cell_type": "code",
   "execution_count": 45,
   "metadata": {},
   "outputs": [
    {
     "output_type": "execute_result",
     "data": {
      "text/plain": [
       "array([[       nan, 0.80917929, 0.35349558, 0.27801249, 0.60289466,\n",
       "        0.97161749],\n",
       "       [0.3983225 , 0.73268425, 0.81642255, 0.43831872, 0.31703072,\n",
       "        0.92263061],\n",
       "       [0.25424967, 0.50060914,        nan, 0.53803753,        nan,\n",
       "        0.68044357],\n",
       "       [0.59309544, 0.98444145, 0.5259599 , 0.26759493, 0.86307332,\n",
       "               nan],\n",
       "       [       nan, 0.43147436,        nan, 0.6424417 ,        nan,\n",
       "        0.86466886],\n",
       "       [0.24662554, 0.4219166 , 0.51945804, 0.76655941, 0.23946776,\n",
       "        0.43681532]])"
      ]
     },
     "metadata": {},
     "execution_count": 45
    }
   ],
   "source": [
    "numbers"
   ]
  },
  {
   "cell_type": "code",
   "execution_count": 46,
   "metadata": {},
   "outputs": [
    {
     "output_type": "execute_result",
     "data": {
      "text/plain": [
       "array([[        nan,  0.80917929,  0.35349558,  0.27801249,  0.60289466,\n",
       "         0.97161749],\n",
       "       [10.        , 10.        , 10.        , 10.        , 10.        ,\n",
       "        10.        ],\n",
       "       [10.        , 10.        , 10.        , 10.        , 10.        ,\n",
       "        10.        ],\n",
       "       [10.        , 10.        , 10.        , 10.        , 10.        ,\n",
       "        10.        ],\n",
       "       [10.        , 10.        , 10.        , 10.        , 10.        ,\n",
       "        10.        ],\n",
       "       [10.        , 10.        , 10.        , 10.        , 10.        ,\n",
       "        10.        ]])"
      ]
     },
     "metadata": {},
     "execution_count": 46
    }
   ],
   "source": [
    "numbers[string_list != 'a'] = 10\n",
    "numbers\n"
   ]
  },
  {
   "source": [
    "# Fancy Indexing"
   ],
   "cell_type": "markdown",
   "metadata": {}
  },
  {
   "cell_type": "code",
   "execution_count": 47,
   "metadata": {},
   "outputs": [
    {
     "output_type": "execute_result",
     "data": {
      "text/plain": [
       "array([44, 81, 64,  9, 91, 16, 98, 55, 75, 79])"
      ]
     },
     "metadata": {},
     "execution_count": 47
    }
   ],
   "source": [
    "np.random.randint(100,size=10)"
   ]
  },
  {
   "cell_type": "code",
   "execution_count": 48,
   "metadata": {},
   "outputs": [],
   "source": [
    "fancyarry =  np.arange(10)"
   ]
  },
  {
   "cell_type": "code",
   "execution_count": 49,
   "metadata": {},
   "outputs": [
    {
     "output_type": "execute_result",
     "data": {
      "text/plain": [
       "[4, 2, 0]"
      ]
     },
     "metadata": {},
     "execution_count": 49
    }
   ],
   "source": [
    "[fancyarry[4],fancyarry[2],fancyarry[0]]\n"
   ]
  },
  {
   "cell_type": "code",
   "execution_count": 50,
   "metadata": {},
   "outputs": [
    {
     "output_type": "execute_result",
     "data": {
      "text/plain": [
       "array([4, 2, 0])"
      ]
     },
     "metadata": {},
     "execution_count": 50
    }
   ],
   "source": [
    "fancyarry[[4,2,0]]"
   ]
  },
  {
   "cell_type": "code",
   "execution_count": 51,
   "metadata": {},
   "outputs": [],
   "source": [
    "fancyindex = np.empty((10,10))\n",
    "for i in range(10):\n",
    "    fancyindex[i] = i"
   ]
  },
  {
   "cell_type": "code",
   "execution_count": 52,
   "metadata": {},
   "outputs": [
    {
     "output_type": "execute_result",
     "data": {
      "text/plain": [
       "array([[0., 0., 0., 0., 0., 0., 0., 0., 0., 0.],\n",
       "       [1., 1., 1., 1., 1., 1., 1., 1., 1., 1.],\n",
       "       [2., 2., 2., 2., 2., 2., 2., 2., 2., 2.],\n",
       "       [3., 3., 3., 3., 3., 3., 3., 3., 3., 3.],\n",
       "       [4., 4., 4., 4., 4., 4., 4., 4., 4., 4.],\n",
       "       [5., 5., 5., 5., 5., 5., 5., 5., 5., 5.],\n",
       "       [6., 6., 6., 6., 6., 6., 6., 6., 6., 6.],\n",
       "       [7., 7., 7., 7., 7., 7., 7., 7., 7., 7.],\n",
       "       [8., 8., 8., 8., 8., 8., 8., 8., 8., 8.],\n",
       "       [9., 9., 9., 9., 9., 9., 9., 9., 9., 9.]])"
      ]
     },
     "metadata": {},
     "execution_count": 52
    }
   ],
   "source": [
    "fancyindex"
   ]
  },
  {
   "cell_type": "code",
   "execution_count": 53,
   "metadata": {},
   "outputs": [
    {
     "output_type": "execute_result",
     "data": {
      "text/plain": [
       "array([0., 0., 0., 0., 0., 0., 0., 0., 0., 0.])"
      ]
     },
     "metadata": {},
     "execution_count": 53
    }
   ],
   "source": [
    "fancyindex[0]"
   ]
  },
  {
   "cell_type": "code",
   "execution_count": 54,
   "metadata": {},
   "outputs": [
    {
     "output_type": "execute_result",
     "data": {
      "text/plain": [
       "array([[0., 0., 0., 0., 0., 0., 0., 0., 0., 0.],\n",
       "       [5., 5., 5., 5., 5., 5., 5., 5., 5., 5.]])"
      ]
     },
     "metadata": {},
     "execution_count": 54
    }
   ],
   "source": [
    "fancyindex[[0,5]]"
   ]
  },
  {
   "cell_type": "code",
   "execution_count": 55,
   "metadata": {},
   "outputs": [
    {
     "output_type": "execute_result",
     "data": {
      "text/plain": [
       "array([[ 0,  1,  2,  3],\n",
       "       [ 4,  5,  6,  7],\n",
       "       [ 8,  9, 10, 11],\n",
       "       [12, 13, 14, 15]])"
      ]
     },
     "metadata": {},
     "execution_count": 55
    }
   ],
   "source": [
    "fancyindex2 = np.arange(16).reshape(4,4)\n",
    "fancyindex2"
   ]
  },
  {
   "cell_type": "code",
   "execution_count": 56,
   "metadata": {},
   "outputs": [
    {
     "output_type": "execute_result",
     "data": {
      "text/plain": [
       "array([ 1, 13])"
      ]
     },
     "metadata": {},
     "execution_count": 56
    }
   ],
   "source": [
    "fancyindex2[[0,3],[1]]"
   ]
  },
  {
   "cell_type": "code",
   "execution_count": 57,
   "metadata": {},
   "outputs": [
    {
     "output_type": "execute_result",
     "data": {
      "text/plain": [
       "array([[ 1,  0,  3,  2],\n",
       "       [ 9,  8, 11, 10]])"
      ]
     },
     "metadata": {},
     "execution_count": 57
    }
   ],
   "source": [
    "fancyindex2[[0,2]][:,[1,0,3,2]]"
   ]
  },
  {
   "cell_type": "code",
   "execution_count": 58,
   "metadata": {},
   "outputs": [
    {
     "output_type": "execute_result",
     "data": {
      "text/plain": [
       "array([[[ 0,  1,  2],\n",
       "        [ 3,  4,  5],\n",
       "        [ 6,  7,  8]],\n",
       "\n",
       "       [[ 9, 10, 11],\n",
       "        [12, 13, 14],\n",
       "        [15, 16, 17]],\n",
       "\n",
       "       [[18, 19, 20],\n",
       "        [21, 22, 23],\n",
       "        [24, 25, 26]]])"
      ]
     },
     "metadata": {},
     "execution_count": 58
    }
   ],
   "source": [
    "# three dimentional\n",
    "fancyindex3 = np.arange(27).reshape(3,3,3)\n",
    "fancyindex3"
   ]
  },
  {
   "cell_type": "code",
   "execution_count": 59,
   "metadata": {},
   "outputs": [
    {
     "output_type": "execute_result",
     "data": {
      "text/plain": [
       "array([[ 0,  1,  2],\n",
       "       [21, 22, 23],\n",
       "       [ 9, 10, 11]])"
      ]
     },
     "metadata": {},
     "execution_count": 59
    }
   ],
   "source": [
    "fancyindex3[[0,2,1],[0,1,0]]"
   ]
  },
  {
   "source": [
    "### Transposing Array and Swapping Axes\n",
    "\n"
   ],
   "cell_type": "markdown",
   "metadata": {}
  },
  {
   "cell_type": "code",
   "execution_count": 60,
   "metadata": {},
   "outputs": [
    {
     "output_type": "stream",
     "name": "stdout",
     "text": [
      "Befor Transpose \n****************************\n[0 1 2 3 4 5 6 7 8 9]\n\nAfter Transpose \n****************************\n\n[0 1 2 3 4 5 6 7 8 9]\n\nBefor Transpose \n****************************\n[[ 0  1  2  3]\n [ 4  5  6  7]\n [ 8  9 10 11]\n [12 13 14 15]]\nAfter Transpose \n****************************\n\n[[ 0  4  8 12]\n [ 1  5  9 13]\n [ 2  6 10 14]\n [ 3  7 11 15]]\n\nBefor Transpose \n****************************\n[[[ 0  1]\n  [ 2  3]\n  [ 4  5]\n  [ 6  7]]\n\n [[ 8  9]\n  [10 11]\n  [12 13]\n  [14 15]]\n\n [[16 17]\n  [18 19]\n  [20 21]\n  [22 23]]\n\n [[24 25]\n  [26 27]\n  [28 29]\n  [30 31]]]\nAfter Transpose \n****************************\n[[[ 0  8 16 24]\n  [ 2 10 18 26]\n  [ 4 12 20 28]\n  [ 6 14 22 30]]\n\n [[ 1  9 17 25]\n  [ 3 11 19 27]\n  [ 5 13 21 29]\n  [ 7 15 23 31]]]\n"
     ]
    }
   ],
   "source": [
    "# one dimentional swap\n",
    "\n",
    "onedimtranspose = np.arange(10)\n",
    "print(\"Befor Transpose \\n****************************\")\n",
    "print(onedimtranspose)\n",
    "print(\"\\nAfter Transpose \\n****************************\\n\")\n",
    "print(onedimtranspose.T)\n",
    "twodimtranspose = np.arange(16).reshape(4,4)\n",
    "print(\"\\nBefor Transpose \\n****************************\")\n",
    "print(twodimtranspose)\n",
    "print(\"After Transpose \\n****************************\\n\")\n",
    "print(twodimtranspose.T)\n",
    "threedimtranspose = np.arange(32).reshape(4,4,2)\n",
    "print(\"\\nBefor Transpose \\n****************************\")\n",
    "print(threedimtranspose)\n",
    "print(\"After Transpose \\n****************************\")\n",
    "print(threedimtranspose.T)\n",
    "\n"
   ]
  },
  {
   "cell_type": "code",
   "execution_count": 61,
   "metadata": {},
   "outputs": [
    {
     "output_type": "execute_result",
     "data": {
      "text/plain": [
       "array([[0, 3, 6],\n",
       "       [1, 4, 7],\n",
       "       [2, 5, 8]])"
      ]
     },
     "metadata": {},
     "execution_count": 61
    }
   ],
   "source": [
    "# swapeaxis\n",
    "np.arange(9).reshape(3,3).swapaxes(0,1)"
   ]
  },
  {
   "source": [
    "### Universal Function : Fast Element Wise Array\n",
    " - abs, fabs : Compute the absolute value element-wise for integer, floating-point, or complex values\n",
    "- sqrt : Compute the square root of each element (equivalent to arr ** 0.5)\n",
    "- square : Compute the square of each element (equivalent to arr ** 2)\n",
    "- exp : Compute the exponent ex of each element\n",
    "- log, log10 : Natural logarithm (base e), log base 10, log base 2, and log(1 + x), respectively\n",
    "- log2, log1p : sign Compute the sign of each element: 1 (positive), 0 (zero), or –1 (negative)\n",
    "- ceil :  Compute the ceiling of each element (i.e., the smallest integer greater than or equal to that\n",
    "- number)\n",
    "- floor : Compute the floor of each element (i.e., the largest integer less than or equal to each element)\n",
    "- rint : Round elements to the nearest integer, preserving the dtype\n",
    "- modf :vReturn fractional and integral parts of array as a separate array\n",
    "- isnan : Return boolean array indicating whether each value is NaN (Not a Number)\n",
    "- isfinite, isinf : Return boolean array indicating whether each element is finite (non-inf, non-NaN) or infinite,\n",
    "- respectively\n",
    "- cos, cosh, sin,\n",
    "- sinh, tan, tanh\n",
    "- Regular and hyperbolic trigonometric functions\n",
    "- arccos, arccosh,\n",
    "- arcsin, arcsinh,\n",
    "- arctan, arctanh\n",
    "- Inverse trigonometric functions\n",
    "- logical_not Compute truth value of not x element-wise (equivalent to ~arr)."
   ],
   "cell_type": "markdown",
   "metadata": {}
  },
  {
   "cell_type": "code",
   "execution_count": 62,
   "metadata": {},
   "outputs": [
    {
     "output_type": "stream",
     "name": "stdout",
     "text": [
      "[0 1 2 3 4 5 6 7 8 9]\n[0.         1.         1.41421356 1.73205081 2.         2.23606798\n 2.44948974 2.64575131 2.82842712 3.        ]\n[ 0  1  4  9 16 25 36 49 64 81]\n[1.00000000e+00 2.71828183e+00 7.38905610e+00 2.00855369e+01\n 5.45981500e+01 1.48413159e+02 4.03428793e+02 1.09663316e+03\n 2.98095799e+03 8.10308393e+03]\n[      -inf 0.         0.69314718 1.09861229 1.38629436 1.60943791\n 1.79175947 1.94591015 2.07944154 2.19722458]\n[0. 1. 2. 3. 4. 5. 6. 7. 8. 9.]\n"
     ]
    }
   ],
   "source": [
    "arr = np.array(np.arange(10))\n",
    "print(np.abs(arr))\n",
    "print(np.sqrt(arr))\n",
    "print(np.square(arr))\n",
    "print(np.exp(arr))\n",
    "print(np.log(arr))\n",
    "print(np.floor(arr))"
   ]
  },
  {
   "source": [
    "### Array Oriented Programming with numpy Array"
   ],
   "cell_type": "markdown",
   "metadata": {}
  },
  {
   "cell_type": "code",
   "execution_count": 63,
   "metadata": {},
   "outputs": [],
   "source": [
    "points = np.arange(-5,5,0.01)"
   ]
  },
  {
   "cell_type": "code",
   "execution_count": 64,
   "metadata": {},
   "outputs": [
    {
     "output_type": "stream",
     "name": "stdout",
     "text": [
      "[[-5.   -4.99 -4.98 ...  4.97  4.98  4.99]\n [-5.   -4.99 -4.98 ...  4.97  4.98  4.99]\n [-5.   -4.99 -4.98 ...  4.97  4.98  4.99]\n ...\n [-5.   -4.99 -4.98 ...  4.97  4.98  4.99]\n [-5.   -4.99 -4.98 ...  4.97  4.98  4.99]\n [-5.   -4.99 -4.98 ...  4.97  4.98  4.99]]\n"
     ]
    }
   ],
   "source": [
    "xs,ys = np.meshgrid(points,points)\n",
    "print(xs)"
   ]
  },
  {
   "cell_type": "code",
   "execution_count": 65,
   "metadata": {},
   "outputs": [
    {
     "output_type": "stream",
     "name": "stdout",
     "text": [
      "[[7.07106781 7.06400028 7.05693985 ... 7.04988652 7.05693985 7.06400028]\n",
      " [7.06400028 7.05692568 7.04985815 ... 7.04279774 7.04985815 7.05692568]\n",
      " [7.05693985 7.04985815 7.04278354 ... 7.03571603 7.04278354 7.04985815]\n",
      " ...\n",
      " [7.04988652 7.04279774 7.03571603 ... 7.0286414  7.03571603 7.04279774]\n",
      " [7.05693985 7.04985815 7.04278354 ... 7.03571603 7.04278354 7.04985815]\n",
      " [7.06400028 7.05692568 7.04985815 ... 7.04279774 7.04985815 7.05692568]]\n"
     ]
    }
   ],
   "source": [
    "distance = np.sqrt(xs**2 + ys**2)\n",
    "print(distance)"
   ]
  },
  {
   "cell_type": "code",
   "execution_count": 66,
   "metadata": {},
   "outputs": [],
   "source": [
    "import matplotlib.pyplot as plt"
   ]
  },
  {
   "cell_type": "code",
   "execution_count": 67,
   "metadata": {},
   "outputs": [
    {
     "output_type": "execute_result",
     "data": {
      "text/plain": [
       "Text(0.5, 1.0, 'image plot of distance ')"
      ]
     },
     "metadata": {},
     "execution_count": 67
    },
    {
     "output_type": "display_data",
     "data": {
      "text/plain": "<Figure size 432x288 with 2 Axes>",
      "image/svg+xml": "<?xml version=\"1.0\" encoding=\"utf-8\" standalone=\"no\"?>\r\n<!DOCTYPE svg PUBLIC \"-//W3C//DTD SVG 1.1//EN\"\r\n  \"http://www.w3.org/Graphics/SVG/1.1/DTD/svg11.dtd\">\r\n<!-- Created with matplotlib (https://matplotlib.org/) -->\r\n<svg height=\"263.63625pt\" version=\"1.1\" viewBox=\"0 0 298.902 263.63625\" width=\"298.902pt\" xmlns=\"http://www.w3.org/2000/svg\" xmlns:xlink=\"http://www.w3.org/1999/xlink\">\r\n <defs>\r\n  <style type=\"text/css\">\r\n*{stroke-linecap:butt;stroke-linejoin:round;}\r\n  </style>\r\n </defs>\r\n <g id=\"figure_1\">\r\n  <g id=\"patch_1\">\r\n   <path d=\"M 0 263.63625 \r\nL 298.902 263.63625 \r\nL 298.902 0 \r\nL 0 0 \r\nz\r\n\" style=\"fill:none;\"/>\r\n  </g>\r\n  <g id=\"axes_1\">\r\n   <g id=\"patch_2\">\r\n    <path d=\"M 33.2875 239.758125 \r\nL 250.7275 239.758125 \r\nL 250.7275 22.318125 \r\nL 33.2875 22.318125 \r\nz\r\n\" style=\"fill:#ffffff;\"/>\r\n   </g>\r\n   <g clip-path=\"url(#p1c0ce9906f)\">\r\n    <image height=\"218\" id=\"image04cb9d6f62\" transform=\"scale(1 -1)translate(0 -218)\" width=\"218\" x=\"33.2875\" xlink:href=\"data:image/png;base64,\r\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\" y=\"-21.758125\"/>\r\n   </g>\r\n   <g id=\"matplotlib.axis_1\">\r\n    <g id=\"xtick_1\">\r\n     <g id=\"line2d_1\">\r\n      <defs>\r\n       <path d=\"M 0 0 \r\nL 0 3.5 \r\n\" id=\"mbe8e3a9b5f\" style=\"stroke:#000000;stroke-width:0.8;\"/>\r\n      </defs>\r\n      <g>\r\n       <use style=\"stroke:#000000;stroke-width:0.8;\" x=\"33.39622\" xlink:href=\"#mbe8e3a9b5f\" y=\"239.758125\"/>\r\n      </g>\r\n     </g>\r\n     <g id=\"text_1\">\r\n      <!-- 0 -->\r\n      <defs>\r\n       <path d=\"M 31.78125 66.40625 \r\nQ 24.171875 66.40625 20.328125 58.90625 \r\nQ 16.5 51.421875 16.5 36.375 \r\nQ 16.5 21.390625 20.328125 13.890625 \r\nQ 24.171875 6.390625 31.78125 6.390625 \r\nQ 39.453125 6.390625 43.28125 13.890625 \r\nQ 47.125 21.390625 47.125 36.375 \r\nQ 47.125 51.421875 43.28125 58.90625 \r\nQ 39.453125 66.40625 31.78125 66.40625 \r\nz\r\nM 31.78125 74.21875 \r\nQ 44.046875 74.21875 50.515625 64.515625 \r\nQ 56.984375 54.828125 56.984375 36.375 \r\nQ 56.984375 17.96875 50.515625 8.265625 \r\nQ 44.046875 -1.421875 31.78125 -1.421875 \r\nQ 19.53125 -1.421875 13.0625 8.265625 \r\nQ 6.59375 17.96875 6.59375 36.375 \r\nQ 6.59375 54.828125 13.0625 64.515625 \r\nQ 19.53125 74.21875 31.78125 74.21875 \r\nz\r\n\" id=\"DejaVuSans-48\"/>\r\n      </defs>\r\n      <g transform=\"translate(30.21497 254.356563)scale(0.1 -0.1)\">\r\n       <use xlink:href=\"#DejaVuSans-48\"/>\r\n      </g>\r\n     </g>\r\n    </g>\r\n    <g id=\"xtick_2\">\r\n     <g id=\"line2d_2\">\r\n      <g>\r\n       <use style=\"stroke:#000000;stroke-width:0.8;\" x=\"76.88422\" xlink:href=\"#mbe8e3a9b5f\" y=\"239.758125\"/>\r\n      </g>\r\n     </g>\r\n     <g id=\"text_2\">\r\n      <!-- 200 -->\r\n      <defs>\r\n       <path d=\"M 19.1875 8.296875 \r\nL 53.609375 8.296875 \r\nL 53.609375 0 \r\nL 7.328125 0 \r\nL 7.328125 8.296875 \r\nQ 12.9375 14.109375 22.625 23.890625 \r\nQ 32.328125 33.6875 34.8125 36.53125 \r\nQ 39.546875 41.84375 41.421875 45.53125 \r\nQ 43.3125 49.21875 43.3125 52.78125 \r\nQ 43.3125 58.59375 39.234375 62.25 \r\nQ 35.15625 65.921875 28.609375 65.921875 \r\nQ 23.96875 65.921875 18.8125 64.3125 \r\nQ 13.671875 62.703125 7.8125 59.421875 \r\nL 7.8125 69.390625 \r\nQ 13.765625 71.78125 18.9375 73 \r\nQ 24.125 74.21875 28.421875 74.21875 \r\nQ 39.75 74.21875 46.484375 68.546875 \r\nQ 53.21875 62.890625 53.21875 53.421875 \r\nQ 53.21875 48.921875 51.53125 44.890625 \r\nQ 49.859375 40.875 45.40625 35.40625 \r\nQ 44.1875 33.984375 37.640625 27.21875 \r\nQ 31.109375 20.453125 19.1875 8.296875 \r\nz\r\n\" id=\"DejaVuSans-50\"/>\r\n      </defs>\r\n      <g transform=\"translate(67.34047 254.356563)scale(0.1 -0.1)\">\r\n       <use xlink:href=\"#DejaVuSans-50\"/>\r\n       <use x=\"63.623047\" xlink:href=\"#DejaVuSans-48\"/>\r\n       <use x=\"127.246094\" xlink:href=\"#DejaVuSans-48\"/>\r\n      </g>\r\n     </g>\r\n    </g>\r\n    <g id=\"xtick_3\">\r\n     <g id=\"line2d_3\">\r\n      <g>\r\n       <use style=\"stroke:#000000;stroke-width:0.8;\" x=\"120.37222\" xlink:href=\"#mbe8e3a9b5f\" y=\"239.758125\"/>\r\n      </g>\r\n     </g>\r\n     <g id=\"text_3\">\r\n      <!-- 400 -->\r\n      <defs>\r\n       <path d=\"M 37.796875 64.3125 \r\nL 12.890625 25.390625 \r\nL 37.796875 25.390625 \r\nz\r\nM 35.203125 72.90625 \r\nL 47.609375 72.90625 \r\nL 47.609375 25.390625 \r\nL 58.015625 25.390625 \r\nL 58.015625 17.1875 \r\nL 47.609375 17.1875 \r\nL 47.609375 0 \r\nL 37.796875 0 \r\nL 37.796875 17.1875 \r\nL 4.890625 17.1875 \r\nL 4.890625 26.703125 \r\nz\r\n\" id=\"DejaVuSans-52\"/>\r\n      </defs>\r\n      <g transform=\"translate(110.82847 254.356563)scale(0.1 -0.1)\">\r\n       <use xlink:href=\"#DejaVuSans-52\"/>\r\n       <use x=\"63.623047\" xlink:href=\"#DejaVuSans-48\"/>\r\n       <use x=\"127.246094\" xlink:href=\"#DejaVuSans-48\"/>\r\n      </g>\r\n     </g>\r\n    </g>\r\n    <g id=\"xtick_4\">\r\n     <g id=\"line2d_4\">\r\n      <g>\r\n       <use style=\"stroke:#000000;stroke-width:0.8;\" x=\"163.86022\" xlink:href=\"#mbe8e3a9b5f\" y=\"239.758125\"/>\r\n      </g>\r\n     </g>\r\n     <g id=\"text_4\">\r\n      <!-- 600 -->\r\n      <defs>\r\n       <path d=\"M 33.015625 40.375 \r\nQ 26.375 40.375 22.484375 35.828125 \r\nQ 18.609375 31.296875 18.609375 23.390625 \r\nQ 18.609375 15.53125 22.484375 10.953125 \r\nQ 26.375 6.390625 33.015625 6.390625 \r\nQ 39.65625 6.390625 43.53125 10.953125 \r\nQ 47.40625 15.53125 47.40625 23.390625 \r\nQ 47.40625 31.296875 43.53125 35.828125 \r\nQ 39.65625 40.375 33.015625 40.375 \r\nz\r\nM 52.59375 71.296875 \r\nL 52.59375 62.3125 \r\nQ 48.875 64.0625 45.09375 64.984375 \r\nQ 41.3125 65.921875 37.59375 65.921875 \r\nQ 27.828125 65.921875 22.671875 59.328125 \r\nQ 17.53125 52.734375 16.796875 39.40625 \r\nQ 19.671875 43.65625 24.015625 45.921875 \r\nQ 28.375 48.1875 33.59375 48.1875 \r\nQ 44.578125 48.1875 50.953125 41.515625 \r\nQ 57.328125 34.859375 57.328125 23.390625 \r\nQ 57.328125 12.15625 50.6875 5.359375 \r\nQ 44.046875 -1.421875 33.015625 -1.421875 \r\nQ 20.359375 -1.421875 13.671875 8.265625 \r\nQ 6.984375 17.96875 6.984375 36.375 \r\nQ 6.984375 53.65625 15.1875 63.9375 \r\nQ 23.390625 74.21875 37.203125 74.21875 \r\nQ 40.921875 74.21875 44.703125 73.484375 \r\nQ 48.484375 72.75 52.59375 71.296875 \r\nz\r\n\" id=\"DejaVuSans-54\"/>\r\n      </defs>\r\n      <g transform=\"translate(154.31647 254.356563)scale(0.1 -0.1)\">\r\n       <use xlink:href=\"#DejaVuSans-54\"/>\r\n       <use x=\"63.623047\" xlink:href=\"#DejaVuSans-48\"/>\r\n       <use x=\"127.246094\" xlink:href=\"#DejaVuSans-48\"/>\r\n      </g>\r\n     </g>\r\n    </g>\r\n    <g id=\"xtick_5\">\r\n     <g id=\"line2d_5\">\r\n      <g>\r\n       <use style=\"stroke:#000000;stroke-width:0.8;\" x=\"207.34822\" xlink:href=\"#mbe8e3a9b5f\" y=\"239.758125\"/>\r\n      </g>\r\n     </g>\r\n     <g id=\"text_5\">\r\n      <!-- 800 -->\r\n      <defs>\r\n       <path d=\"M 31.78125 34.625 \r\nQ 24.75 34.625 20.71875 30.859375 \r\nQ 16.703125 27.09375 16.703125 20.515625 \r\nQ 16.703125 13.921875 20.71875 10.15625 \r\nQ 24.75 6.390625 31.78125 6.390625 \r\nQ 38.8125 6.390625 42.859375 10.171875 \r\nQ 46.921875 13.96875 46.921875 20.515625 \r\nQ 46.921875 27.09375 42.890625 30.859375 \r\nQ 38.875 34.625 31.78125 34.625 \r\nz\r\nM 21.921875 38.8125 \r\nQ 15.578125 40.375 12.03125 44.71875 \r\nQ 8.5 49.078125 8.5 55.328125 \r\nQ 8.5 64.0625 14.71875 69.140625 \r\nQ 20.953125 74.21875 31.78125 74.21875 \r\nQ 42.671875 74.21875 48.875 69.140625 \r\nQ 55.078125 64.0625 55.078125 55.328125 \r\nQ 55.078125 49.078125 51.53125 44.71875 \r\nQ 48 40.375 41.703125 38.8125 \r\nQ 48.828125 37.15625 52.796875 32.3125 \r\nQ 56.78125 27.484375 56.78125 20.515625 \r\nQ 56.78125 9.90625 50.3125 4.234375 \r\nQ 43.84375 -1.421875 31.78125 -1.421875 \r\nQ 19.734375 -1.421875 13.25 4.234375 \r\nQ 6.78125 9.90625 6.78125 20.515625 \r\nQ 6.78125 27.484375 10.78125 32.3125 \r\nQ 14.796875 37.15625 21.921875 38.8125 \r\nz\r\nM 18.3125 54.390625 \r\nQ 18.3125 48.734375 21.84375 45.5625 \r\nQ 25.390625 42.390625 31.78125 42.390625 \r\nQ 38.140625 42.390625 41.71875 45.5625 \r\nQ 45.3125 48.734375 45.3125 54.390625 \r\nQ 45.3125 60.0625 41.71875 63.234375 \r\nQ 38.140625 66.40625 31.78125 66.40625 \r\nQ 25.390625 66.40625 21.84375 63.234375 \r\nQ 18.3125 60.0625 18.3125 54.390625 \r\nz\r\n\" id=\"DejaVuSans-56\"/>\r\n      </defs>\r\n      <g transform=\"translate(197.80447 254.356563)scale(0.1 -0.1)\">\r\n       <use xlink:href=\"#DejaVuSans-56\"/>\r\n       <use x=\"63.623047\" xlink:href=\"#DejaVuSans-48\"/>\r\n       <use x=\"127.246094\" xlink:href=\"#DejaVuSans-48\"/>\r\n      </g>\r\n     </g>\r\n    </g>\r\n   </g>\r\n   <g id=\"matplotlib.axis_2\">\r\n    <g id=\"ytick_1\">\r\n     <g id=\"line2d_6\">\r\n      <defs>\r\n       <path d=\"M 0 0 \r\nL -3.5 0 \r\n\" id=\"m3099ad1f0f\" style=\"stroke:#000000;stroke-width:0.8;\"/>\r\n      </defs>\r\n      <g>\r\n       <use style=\"stroke:#000000;stroke-width:0.8;\" x=\"33.2875\" xlink:href=\"#m3099ad1f0f\" y=\"22.426845\"/>\r\n      </g>\r\n     </g>\r\n     <g id=\"text_6\">\r\n      <!-- 0 -->\r\n      <g transform=\"translate(19.925 26.226064)scale(0.1 -0.1)\">\r\n       <use xlink:href=\"#DejaVuSans-48\"/>\r\n      </g>\r\n     </g>\r\n    </g>\r\n    <g id=\"ytick_2\">\r\n     <g id=\"line2d_7\">\r\n      <g>\r\n       <use style=\"stroke:#000000;stroke-width:0.8;\" x=\"33.2875\" xlink:href=\"#m3099ad1f0f\" y=\"65.914845\"/>\r\n      </g>\r\n     </g>\r\n     <g id=\"text_7\">\r\n      <!-- 200 -->\r\n      <g transform=\"translate(7.2 69.714064)scale(0.1 -0.1)\">\r\n       <use xlink:href=\"#DejaVuSans-50\"/>\r\n       <use x=\"63.623047\" xlink:href=\"#DejaVuSans-48\"/>\r\n       <use x=\"127.246094\" xlink:href=\"#DejaVuSans-48\"/>\r\n      </g>\r\n     </g>\r\n    </g>\r\n    <g id=\"ytick_3\">\r\n     <g id=\"line2d_8\">\r\n      <g>\r\n       <use style=\"stroke:#000000;stroke-width:0.8;\" x=\"33.2875\" xlink:href=\"#m3099ad1f0f\" y=\"109.402845\"/>\r\n      </g>\r\n     </g>\r\n     <g id=\"text_8\">\r\n      <!-- 400 -->\r\n      <g transform=\"translate(7.2 113.202064)scale(0.1 -0.1)\">\r\n       <use xlink:href=\"#DejaVuSans-52\"/>\r\n       <use x=\"63.623047\" xlink:href=\"#DejaVuSans-48\"/>\r\n       <use x=\"127.246094\" xlink:href=\"#DejaVuSans-48\"/>\r\n      </g>\r\n     </g>\r\n    </g>\r\n    <g id=\"ytick_4\">\r\n     <g id=\"line2d_9\">\r\n      <g>\r\n       <use style=\"stroke:#000000;stroke-width:0.8;\" x=\"33.2875\" xlink:href=\"#m3099ad1f0f\" y=\"152.890845\"/>\r\n      </g>\r\n     </g>\r\n     <g id=\"text_9\">\r\n      <!-- 600 -->\r\n      <g transform=\"translate(7.2 156.690064)scale(0.1 -0.1)\">\r\n       <use xlink:href=\"#DejaVuSans-54\"/>\r\n       <use x=\"63.623047\" xlink:href=\"#DejaVuSans-48\"/>\r\n       <use x=\"127.246094\" xlink:href=\"#DejaVuSans-48\"/>\r\n      </g>\r\n     </g>\r\n    </g>\r\n    <g id=\"ytick_5\">\r\n     <g id=\"line2d_10\">\r\n      <g>\r\n       <use style=\"stroke:#000000;stroke-width:0.8;\" x=\"33.2875\" xlink:href=\"#m3099ad1f0f\" y=\"196.378845\"/>\r\n      </g>\r\n     </g>\r\n     <g id=\"text_10\">\r\n      <!-- 800 -->\r\n      <g transform=\"translate(7.2 200.178064)scale(0.1 -0.1)\">\r\n       <use xlink:href=\"#DejaVuSans-56\"/>\r\n       <use x=\"63.623047\" xlink:href=\"#DejaVuSans-48\"/>\r\n       <use x=\"127.246094\" xlink:href=\"#DejaVuSans-48\"/>\r\n      </g>\r\n     </g>\r\n    </g>\r\n   </g>\r\n   <g id=\"patch_3\">\r\n    <path d=\"M 33.2875 239.758125 \r\nL 33.2875 22.318125 \r\n\" style=\"fill:none;stroke:#000000;stroke-linecap:square;stroke-linejoin:miter;stroke-width:0.8;\"/>\r\n   </g>\r\n   <g id=\"patch_4\">\r\n    <path d=\"M 250.7275 239.758125 \r\nL 250.7275 22.318125 \r\n\" style=\"fill:none;stroke:#000000;stroke-linecap:square;stroke-linejoin:miter;stroke-width:0.8;\"/>\r\n   </g>\r\n   <g id=\"patch_5\">\r\n    <path d=\"M 33.2875 239.758125 \r\nL 250.7275 239.758125 \r\n\" style=\"fill:none;stroke:#000000;stroke-linecap:square;stroke-linejoin:miter;stroke-width:0.8;\"/>\r\n   </g>\r\n   <g id=\"patch_6\">\r\n    <path d=\"M 33.2875 22.318125 \r\nL 250.7275 22.318125 \r\n\" style=\"fill:none;stroke:#000000;stroke-linecap:square;stroke-linejoin:miter;stroke-width:0.8;\"/>\r\n   </g>\r\n   <g id=\"text_11\">\r\n    <!-- image plot of distance  -->\r\n    <defs>\r\n     <path d=\"M 9.421875 54.6875 \r\nL 18.40625 54.6875 \r\nL 18.40625 0 \r\nL 9.421875 0 \r\nz\r\nM 9.421875 75.984375 \r\nL 18.40625 75.984375 \r\nL 18.40625 64.59375 \r\nL 9.421875 64.59375 \r\nz\r\n\" id=\"DejaVuSans-105\"/>\r\n     <path d=\"M 52 44.1875 \r\nQ 55.375 50.25 60.0625 53.125 \r\nQ 64.75 56 71.09375 56 \r\nQ 79.640625 56 84.28125 50.015625 \r\nQ 88.921875 44.046875 88.921875 33.015625 \r\nL 88.921875 0 \r\nL 79.890625 0 \r\nL 79.890625 32.71875 \r\nQ 79.890625 40.578125 77.09375 44.375 \r\nQ 74.3125 48.1875 68.609375 48.1875 \r\nQ 61.625 48.1875 57.5625 43.546875 \r\nQ 53.515625 38.921875 53.515625 30.90625 \r\nL 53.515625 0 \r\nL 44.484375 0 \r\nL 44.484375 32.71875 \r\nQ 44.484375 40.625 41.703125 44.40625 \r\nQ 38.921875 48.1875 33.109375 48.1875 \r\nQ 26.21875 48.1875 22.15625 43.53125 \r\nQ 18.109375 38.875 18.109375 30.90625 \r\nL 18.109375 0 \r\nL 9.078125 0 \r\nL 9.078125 54.6875 \r\nL 18.109375 54.6875 \r\nL 18.109375 46.1875 \r\nQ 21.1875 51.21875 25.484375 53.609375 \r\nQ 29.78125 56 35.6875 56 \r\nQ 41.65625 56 45.828125 52.96875 \r\nQ 50 49.953125 52 44.1875 \r\nz\r\n\" id=\"DejaVuSans-109\"/>\r\n     <path d=\"M 34.28125 27.484375 \r\nQ 23.390625 27.484375 19.1875 25 \r\nQ 14.984375 22.515625 14.984375 16.5 \r\nQ 14.984375 11.71875 18.140625 8.90625 \r\nQ 21.296875 6.109375 26.703125 6.109375 \r\nQ 34.1875 6.109375 38.703125 11.40625 \r\nQ 43.21875 16.703125 43.21875 25.484375 \r\nL 43.21875 27.484375 \r\nz\r\nM 52.203125 31.203125 \r\nL 52.203125 0 \r\nL 43.21875 0 \r\nL 43.21875 8.296875 \r\nQ 40.140625 3.328125 35.546875 0.953125 \r\nQ 30.953125 -1.421875 24.3125 -1.421875 \r\nQ 15.921875 -1.421875 10.953125 3.296875 \r\nQ 6 8.015625 6 15.921875 \r\nQ 6 25.140625 12.171875 29.828125 \r\nQ 18.359375 34.515625 30.609375 34.515625 \r\nL 43.21875 34.515625 \r\nL 43.21875 35.40625 \r\nQ 43.21875 41.609375 39.140625 45 \r\nQ 35.0625 48.390625 27.6875 48.390625 \r\nQ 23 48.390625 18.546875 47.265625 \r\nQ 14.109375 46.140625 10.015625 43.890625 \r\nL 10.015625 52.203125 \r\nQ 14.9375 54.109375 19.578125 55.046875 \r\nQ 24.21875 56 28.609375 56 \r\nQ 40.484375 56 46.34375 49.84375 \r\nQ 52.203125 43.703125 52.203125 31.203125 \r\nz\r\n\" id=\"DejaVuSans-97\"/>\r\n     <path d=\"M 45.40625 27.984375 \r\nQ 45.40625 37.75 41.375 43.109375 \r\nQ 37.359375 48.484375 30.078125 48.484375 \r\nQ 22.859375 48.484375 18.828125 43.109375 \r\nQ 14.796875 37.75 14.796875 27.984375 \r\nQ 14.796875 18.265625 18.828125 12.890625 \r\nQ 22.859375 7.515625 30.078125 7.515625 \r\nQ 37.359375 7.515625 41.375 12.890625 \r\nQ 45.40625 18.265625 45.40625 27.984375 \r\nz\r\nM 54.390625 6.78125 \r\nQ 54.390625 -7.171875 48.1875 -13.984375 \r\nQ 42 -20.796875 29.203125 -20.796875 \r\nQ 24.46875 -20.796875 20.265625 -20.09375 \r\nQ 16.0625 -19.390625 12.109375 -17.921875 \r\nL 12.109375 -9.1875 \r\nQ 16.0625 -11.328125 19.921875 -12.34375 \r\nQ 23.78125 -13.375 27.78125 -13.375 \r\nQ 36.625 -13.375 41.015625 -8.765625 \r\nQ 45.40625 -4.15625 45.40625 5.171875 \r\nL 45.40625 9.625 \r\nQ 42.625 4.78125 38.28125 2.390625 \r\nQ 33.9375 0 27.875 0 \r\nQ 17.828125 0 11.671875 7.65625 \r\nQ 5.515625 15.328125 5.515625 27.984375 \r\nQ 5.515625 40.671875 11.671875 48.328125 \r\nQ 17.828125 56 27.875 56 \r\nQ 33.9375 56 38.28125 53.609375 \r\nQ 42.625 51.21875 45.40625 46.390625 \r\nL 45.40625 54.6875 \r\nL 54.390625 54.6875 \r\nz\r\n\" id=\"DejaVuSans-103\"/>\r\n     <path d=\"M 56.203125 29.59375 \r\nL 56.203125 25.203125 \r\nL 14.890625 25.203125 \r\nQ 15.484375 15.921875 20.484375 11.0625 \r\nQ 25.484375 6.203125 34.421875 6.203125 \r\nQ 39.59375 6.203125 44.453125 7.46875 \r\nQ 49.3125 8.734375 54.109375 11.28125 \r\nL 54.109375 2.78125 \r\nQ 49.265625 0.734375 44.1875 -0.34375 \r\nQ 39.109375 -1.421875 33.890625 -1.421875 \r\nQ 20.796875 -1.421875 13.15625 6.1875 \r\nQ 5.515625 13.8125 5.515625 26.8125 \r\nQ 5.515625 40.234375 12.765625 48.109375 \r\nQ 20.015625 56 32.328125 56 \r\nQ 43.359375 56 49.78125 48.890625 \r\nQ 56.203125 41.796875 56.203125 29.59375 \r\nz\r\nM 47.21875 32.234375 \r\nQ 47.125 39.59375 43.09375 43.984375 \r\nQ 39.0625 48.390625 32.421875 48.390625 \r\nQ 24.90625 48.390625 20.390625 44.140625 \r\nQ 15.875 39.890625 15.1875 32.171875 \r\nz\r\n\" id=\"DejaVuSans-101\"/>\r\n     <path id=\"DejaVuSans-32\"/>\r\n     <path d=\"M 18.109375 8.203125 \r\nL 18.109375 -20.796875 \r\nL 9.078125 -20.796875 \r\nL 9.078125 54.6875 \r\nL 18.109375 54.6875 \r\nL 18.109375 46.390625 \r\nQ 20.953125 51.265625 25.265625 53.625 \r\nQ 29.59375 56 35.59375 56 \r\nQ 45.5625 56 51.78125 48.09375 \r\nQ 58.015625 40.1875 58.015625 27.296875 \r\nQ 58.015625 14.40625 51.78125 6.484375 \r\nQ 45.5625 -1.421875 35.59375 -1.421875 \r\nQ 29.59375 -1.421875 25.265625 0.953125 \r\nQ 20.953125 3.328125 18.109375 8.203125 \r\nz\r\nM 48.6875 27.296875 \r\nQ 48.6875 37.203125 44.609375 42.84375 \r\nQ 40.53125 48.484375 33.40625 48.484375 \r\nQ 26.265625 48.484375 22.1875 42.84375 \r\nQ 18.109375 37.203125 18.109375 27.296875 \r\nQ 18.109375 17.390625 22.1875 11.75 \r\nQ 26.265625 6.109375 33.40625 6.109375 \r\nQ 40.53125 6.109375 44.609375 11.75 \r\nQ 48.6875 17.390625 48.6875 27.296875 \r\nz\r\n\" id=\"DejaVuSans-112\"/>\r\n     <path d=\"M 9.421875 75.984375 \r\nL 18.40625 75.984375 \r\nL 18.40625 0 \r\nL 9.421875 0 \r\nz\r\n\" id=\"DejaVuSans-108\"/>\r\n     <path d=\"M 30.609375 48.390625 \r\nQ 23.390625 48.390625 19.1875 42.75 \r\nQ 14.984375 37.109375 14.984375 27.296875 \r\nQ 14.984375 17.484375 19.15625 11.84375 \r\nQ 23.34375 6.203125 30.609375 6.203125 \r\nQ 37.796875 6.203125 41.984375 11.859375 \r\nQ 46.1875 17.53125 46.1875 27.296875 \r\nQ 46.1875 37.015625 41.984375 42.703125 \r\nQ 37.796875 48.390625 30.609375 48.390625 \r\nz\r\nM 30.609375 56 \r\nQ 42.328125 56 49.015625 48.375 \r\nQ 55.71875 40.765625 55.71875 27.296875 \r\nQ 55.71875 13.875 49.015625 6.21875 \r\nQ 42.328125 -1.421875 30.609375 -1.421875 \r\nQ 18.84375 -1.421875 12.171875 6.21875 \r\nQ 5.515625 13.875 5.515625 27.296875 \r\nQ 5.515625 40.765625 12.171875 48.375 \r\nQ 18.84375 56 30.609375 56 \r\nz\r\n\" id=\"DejaVuSans-111\"/>\r\n     <path d=\"M 18.3125 70.21875 \r\nL 18.3125 54.6875 \r\nL 36.8125 54.6875 \r\nL 36.8125 47.703125 \r\nL 18.3125 47.703125 \r\nL 18.3125 18.015625 \r\nQ 18.3125 11.328125 20.140625 9.421875 \r\nQ 21.96875 7.515625 27.59375 7.515625 \r\nL 36.8125 7.515625 \r\nL 36.8125 0 \r\nL 27.59375 0 \r\nQ 17.1875 0 13.234375 3.875 \r\nQ 9.28125 7.765625 9.28125 18.015625 \r\nL 9.28125 47.703125 \r\nL 2.6875 47.703125 \r\nL 2.6875 54.6875 \r\nL 9.28125 54.6875 \r\nL 9.28125 70.21875 \r\nz\r\n\" id=\"DejaVuSans-116\"/>\r\n     <path d=\"M 37.109375 75.984375 \r\nL 37.109375 68.5 \r\nL 28.515625 68.5 \r\nQ 23.6875 68.5 21.796875 66.546875 \r\nQ 19.921875 64.59375 19.921875 59.515625 \r\nL 19.921875 54.6875 \r\nL 34.71875 54.6875 \r\nL 34.71875 47.703125 \r\nL 19.921875 47.703125 \r\nL 19.921875 0 \r\nL 10.890625 0 \r\nL 10.890625 47.703125 \r\nL 2.296875 47.703125 \r\nL 2.296875 54.6875 \r\nL 10.890625 54.6875 \r\nL 10.890625 58.5 \r\nQ 10.890625 67.625 15.140625 71.796875 \r\nQ 19.390625 75.984375 28.609375 75.984375 \r\nz\r\n\" id=\"DejaVuSans-102\"/>\r\n     <path d=\"M 45.40625 46.390625 \r\nL 45.40625 75.984375 \r\nL 54.390625 75.984375 \r\nL 54.390625 0 \r\nL 45.40625 0 \r\nL 45.40625 8.203125 \r\nQ 42.578125 3.328125 38.25 0.953125 \r\nQ 33.9375 -1.421875 27.875 -1.421875 \r\nQ 17.96875 -1.421875 11.734375 6.484375 \r\nQ 5.515625 14.40625 5.515625 27.296875 \r\nQ 5.515625 40.1875 11.734375 48.09375 \r\nQ 17.96875 56 27.875 56 \r\nQ 33.9375 56 38.25 53.625 \r\nQ 42.578125 51.265625 45.40625 46.390625 \r\nz\r\nM 14.796875 27.296875 \r\nQ 14.796875 17.390625 18.875 11.75 \r\nQ 22.953125 6.109375 30.078125 6.109375 \r\nQ 37.203125 6.109375 41.296875 11.75 \r\nQ 45.40625 17.390625 45.40625 27.296875 \r\nQ 45.40625 37.203125 41.296875 42.84375 \r\nQ 37.203125 48.484375 30.078125 48.484375 \r\nQ 22.953125 48.484375 18.875 42.84375 \r\nQ 14.796875 37.203125 14.796875 27.296875 \r\nz\r\n\" id=\"DejaVuSans-100\"/>\r\n     <path d=\"M 44.28125 53.078125 \r\nL 44.28125 44.578125 \r\nQ 40.484375 46.53125 36.375 47.5 \r\nQ 32.28125 48.484375 27.875 48.484375 \r\nQ 21.1875 48.484375 17.84375 46.4375 \r\nQ 14.5 44.390625 14.5 40.28125 \r\nQ 14.5 37.15625 16.890625 35.375 \r\nQ 19.28125 33.59375 26.515625 31.984375 \r\nL 29.59375 31.296875 \r\nQ 39.15625 29.25 43.1875 25.515625 \r\nQ 47.21875 21.78125 47.21875 15.09375 \r\nQ 47.21875 7.46875 41.1875 3.015625 \r\nQ 35.15625 -1.421875 24.609375 -1.421875 \r\nQ 20.21875 -1.421875 15.453125 -0.5625 \r\nQ 10.6875 0.296875 5.421875 2 \r\nL 5.421875 11.28125 \r\nQ 10.40625 8.6875 15.234375 7.390625 \r\nQ 20.0625 6.109375 24.8125 6.109375 \r\nQ 31.15625 6.109375 34.5625 8.28125 \r\nQ 37.984375 10.453125 37.984375 14.40625 \r\nQ 37.984375 18.0625 35.515625 20.015625 \r\nQ 33.0625 21.96875 24.703125 23.78125 \r\nL 21.578125 24.515625 \r\nQ 13.234375 26.265625 9.515625 29.90625 \r\nQ 5.8125 33.546875 5.8125 39.890625 \r\nQ 5.8125 47.609375 11.28125 51.796875 \r\nQ 16.75 56 26.8125 56 \r\nQ 31.78125 56 36.171875 55.265625 \r\nQ 40.578125 54.546875 44.28125 53.078125 \r\nz\r\n\" id=\"DejaVuSans-115\"/>\r\n     <path d=\"M 54.890625 33.015625 \r\nL 54.890625 0 \r\nL 45.90625 0 \r\nL 45.90625 32.71875 \r\nQ 45.90625 40.484375 42.875 44.328125 \r\nQ 39.84375 48.1875 33.796875 48.1875 \r\nQ 26.515625 48.1875 22.3125 43.546875 \r\nQ 18.109375 38.921875 18.109375 30.90625 \r\nL 18.109375 0 \r\nL 9.078125 0 \r\nL 9.078125 54.6875 \r\nL 18.109375 54.6875 \r\nL 18.109375 46.1875 \r\nQ 21.34375 51.125 25.703125 53.5625 \r\nQ 30.078125 56 35.796875 56 \r\nQ 45.21875 56 50.046875 50.171875 \r\nQ 54.890625 44.34375 54.890625 33.015625 \r\nz\r\n\" id=\"DejaVuSans-110\"/>\r\n     <path d=\"M 48.78125 52.59375 \r\nL 48.78125 44.1875 \r\nQ 44.96875 46.296875 41.140625 47.34375 \r\nQ 37.3125 48.390625 33.40625 48.390625 \r\nQ 24.65625 48.390625 19.8125 42.84375 \r\nQ 14.984375 37.3125 14.984375 27.296875 \r\nQ 14.984375 17.28125 19.8125 11.734375 \r\nQ 24.65625 6.203125 33.40625 6.203125 \r\nQ 37.3125 6.203125 41.140625 7.25 \r\nQ 44.96875 8.296875 48.78125 10.40625 \r\nL 48.78125 2.09375 \r\nQ 45.015625 0.34375 40.984375 -0.53125 \r\nQ 36.96875 -1.421875 32.421875 -1.421875 \r\nQ 20.0625 -1.421875 12.78125 6.34375 \r\nQ 5.515625 14.109375 5.515625 27.296875 \r\nQ 5.515625 40.671875 12.859375 48.328125 \r\nQ 20.21875 56 33.015625 56 \r\nQ 37.15625 56 41.109375 55.140625 \r\nQ 45.0625 54.296875 48.78125 52.59375 \r\nz\r\n\" id=\"DejaVuSans-99\"/>\r\n    </defs>\r\n    <g transform=\"translate(72.984062 16.318125)scale(0.12 -0.12)\">\r\n     <use xlink:href=\"#DejaVuSans-105\"/>\r\n     <use x=\"27.783203\" xlink:href=\"#DejaVuSans-109\"/>\r\n     <use x=\"125.195312\" xlink:href=\"#DejaVuSans-97\"/>\r\n     <use x=\"186.474609\" xlink:href=\"#DejaVuSans-103\"/>\r\n     <use x=\"249.951172\" xlink:href=\"#DejaVuSans-101\"/>\r\n     <use x=\"311.474609\" xlink:href=\"#DejaVuSans-32\"/>\r\n     <use x=\"343.261719\" xlink:href=\"#DejaVuSans-112\"/>\r\n     <use x=\"406.738281\" xlink:href=\"#DejaVuSans-108\"/>\r\n     <use x=\"434.521484\" xlink:href=\"#DejaVuSans-111\"/>\r\n     <use x=\"495.703125\" xlink:href=\"#DejaVuSans-116\"/>\r\n     <use x=\"534.912109\" xlink:href=\"#DejaVuSans-32\"/>\r\n     <use x=\"566.699219\" xlink:href=\"#DejaVuSans-111\"/>\r\n     <use x=\"627.880859\" xlink:href=\"#DejaVuSans-102\"/>\r\n     <use x=\"663.085938\" xlink:href=\"#DejaVuSans-32\"/>\r\n     <use x=\"694.873047\" xlink:href=\"#DejaVuSans-100\"/>\r\n     <use x=\"758.349609\" xlink:href=\"#DejaVuSans-105\"/>\r\n     <use x=\"786.132812\" xlink:href=\"#DejaVuSans-115\"/>\r\n     <use x=\"838.232422\" xlink:href=\"#DejaVuSans-116\"/>\r\n     <use x=\"877.441406\" xlink:href=\"#DejaVuSans-97\"/>\r\n     <use x=\"938.720703\" xlink:href=\"#DejaVuSans-110\"/>\r\n     <use x=\"1002.099609\" xlink:href=\"#DejaVuSans-99\"/>\r\n     <use x=\"1057.080078\" xlink:href=\"#DejaVuSans-101\"/>\r\n     <use x=\"1118.603516\" xlink:href=\"#DejaVuSans-32\"/>\r\n    </g>\r\n   </g>\r\n  </g>\r\n  <g id=\"axes_2\">\r\n   <g id=\"patch_7\">\r\n    <path clip-path=\"url(#p5a277c9fd8)\" d=\"M 267.4675 239.758125 \r\nL 267.4675 238.90875 \r\nL 267.4675 23.1675 \r\nL 267.4675 22.318125 \r\nL 278.3395 22.318125 \r\nL 278.3395 23.1675 \r\nL 278.3395 238.90875 \r\nL 278.3395 239.758125 \r\nz\r\n\" style=\"fill:#ffffff;stroke:#ffffff;stroke-linejoin:miter;stroke-width:0.01;\"/>\r\n   </g>\r\n   <image height=\"217\" id=\"image55af8923dd\" transform=\"scale(1 -1)translate(0 -217)\" width=\"11\" x=\"267\" xlink:href=\"data:image/png;base64,\r\niVBORw0KGgoAAAANSUhEUgAAAAsAAADZCAYAAAD2WsoCAAAABHNCSVQICAgIfAhkiAAAAIJJREFUaIHt0DEKwDAQA8HI+P9fTtorjSBglr16i9Mkyfsc3k5y2v4Zr7VueOOSWI0Z4zXwA9WoY7wGfqAaM8YPVKOO8Rr4gWrUMV4DP1CNOsZr4AeqMWP8QDXqGK+BH6hGHeM18APVqGO8Bn6gGnWM18APVGPG+IFq1DFeAz+QrvEB3UYHXpyDMvMAAAAASUVORK5CYII=\" y=\"-22\"/>\r\n   <g id=\"matplotlib.axis_3\"/>\r\n   <g id=\"matplotlib.axis_4\">\r\n    <g id=\"ytick_6\">\r\n     <g id=\"line2d_11\">\r\n      <defs>\r\n       <path d=\"M 0 0 \r\nL 3.5 0 \r\n\" id=\"m5aaf8da99b\" style=\"stroke:#000000;stroke-width:0.8;\"/>\r\n      </defs>\r\n      <g>\r\n       <use style=\"stroke:#000000;stroke-width:0.8;\" x=\"278.3395\" xlink:href=\"#m5aaf8da99b\" y=\"239.758125\"/>\r\n      </g>\r\n     </g>\r\n     <g id=\"text_12\">\r\n      <!-- 0 -->\r\n      <g transform=\"translate(285.3395 243.557344)scale(0.1 -0.1)\">\r\n       <use xlink:href=\"#DejaVuSans-48\"/>\r\n      </g>\r\n     </g>\r\n    </g>\r\n    <g id=\"ytick_7\">\r\n     <g id=\"line2d_12\">\r\n      <g>\r\n       <use style=\"stroke:#000000;stroke-width:0.8;\" x=\"278.3395\" xlink:href=\"#m5aaf8da99b\" y=\"209.007465\"/>\r\n      </g>\r\n     </g>\r\n     <g id=\"text_13\">\r\n      <!-- 1 -->\r\n      <defs>\r\n       <path d=\"M 12.40625 8.296875 \r\nL 28.515625 8.296875 \r\nL 28.515625 63.921875 \r\nL 10.984375 60.40625 \r\nL 10.984375 69.390625 \r\nL 28.421875 72.90625 \r\nL 38.28125 72.90625 \r\nL 38.28125 8.296875 \r\nL 54.390625 8.296875 \r\nL 54.390625 0 \r\nL 12.40625 0 \r\nz\r\n\" id=\"DejaVuSans-49\"/>\r\n      </defs>\r\n      <g transform=\"translate(285.3395 212.806684)scale(0.1 -0.1)\">\r\n       <use xlink:href=\"#DejaVuSans-49\"/>\r\n      </g>\r\n     </g>\r\n    </g>\r\n    <g id=\"ytick_8\">\r\n     <g id=\"line2d_13\">\r\n      <g>\r\n       <use style=\"stroke:#000000;stroke-width:0.8;\" x=\"278.3395\" xlink:href=\"#m5aaf8da99b\" y=\"178.256806\"/>\r\n      </g>\r\n     </g>\r\n     <g id=\"text_14\">\r\n      <!-- 2 -->\r\n      <g transform=\"translate(285.3395 182.056024)scale(0.1 -0.1)\">\r\n       <use xlink:href=\"#DejaVuSans-50\"/>\r\n      </g>\r\n     </g>\r\n    </g>\r\n    <g id=\"ytick_9\">\r\n     <g id=\"line2d_14\">\r\n      <g>\r\n       <use style=\"stroke:#000000;stroke-width:0.8;\" x=\"278.3395\" xlink:href=\"#m5aaf8da99b\" y=\"147.506146\"/>\r\n      </g>\r\n     </g>\r\n     <g id=\"text_15\">\r\n      <!-- 3 -->\r\n      <defs>\r\n       <path d=\"M 40.578125 39.3125 \r\nQ 47.65625 37.796875 51.625 33 \r\nQ 55.609375 28.21875 55.609375 21.1875 \r\nQ 55.609375 10.40625 48.1875 4.484375 \r\nQ 40.765625 -1.421875 27.09375 -1.421875 \r\nQ 22.515625 -1.421875 17.65625 -0.515625 \r\nQ 12.796875 0.390625 7.625 2.203125 \r\nL 7.625 11.71875 \r\nQ 11.71875 9.328125 16.59375 8.109375 \r\nQ 21.484375 6.890625 26.8125 6.890625 \r\nQ 36.078125 6.890625 40.9375 10.546875 \r\nQ 45.796875 14.203125 45.796875 21.1875 \r\nQ 45.796875 27.640625 41.28125 31.265625 \r\nQ 36.765625 34.90625 28.71875 34.90625 \r\nL 20.21875 34.90625 \r\nL 20.21875 43.015625 \r\nL 29.109375 43.015625 \r\nQ 36.375 43.015625 40.234375 45.921875 \r\nQ 44.09375 48.828125 44.09375 54.296875 \r\nQ 44.09375 59.90625 40.109375 62.90625 \r\nQ 36.140625 65.921875 28.71875 65.921875 \r\nQ 24.65625 65.921875 20.015625 65.03125 \r\nQ 15.375 64.15625 9.8125 62.3125 \r\nL 9.8125 71.09375 \r\nQ 15.4375 72.65625 20.34375 73.4375 \r\nQ 25.25 74.21875 29.59375 74.21875 \r\nQ 40.828125 74.21875 47.359375 69.109375 \r\nQ 53.90625 64.015625 53.90625 55.328125 \r\nQ 53.90625 49.265625 50.4375 45.09375 \r\nQ 46.96875 40.921875 40.578125 39.3125 \r\nz\r\n\" id=\"DejaVuSans-51\"/>\r\n      </defs>\r\n      <g transform=\"translate(285.3395 151.305365)scale(0.1 -0.1)\">\r\n       <use xlink:href=\"#DejaVuSans-51\"/>\r\n      </g>\r\n     </g>\r\n    </g>\r\n    <g id=\"ytick_10\">\r\n     <g id=\"line2d_15\">\r\n      <g>\r\n       <use style=\"stroke:#000000;stroke-width:0.8;\" x=\"278.3395\" xlink:href=\"#m5aaf8da99b\" y=\"116.755486\"/>\r\n      </g>\r\n     </g>\r\n     <g id=\"text_16\">\r\n      <!-- 4 -->\r\n      <g transform=\"translate(285.3395 120.554705)scale(0.1 -0.1)\">\r\n       <use xlink:href=\"#DejaVuSans-52\"/>\r\n      </g>\r\n     </g>\r\n    </g>\r\n    <g id=\"ytick_11\">\r\n     <g id=\"line2d_16\">\r\n      <g>\r\n       <use style=\"stroke:#000000;stroke-width:0.8;\" x=\"278.3395\" xlink:href=\"#m5aaf8da99b\" y=\"86.004826\"/>\r\n      </g>\r\n     </g>\r\n     <g id=\"text_17\">\r\n      <!-- 5 -->\r\n      <defs>\r\n       <path d=\"M 10.796875 72.90625 \r\nL 49.515625 72.90625 \r\nL 49.515625 64.59375 \r\nL 19.828125 64.59375 \r\nL 19.828125 46.734375 \r\nQ 21.96875 47.46875 24.109375 47.828125 \r\nQ 26.265625 48.1875 28.421875 48.1875 \r\nQ 40.625 48.1875 47.75 41.5 \r\nQ 54.890625 34.8125 54.890625 23.390625 \r\nQ 54.890625 11.625 47.5625 5.09375 \r\nQ 40.234375 -1.421875 26.90625 -1.421875 \r\nQ 22.3125 -1.421875 17.546875 -0.640625 \r\nQ 12.796875 0.140625 7.71875 1.703125 \r\nL 7.71875 11.625 \r\nQ 12.109375 9.234375 16.796875 8.0625 \r\nQ 21.484375 6.890625 26.703125 6.890625 \r\nQ 35.15625 6.890625 40.078125 11.328125 \r\nQ 45.015625 15.765625 45.015625 23.390625 \r\nQ 45.015625 31 40.078125 35.4375 \r\nQ 35.15625 39.890625 26.703125 39.890625 \r\nQ 22.75 39.890625 18.8125 39.015625 \r\nQ 14.890625 38.140625 10.796875 36.28125 \r\nz\r\n\" id=\"DejaVuSans-53\"/>\r\n      </defs>\r\n      <g transform=\"translate(285.3395 89.804045)scale(0.1 -0.1)\">\r\n       <use xlink:href=\"#DejaVuSans-53\"/>\r\n      </g>\r\n     </g>\r\n    </g>\r\n    <g id=\"ytick_12\">\r\n     <g id=\"line2d_17\">\r\n      <g>\r\n       <use style=\"stroke:#000000;stroke-width:0.8;\" x=\"278.3395\" xlink:href=\"#m5aaf8da99b\" y=\"55.254167\"/>\r\n      </g>\r\n     </g>\r\n     <g id=\"text_18\">\r\n      <!-- 6 -->\r\n      <g transform=\"translate(285.3395 59.053386)scale(0.1 -0.1)\">\r\n       <use xlink:href=\"#DejaVuSans-54\"/>\r\n      </g>\r\n     </g>\r\n    </g>\r\n    <g id=\"ytick_13\">\r\n     <g id=\"line2d_18\">\r\n      <g>\r\n       <use style=\"stroke:#000000;stroke-width:0.8;\" x=\"278.3395\" xlink:href=\"#m5aaf8da99b\" y=\"24.503507\"/>\r\n      </g>\r\n     </g>\r\n     <g id=\"text_19\">\r\n      <!-- 7 -->\r\n      <defs>\r\n       <path d=\"M 8.203125 72.90625 \r\nL 55.078125 72.90625 \r\nL 55.078125 68.703125 \r\nL 28.609375 0 \r\nL 18.3125 0 \r\nL 43.21875 64.59375 \r\nL 8.203125 64.59375 \r\nz\r\n\" id=\"DejaVuSans-55\"/>\r\n      </defs>\r\n      <g transform=\"translate(285.3395 28.302726)scale(0.1 -0.1)\">\r\n       <use xlink:href=\"#DejaVuSans-55\"/>\r\n      </g>\r\n     </g>\r\n    </g>\r\n   </g>\r\n   <g id=\"patch_8\">\r\n    <path d=\"M 267.4675 239.758125 \r\nL 267.4675 238.90875 \r\nL 267.4675 23.1675 \r\nL 267.4675 22.318125 \r\nL 278.3395 22.318125 \r\nL 278.3395 23.1675 \r\nL 278.3395 238.90875 \r\nL 278.3395 239.758125 \r\nz\r\n\" style=\"fill:none;stroke:#000000;stroke-linejoin:miter;stroke-width:0.8;\"/>\r\n   </g>\r\n  </g>\r\n </g>\r\n <defs>\r\n  <clipPath id=\"p1c0ce9906f\">\r\n   <rect height=\"217.44\" width=\"217.44\" x=\"33.2875\" y=\"22.318125\"/>\r\n  </clipPath>\r\n  <clipPath id=\"p5a277c9fd8\">\r\n   <rect height=\"217.44\" width=\"10.872\" x=\"267.4675\" y=\"22.318125\"/>\r\n  </clipPath>\r\n </defs>\r\n</svg>\r\n",
      "image/png": "[encoded data removed]"
     },
     "metadata": {
      "needs_background": "light"
     }
    }
   ],
   "source": [
    "plt.imshow(distance,cmap= plt.cm.gray)\n",
    "plt.colorbar()\n",
    "plt.title(\"image plot of distance \")"
   ]
  },
  {
   "source": [
    "### where method\n",
    "\n",
    "** Where(condition,x,y)**"
   ],
   "cell_type": "markdown",
   "metadata": {}
  },
  {
   "cell_type": "code",
   "execution_count": 68,
   "metadata": {},
   "outputs": [],
   "source": [
    "arr = np.arange(16).reshape(4,4)"
   ]
  },
  {
   "cell_type": "code",
   "execution_count": 69,
   "metadata": {},
   "outputs": [
    {
     "output_type": "execute_result",
     "data": {
      "text/plain": [
       "array([[ 0,  1,  2,  3],\n",
       "       [ 4,  5,  6,  7],\n",
       "       [ 8,  9, 10, 11],\n",
       "       [12, 13, 14, 15]])"
      ]
     },
     "metadata": {},
     "execution_count": 69
    }
   ],
   "source": [
    "arr"
   ]
  },
  {
   "cell_type": "code",
   "execution_count": 70,
   "metadata": {},
   "outputs": [
    {
     "output_type": "execute_result",
     "data": {
      "text/plain": [
       "array([['0', '1', '2', '3'],\n",
       "       ['4', 'nan', 'nan', 'nan'],\n",
       "       ['nan', 'nan', 'nan', 'nan'],\n",
       "       ['nan', 'nan', 'nan', 'nan']], dtype='<U11')"
      ]
     },
     "metadata": {},
     "execution_count": 70
    }
   ],
   "source": [
    "np.where(arr > 4,'nan',np.arange(16).reshape(4,4))"
   ]
  },
  {
   "source": [],
   "cell_type": "markdown",
   "metadata": {}
  },
  {
   "source": [
    "### Experessing Conditional Logical as Array Operations "
   ],
   "cell_type": "markdown",
   "metadata": {}
  },
  {
   "source": [
    "### Mathematical and Statistical Methods"
   ],
   "cell_type": "markdown",
   "metadata": {}
  },
  {
   "cell_type": "code",
   "execution_count": 73,
   "metadata": {},
   "outputs": [
    {
     "output_type": "execute_result",
     "data": {
      "text/plain": [
       "array([[0.62362985, 0.60857165, 0.38751101, 0.07704673],\n",
       "       [0.86136413, 0.69031813, 0.59288006, 0.53109827],\n",
       "       [0.19693134, 0.51486661, 0.85704102, 0.75035923],\n",
       "       [0.08521443, 0.15664368, 0.97105463, 0.10916181],\n",
       "       [0.54637013, 0.19158058, 0.81643615, 0.97193857]])"
      ]
     },
     "metadata": {},
     "execution_count": 73
    }
   ],
   "source": [
    "arr = np.random.rand(5,4)\n",
    "arr"
   ]
  },
  {
   "cell_type": "code",
   "execution_count": 75,
   "metadata": {},
   "outputs": [
    {
     "output_type": "stream",
     "name": "stdout",
     "text": [
      "0.5270008999419546\n0.2955825657039498\n10.540017998839092\n"
     ]
    }
   ],
   "source": [
    "print(arr.mean())\n",
    "print(arr.std())\n",
    "print(arr.sum())"
   ]
  },
  {
   "cell_type": "code",
   "execution_count": 76,
   "metadata": {},
   "outputs": [
    {
     "output_type": "stream",
     "name": "stdout",
     "text": [
      "[0.42418981 0.66891515 0.57979955 0.33051864 0.63158136]\n[0.46270197 0.43239613 0.72498457 0.48792092]\n"
     ]
    }
   ],
   "source": [
    "# on axis 0 is vertical and axis 1 is horizontal\n",
    "print(arr.mean(axis=1))\n",
    "print(arr.mean(axis=0))"
   ]
  },
  {
   "cell_type": "code",
   "execution_count": 82,
   "metadata": {},
   "outputs": [
    {
     "output_type": "execute_result",
     "data": {
      "text/plain": [
       "array([[0.62362985, 0.60857165, 0.38751101, 0.07704673],\n",
       "       [1.48499397, 1.29888977, 0.98039107, 0.608145  ],\n",
       "       [1.68192531, 1.81375639, 1.83743209, 1.35850423],\n",
       "       [1.76713974, 1.97040007, 2.80848672, 1.46766605],\n",
       "       [2.31350987, 2.16198065, 3.62492286, 2.43960461]])"
      ]
     },
     "metadata": {},
     "execution_count": 82
    }
   ],
   "source": [
    "arr.cumsum(axis= 0)"
   ]
  },
  {
   "cell_type": "code",
   "execution_count": 83,
   "metadata": {},
   "outputs": [
    {
     "output_type": "execute_result",
     "data": {
      "text/plain": [
       "array([[0.62362985, 1.23220149, 1.6197125 , 1.69675923],\n",
       "       [0.86136413, 1.55168225, 2.14456232, 2.67566059],\n",
       "       [0.19693134, 0.71179795, 1.56883898, 2.31919821],\n",
       "       [0.08521443, 0.24185811, 1.21291274, 1.32207455],\n",
       "       [0.54637013, 0.73795071, 1.55438686, 2.52632542]])"
      ]
     },
     "metadata": {},
     "execution_count": 83
    }
   ],
   "source": [
    "arr.cumsum(axis= 1)"
   ]
  },
  {
   "source": [
    "### Methods for boolean Arrays"
   ],
   "cell_type": "markdown",
   "metadata": {}
  },
  {
   "cell_type": "code",
   "execution_count": 97,
   "metadata": {},
   "outputs": [
    {
     "output_type": "execute_result",
     "data": {
      "text/plain": [
       "array([0.15565021, 0.72864245, 0.80249048, 0.26852974, 0.08628249,\n",
       "       0.30893544, 0.64805668, 0.01739488, 0.93064456, 0.65839611,\n",
       "       0.76986123, 0.5381459 , 0.76367   , 0.04254346, 0.6166284 ,\n",
       "       0.76284914, 0.92896021])"
      ]
     },
     "metadata": {},
     "execution_count": 97
    }
   ],
   "source": [
    "arr = np.random.rand(17)\n",
    "arr"
   ]
  },
  {
   "cell_type": "code",
   "execution_count": 85,
   "metadata": {},
   "outputs": [
    {
     "output_type": "execute_result",
     "data": {
      "text/plain": [
       "59"
      ]
     },
     "metadata": {},
     "execution_count": 85
    }
   ],
   "source": [
    "(arr>0.5).sum()"
   ]
  },
  {
   "cell_type": "code",
   "execution_count": 86,
   "metadata": {},
   "outputs": [
    {
     "output_type": "execute_result",
     "data": {
      "text/plain": [
       "True"
      ]
     },
     "metadata": {},
     "execution_count": 86
    }
   ],
   "source": [
    "# Any & All method also return boolean array\n",
    "bools = np.array([True,False,True,True,False])\n",
    "bools.any()"
   ]
  },
  {
   "cell_type": "code",
   "execution_count": 87,
   "metadata": {},
   "outputs": [
    {
     "output_type": "execute_result",
     "data": {
      "text/plain": [
       "False"
      ]
     },
     "metadata": {},
     "execution_count": 87
    }
   ],
   "source": [
    "bools.all()    # all true \"no\" because there are some list that also have false value"
   ]
  },
  {
   "cell_type": "code",
   "execution_count": 89,
   "metadata": {},
   "outputs": [
    {
     "output_type": "execute_result",
     "data": {
      "text/plain": [
       "array([0.00255046, 0.00301601, 0.00929537, 0.04129481, 0.06274283,\n",
       "       0.07146218, 0.07659942, 0.08125231, 0.08396097, 0.10542643,\n",
       "       0.11187878, 0.11970755, 0.13277403, 0.14868832, 0.15138041,\n",
       "       0.20468851, 0.22055302, 0.24134338, 0.24826899, 0.27094525,\n",
       "       0.28129544, 0.28473292, 0.31153501, 0.3197329 , 0.33372991,\n",
       "       0.33668565, 0.34831112, 0.35544914, 0.3604441 , 0.36435281,\n",
       "       0.36530627, 0.37874024, 0.3797504 , 0.39681568, 0.40082798,\n",
       "       0.40152722, 0.41709538, 0.41975723, 0.43797048, 0.44508041,\n",
       "       0.48837204, 0.51155041, 0.51717493, 0.52405364, 0.52473418,\n",
       "       0.52489219, 0.5351004 , 0.53598183, 0.55277239, 0.55294701,\n",
       "       0.58196983, 0.58235655, 0.58965342, 0.60129633, 0.60185204,\n",
       "       0.60645699, 0.62518919, 0.6272219 , 0.6302494 , 0.63711938,\n",
       "       0.65561114, 0.67236753, 0.67419535, 0.69971638, 0.70175253,\n",
       "       0.70816219, 0.70891305, 0.71721185, 0.73075571, 0.76054374,\n",
       "       0.76978257, 0.77091179, 0.80716345, 0.80775554, 0.80824707,\n",
       "       0.81495066, 0.86444208, 0.8703587 , 0.87704098, 0.88141025,\n",
       "       0.88206666, 0.89958274, 0.908058  , 0.90924346, 0.9094477 ,\n",
       "       0.91334586, 0.91699924, 0.922943  , 0.92326795, 0.92548599,\n",
       "       0.929254  , 0.93541997, 0.93777144, 0.95315906, 0.9638508 ,\n",
       "       0.97395561, 0.99117093, 0.99137245, 0.99243133, 0.99787303])"
      ]
     },
     "metadata": {},
     "execution_count": 89
    }
   ],
   "source": [
    "np.unique(arr)  # every unique value return (once return duplicated value )"
   ]
  },
  {
   "cell_type": "code",
   "execution_count": 90,
   "metadata": {},
   "outputs": [
    {
     "output_type": "execute_result",
     "data": {
      "text/plain": [
       "array([ 1,  2,  3,  4,  6,  7,  8, 31, 56, 99])"
      ]
     },
     "metadata": {},
     "execution_count": 90
    }
   ],
   "source": [
    "uniqueArray =  np.array([1,2,31,3,1,3,4,56,8,6,3,4,6,3,6,7,99,])\n",
    "np.unique(uniqueArray)"
   ]
  },
  {
   "cell_type": "code",
   "execution_count": 93,
   "metadata": {},
   "outputs": [
    {
     "output_type": "execute_result",
     "data": {
      "text/plain": [
       "array([ True, False, False,  True,  True,  True,  True, False, False,\n",
       "       False,  True,  True, False,  True, False, False, False])"
      ]
     },
     "metadata": {},
     "execution_count": 93
    }
   ],
   "source": [
    "np.in1d(uniqueArray,[1,3,4])"
   ]
  },
  {
   "cell_type": "code",
   "execution_count": 99,
   "metadata": {},
   "outputs": [
    {
     "output_type": "execute_result",
     "data": {
      "text/plain": [
       "array([0.15565021, 0.08628249])"
      ]
     },
     "metadata": {},
     "execution_count": 99
    }
   ],
   "source": [
    "arr[uniqueArray == 1]"
   ]
  },
  {
   "cell_type": "code",
   "execution_count": 100,
   "metadata": {},
   "outputs": [
    {
     "output_type": "error",
     "ename": "NameError",
     "evalue": "name 'k' is not defined",
     "traceback": [
      "\u001b[1;31m---------------------------------------------------------------------------\u001b[0m",
      "\u001b[1;31mNameError\u001b[0m                                 Traceback (most recent call last)",
      "\u001b[1;32m<ipython-input-100-141b3ea3f03f>\u001b[0m in \u001b[0;36m<module>\u001b[1;34m\u001b[0m\n\u001b[1;32m----> 1\u001b[1;33m \u001b[0mk\u001b[0m\u001b[1;33m\u001b[0m\u001b[1;33m\u001b[0m\u001b[0m\n\u001b[0m",
      "\u001b[1;31mNameError\u001b[0m: name 'k' is not defined"
     ]
    }
   ],
   "source": []
  },
  {
   "cell_type": "code",
   "execution_count": null,
   "metadata": {},
   "outputs": [],
   "source": []
  }
 ],
 "metadata": {
  "kernelspec": {
   "display_name": "Python 3",
   "language": "python",
   "name": "python3"
  },
  "language_info": {
   "codemirror_mode": {
    "name": "ipython",
    "version": 3
   },
   "file_extension": ".py",
   "mimetype": "text/x-python",
   "name": "python",
   "nbconvert_exporter": "python",
   "pygments_lexer": "ipython3",
   "version": "3.8.3-final"
  }
 },
 "nbformat": 4,
 "nbformat_minor": 2
}