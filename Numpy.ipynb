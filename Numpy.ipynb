{
 "cells": [
  {
   "cell_type": "markdown",
   "metadata": {},
   "source": [
    "Numpy is the fundamental package for numeric computing with Python. It provides powerful ways to create,\n",
    "store, and/or manipulate data, which makes it able to seamlessly and speedily integrate with a wide variety\n",
    "of databases. This is also the foundation that Pandas is built on, which is a high-performance data-centric\n",
    "package that we will learn later in the course.\n",
    "\n",
    "In this lecture, we will talk about creating array with certain data types, manipulating array, selecting\n",
    "elements from arrays, and loading dataset into array. Such functions are useful for manipulating data and\n",
    "understanding the functionalities of other common Python data packages."
   ]
  },
  {
   "cell_type": "code",
   "execution_count": 1,
   "metadata": {},
   "outputs": [],
   "source": [
    "# You'll recall that we import a library using the `import` keyword as numpy's common abbreviation is np\n",
    "import numpy as np # first import numpy module"
   ]
  },
  {
   "cell_type": "code",
   "execution_count": 2,
   "metadata": {},
   "outputs": [
    {
     "output_type": "execute_result",
     "data": {
      "text/plain": [
       "'1.16.2'"
      ]
     },
     "metadata": {},
     "execution_count": 2
    }
   ],
   "source": [
    "np.__version__   # there are different version of numpy, it's good approach to be touch with latest update. (tip)"
   ]
  },
  {
   "cell_type": "code",
   "execution_count": 3,
   "metadata": {},
   "outputs": [
    {
     "output_type": "stream",
     "name": "stdout",
     "text": [
      "Array [1 2 3 4 5 5 6 7 8 9], Type of arrayint32\n"
     ]
    }
   ],
   "source": [
    "lis = [1,2,3,4,5,5,6,7,8,9]\n",
    "_1dim = np.array(lis)\n",
    "print('Array {0}, Type of array{1}'.format(_1dim,_1dim.dtype))"
   ]
  },
  {
   "source": [
    "### Concept of Dimenstion in Array:\n",
    "`there are a lot of dimension to be possible in array. we should only focus of mostly and oftenly use.`"
   ],
   "cell_type": "markdown",
   "metadata": {}
  },
  {
   "cell_type": "code",
   "execution_count": 4,
   "metadata": {},
   "outputs": [
    {
     "output_type": "stream",
     "name": "stdout",
     "text": [
      "[1 2 3 4 5 6 7 8 9]\n[[ 1  2]\n [ 3  4]\n [ 5  6]\n [ 7  8]\n [ 9 10]]\n[[[ 1  2  3]\n  [ 4  5  6]\n  [ 7  8  9]]\n\n [[10 11 12]\n  [13 14 15]\n  [16 17 18]]\n\n [[19 20 21]\n  [22 23 24]\n  [25 26 27]]\n\n [[28 29 30]\n  [31 32 33]\n  [34 35 36]]\n\n [[37 38 39]\n  [40 41 42]\n  [43 44 45]]]\n[[[[  1   2   3]\n   [  4   5   6]\n   [  7   8   9]]\n\n  [[ 10  11  12]\n   [ 13  14  15]\n   [ 16  17  18]]\n\n  [[ 19  20  21]\n   [ 22  23  24]\n   [ 25  26  27]]]\n\n\n [[[ 28  29  30]\n   [ 31  32  33]\n   [ 34  35  36]]\n\n  [[ 37  38  39]\n   [ 40  41  42]\n   [ 43  44  45]]\n\n  [[ 46  47  48]\n   [ 49  50  51]\n   [ 52  53  54]]]\n\n\n [[[ 55  56  57]\n   [ 58  59  60]\n   [ 61  62  63]]\n\n  [[ 64  65  66]\n   [ 67  68  69]\n   [ 70  71  72]]\n\n  [[ 73  74  75]\n   [ 76  77  78]\n   [ 79  80  81]]]\n\n\n [[[ 82  83  84]\n   [ 85  86  87]\n   [ 88  89  90]]\n\n  [[ 91  92  93]\n   [ 94  95  96]\n   [ 97  98  99]]\n\n  [[100 101 102]\n   [103 104 105]\n   [106 107 108]]]\n\n\n [[[109 110 111]\n   [112 113 114]\n   [115 116 117]]\n\n  [[118 119 120]\n   [121 122 123]\n   [124 125 126]]\n\n  [[127 128 129]\n   [130 131 132]\n   [133 134 135]]]]\n"
     ]
    }
   ],
   "source": [
    "# **Note** np.arange(include,exclude)\n",
    "_1_dimention_array = np.array(np.arange(1,10))\n",
    "_2_dimention_array = np.array(np.arange(1,11)).reshape(5,2)  # 5: row, 2 : column. 5*2 : 10\n",
    "_3_dimention_array = np.array(np.arange(1,46)).reshape(5,3,3) # 5: row, 3: column, 3: Depth, 5*3*3 = 45\n",
    "_4_dimention_array = np.array(np.arange(1,136)).reshape(5,3,3,3) #  row: 5, column: 3, Depth: 3, whole 3 dimentional array depth: 3\n",
    "print(_1_dimention_array)\n",
    "print(_2_dimention_array)\n",
    "print(_3_dimention_array)\n",
    "print(_4_dimention_array)"
   ]
  },
  {
   "cell_type": "code",
   "execution_count": 5,
   "metadata": {},
   "outputs": [
    {
     "output_type": "stream",
     "name": "stdout",
     "text": [
      "(9,) 1\n(5, 2) 2\n(5, 3, 3) 3\n(5, 3, 3, 3) 4\n"
     ]
    }
   ],
   "source": [
    "print(_1_dimention_array.shape,_1_dimention_array.ndim)\n",
    "print(_2_dimention_array.shape,_2_dimention_array.ndim)\n",
    "print(_3_dimention_array.shape,_3_dimention_array.ndim)\n",
    "print(_4_dimention_array.shape,_4_dimention_array.ndim)"
   ]
  },
  {
   "source": [
    "### Timing\n",
    "Why we should use array? although it's answer is annoying, but it's true: python numpy library written in C language.   Numpy computational power must faster than normal python list."
   ],
   "cell_type": "markdown",
   "metadata": {}
  },
  {
   "cell_type": "code",
   "execution_count": 6,
   "metadata": {},
   "outputs": [
    {
     "output_type": "stream",
     "name": "stdout",
     "text": [
      "Wall time: 386 ms\n"
     ]
    }
   ],
   "source": [
    "%time lis = [2*i for i in range(1000000)]"
   ]
  },
  {
   "cell_type": "code",
   "execution_count": 7,
   "metadata": {},
   "outputs": [
    {
     "output_type": "stream",
     "name": "stdout",
     "text": [
      "Wall time: 3.99 ms\n"
     ]
    },
    {
     "output_type": "execute_result",
     "data": {
      "text/plain": [
       "array([      2,       4,       6, ..., 1999994, 1999996, 1999998])"
      ]
     },
     "metadata": {},
     "execution_count": 7
    }
   ],
   "source": [
    "array = np.arange(1,1000000)\n",
    "%time array*2"
   ]
  },
  {
   "source": [
    "### Array Creation Function\n",
    "\n",
    "- asarray `Convert input to ndarray, but do not copy if the input is already an ndarray` &nbsp;\n",
    "- arange `Like the built-in range but returns an ndarray instead of a list` &nbsp;\n",
    "- ones `Produce an array of all 1s with the given shape and dtype` &nbsp;\n",
    "- ones_like `Produce an array of all 1s with the given shape and dtype; ones_like takes another array and produces a ones array of the same shape and dtype` &nbsp;\n",
    "- zeros `Like ones and ones_like but producing arrays of 0s instead` &nbsp;\n",
    "- zeros_like `zero reference`\n",
    "- empty `Create new arrays by allocating new memory, but do not populate with any values like ones and zeros` &nbsp; \n",
    "- empty_like `Above reference ` &nbsp;\n",
    "- full : `Produce an array of the given shape and dtype with all values set to the indicated “fill value”` &nbsp\n",
    "- full_like `Above reference`\n",
    "- full_like ` takes another array and produces a filled array of the same shape and dtype`\n",
    "- eye, identity `Create a square N × N identity matrix (1s on the diagonal and 0s elsewhere)`"
   ],
   "cell_type": "markdown",
   "metadata": {}
  },
  {
   "source": [
    "#### Very interesting fact about numpy array. see example:"
   ],
   "cell_type": "markdown",
   "metadata": {}
  },
  {
   "cell_type": "code",
   "execution_count": 8,
   "metadata": {},
   "outputs": [
    {
     "output_type": "execute_result",
     "data": {
      "text/plain": [
       "array([0, 1, 2, 3, 4, 5, 6, 7, 8, 9])"
      ]
     },
     "metadata": {},
     "execution_count": 8
    }
   ],
   "source": [
    "array = np.arange(10)\n",
    "array"
   ]
  },
  {
   "cell_type": "code",
   "execution_count": 9,
   "metadata": {},
   "outputs": [
    {
     "output_type": "execute_result",
     "data": {
      "text/plain": [
       "array([4, 5, 6, 7, 8, 9])"
      ]
     },
     "metadata": {},
     "execution_count": 9
    }
   ],
   "source": [
    "new_array = array[4:]\n",
    "new_array"
   ]
  },
  {
   "cell_type": "code",
   "execution_count": 10,
   "metadata": {},
   "outputs": [
    {
     "output_type": "stream",
     "name": "stdout",
     "text": [
      "[[1. 1. 1.]\n [1. 1. 1.]]\n[1 1 1 1 1 1 1 1 1 1 1 1]\n"
     ]
    }
   ],
   "source": [
    "# ones and ones_like\n",
    "one = np.ones((2,3))     # numpy.ones(shape, dtype=None, order='C')\n",
    "print(one)\n",
    "one_like = np.ones_like(np.arange(12))  # it can be convert multi dimentional value of vector into multidimentional value of 1's\n",
    "print(one_like)            "
   ]
  },
  {
   "cell_type": "code",
   "execution_count": 11,
   "metadata": {},
   "outputs": [
    {
     "output_type": "stream",
     "name": "stdout",
     "text": [
      "[[0. 0. 0. 0.]\n",
      " [0. 0. 0. 0.]\n",
      " [0. 0. 0. 0.]\n",
      " [0. 0. 0. 0.]]\n",
      "[[0 0 0 0]\n",
      " [0 0 0 0]\n",
      " [0 0 0 0]\n",
      " [0 0 0 0]]\n"
     ]
    }
   ],
   "source": [
    "# Zero and Zero_like\n",
    "zero = np.zeros((4,4))\n",
    "print(zero)\n",
    "zero_like = np.zeros_like(np.arange(1,17).reshape(4,4))\n",
    "print(zero_like)\n"
   ]
  },
  {
   "cell_type": "code",
   "execution_count": 12,
   "metadata": {},
   "outputs": [
    {
     "output_type": "stream",
     "name": "stdout",
     "text": [
      "[[inf inf]\n [inf inf]]\n[['a' 'b']\n ['a' 'b']]\n"
     ]
    }
   ],
   "source": [
    "# full and full like\n",
    "# numpy.full(shape, fill_value, dtype=None, order='C')\n",
    "full = np.full((2,2),np.inf)\n",
    "print(full)\n",
    "full_coustome = np.full((2,2),['a','b'])\n",
    "print(full_coustome)\n"
   ]
  },
  {
   "cell_type": "code",
   "execution_count": 13,
   "metadata": {},
   "outputs": [
    {
     "output_type": "execute_result",
     "data": {
      "text/plain": [
       "array([1, 1, 1, 1, 1, 1])"
      ]
     },
     "metadata": {},
     "execution_count": 13
    }
   ],
   "source": [
    "# numpy.full_like(a, fill_value, dtype=None, order='K', subok=True, shape=None)\n",
    "full_like = np.full_like(np.arange(6),1)\n",
    "full_like\n",
    "full_like2 = np.full_like(np.arange(6),0.4)\n",
    "full_like\n"
   ]
  },
  {
   "cell_type": "code",
   "execution_count": 14,
   "metadata": {},
   "outputs": [
    {
     "output_type": "execute_result",
     "data": {
      "text/plain": [
       "array([[1., 0., 0., 0.],\n",
       "       [0., 1., 0., 0.],\n",
       "       [0., 0., 1., 0.],\n",
       "       [0., 0., 0., 1.]])"
      ]
     },
     "metadata": {},
     "execution_count": 14
    }
   ],
   "source": [
    "# eye or identity\n",
    "eye = np.eye(4)\n",
    "eye"
   ]
  },
  {
   "source": [
    "### Arithmetic with Numpy Array\n",
    "- Addition.\n",
    "- Substraction.\n",
    "- Division.\n",
    "- Multiplication.\n",
    "- Complex Number \n"
   ],
   "cell_type": "markdown",
   "metadata": {}
  },
  {
   "cell_type": "code",
   "execution_count": 15,
   "metadata": {},
   "outputs": [
    {
     "output_type": "stream",
     "name": "stdout",
     "text": [
      "***** Addition********\n",
      "[[ 2  4  6  8]\n",
      " [10 12 14 16]\n",
      " [18 20 22 24]\n",
      " [26 28 30 32]]\n",
      "*****Subtraction********\n",
      "[[ 2  4  6  8]\n",
      " [10 12 14 16]\n",
      " [18 20 22 24]\n",
      " [26 28 30 32]]\n",
      "*****Method 1: Multiplication********\n",
      "[[  1   4   9  16]\n",
      " [ 25  36  49  64]\n",
      " [ 81 100 121 144]\n",
      " [169 196 225 256]]\n",
      "*****Method 2: Multiplication********\n",
      "[[ 90 100 110 120]\n",
      " [202 228 254 280]\n",
      " [314 356 398 440]\n",
      " [426 484 542 600]]\n",
      "*****Division********\n",
      "[[1. 1. 1. 1.]\n",
      " [1. 1. 1. 1.]\n",
      " [1. 1. 1. 1.]\n",
      " [1. 1. 1. 1.]]\n"
     ]
    }
   ],
   "source": [
    "array1 = np.arange(1,17).reshape(4,4)\n",
    "array2 = np.arange(1,17).reshape(4,4)\n",
    "addition = array1 + array2\n",
    "print('***** Addition********')\n",
    "print(addition)\n",
    "subtraction = array1 + array2\n",
    "print('*****Subtraction********')\n",
    "print(subtraction)\n",
    "multiplication1 = array1*array2\n",
    "print('*****Method 1: Multiplication********')\n",
    "print(multiplication1)\n",
    "multiplication2 = array1 @ array2\n",
    "print('*****Method 2: Multiplication********')\n",
    "print(multiplication2)\n",
    "division = array1/array2\n",
    "print('*****Division********')\n",
    "print(division)\n"
   ]
  },
  {
   "source": [
    "### Slicing:\n",
    "`What is Slicing? selecting inside elements from array. It may be single or multidimentional slicing.\n"
   ],
   "cell_type": "markdown",
   "metadata": {}
  },
  {
   "cell_type": "code",
   "execution_count": 16,
   "metadata": {},
   "outputs": [
    {
     "output_type": "stream",
     "name": "stdout",
     "text": [
      "[1 2 3 4 5 6]\n[7 8 9]\n"
     ]
    }
   ],
   "source": [
    "# single dimention silicing.\n",
    "arr = np.array(np.arange(1,10))\n",
    "print(arr[:6]) \n",
    "print(arr[6:])"
   ]
  },
  {
   "source": [
    "### important fact about numpy "
   ],
   "cell_type": "markdown",
   "metadata": {}
  },
  {
   "cell_type": "code",
   "execution_count": 17,
   "metadata": {},
   "outputs": [
    {
     "output_type": "stream",
     "name": "stdout",
     "text": [
      "[1 2 3 4 5 6 0 0 0]\nAs you noticed that we chnage only new array but it's result also reflect at old arr\n"
     ]
    }
   ],
   "source": [
    "new_arr = arr[6:]\n",
    "new_arr[:] = 0\n",
    "print(arr)\n",
    "print(\"As you noticed that we chnage only new array but it's result also reflect at old arr\")"
   ]
  },
  {
   "cell_type": "code",
   "execution_count": 18,
   "metadata": {},
   "outputs": [
    {
     "output_type": "stream",
     "name": "stdout",
     "text": [
      "[0 0 0 0 0 0]\n[1 2 3 4 5 6 7 8 9]\n"
     ]
    }
   ],
   "source": [
    "arr2 = np.array(np.arange(1,10))\n",
    "copyarray = arr2[3:].copy()\n",
    "copyarray[:] = 0\n",
    "print(copyarray)\n",
    "print(arr2)"
   ]
  },
  {
   "cell_type": "code",
   "execution_count": 19,
   "metadata": {},
   "outputs": [
    {
     "output_type": "stream",
     "name": "stdout",
     "text": [
      "[[ 1  2  3  4]\n",
      " [ 5  6  7  8]\n",
      " [ 9 10 11 12]\n",
      " [13 14 15 16]]\n"
     ]
    }
   ],
   "source": [
    "# 2 dimentional slicing\n",
    "_2array = np.array(np.arange(1,17).reshape(4,4))\n",
    "print(_2array)"
   ]
  },
  {
   "cell_type": "code",
   "execution_count": 20,
   "metadata": {},
   "outputs": [
    {
     "output_type": "execute_result",
     "data": {
      "text/plain": [
       "array([1, 2, 3, 4])"
      ]
     },
     "metadata": {},
     "execution_count": 20
    }
   ],
   "source": [
    "_2array[0][:]"
   ]
  },
  {
   "cell_type": "code",
   "execution_count": 21,
   "metadata": {},
   "outputs": [
    {
     "output_type": "execute_result",
     "data": {
      "text/plain": [
       "array([[[ 1,  2,  3],\n",
       "        [ 4,  5,  6],\n",
       "        [ 7,  8,  9]],\n",
       "\n",
       "       [[10, 11, 12],\n",
       "        [13, 14, 15],\n",
       "        [16, 17, 18]],\n",
       "\n",
       "       [[19, 20, 21],\n",
       "        [22, 23, 24],\n",
       "        [25, 26, 27]]])"
      ]
     },
     "metadata": {},
     "execution_count": 21
    }
   ],
   "source": [
    " _3darr = np.array(np.arange(1,28).reshape(3,3,3))\n",
    " _3darr"
   ]
  },
  {
   "cell_type": "code",
   "execution_count": 22,
   "metadata": {},
   "outputs": [
    {
     "output_type": "execute_result",
     "data": {
      "text/plain": [
       "array([[1, 2, 3],\n",
       "       [4, 5, 6],\n",
       "       [7, 8, 9]])"
      ]
     },
     "metadata": {},
     "execution_count": 22
    }
   ],
   "source": [
    "x = _3darr[0]\n",
    "x"
   ]
  },
  {
   "cell_type": "code",
   "execution_count": 23,
   "metadata": {},
   "outputs": [
    {
     "output_type": "execute_result",
     "data": {
      "text/plain": [
       "array([1, 2, 3])"
      ]
     },
     "metadata": {},
     "execution_count": 23
    }
   ],
   "source": [
    "x[0]"
   ]
  },
  {
   "source": [
    "## Indexing Vs Slicing\n",
    "index means in array (numpy array), starting position of zero and till nth location. &nbsp;\n",
    "Slicing means break array into futher pieces.\n"
   ],
   "cell_type": "markdown",
   "metadata": {}
  },
  {
   "source": [
    "### Indexing with Slices"
   ],
   "cell_type": "markdown",
   "metadata": {}
  },
  {
   "cell_type": "code",
   "execution_count": 24,
   "metadata": {},
   "outputs": [
    {
     "output_type": "execute_result",
     "data": {
      "text/plain": [
       "array([2, 3, 4, 5, 6])"
      ]
     },
     "metadata": {},
     "execution_count": 24
    }
   ],
   "source": [
    "\n",
    "# first dimention\n",
    "arr[1:6]"
   ]
  },
  {
   "cell_type": "code",
   "execution_count": 25,
   "metadata": {},
   "outputs": [
    {
     "output_type": "execute_result",
     "data": {
      "text/plain": [
       "array([[ 1,  2,  3,  4],\n",
       "       [ 5,  6,  7,  8],\n",
       "       [ 9, 10, 11, 12],\n",
       "       [13, 14, 15, 16]])"
      ]
     },
     "metadata": {},
     "execution_count": 25
    }
   ],
   "source": [
    "_2array"
   ]
  },
  {
   "cell_type": "code",
   "execution_count": 26,
   "metadata": {},
   "outputs": [
    {
     "output_type": "execute_result",
     "data": {
      "text/plain": [
       "array([[1, 2, 3, 4],\n",
       "       [5, 6, 7, 8]])"
      ]
     },
     "metadata": {},
     "execution_count": 26
    }
   ],
   "source": [
    "_2array[:2]  # slicing at axis 0."
   ]
  },
  {
   "cell_type": "code",
   "execution_count": 27,
   "metadata": {},
   "outputs": [
    {
     "output_type": "execute_result",
     "data": {
      "text/plain": [
       "array([[2, 3, 4],\n",
       "       [6, 7, 8]])"
      ]
     },
     "metadata": {},
     "execution_count": 27
    }
   ],
   "source": [
    "_2array[:2,1:]"
   ]
  },
  {
   "cell_type": "code",
   "execution_count": 28,
   "metadata": {},
   "outputs": [
    {
     "output_type": "execute_result",
     "data": {
      "text/plain": [
       "array([[ 1],\n",
       "       [ 5],\n",
       "       [ 9],\n",
       "       [13]])"
      ]
     },
     "metadata": {},
     "execution_count": 28
    }
   ],
   "source": [
    "_2array[:,:1]"
   ]
  },
  {
   "cell_type": "code",
   "execution_count": 29,
   "metadata": {},
   "outputs": [
    {
     "output_type": "execute_result",
     "data": {
      "text/plain": [
       "array([[[ 1,  2,  3],\n",
       "        [ 4,  5,  6],\n",
       "        [ 7,  8,  9]],\n",
       "\n",
       "       [[10, 11, 12],\n",
       "        [13, 14, 15],\n",
       "        [16, 17, 18]],\n",
       "\n",
       "       [[19, 20, 21],\n",
       "        [22, 23, 24],\n",
       "        [25, 26, 27]]])"
      ]
     },
     "metadata": {},
     "execution_count": 29
    }
   ],
   "source": [
    "_3darr"
   ]
  },
  {
   "cell_type": "code",
   "execution_count": 30,
   "metadata": {},
   "outputs": [
    {
     "output_type": "execute_result",
     "data": {
      "text/plain": [
       "array([[1, 2, 3],\n",
       "       [4, 5, 6],\n",
       "       [7, 8, 9]])"
      ]
     },
     "metadata": {},
     "execution_count": 30
    }
   ],
   "source": [
    "x3 = _3darr[0]\n",
    "x3"
   ]
  },
  {
   "source": [
    "## Boolean Index"
   ],
   "cell_type": "markdown",
   "metadata": {}
  },
  {
   "cell_type": "code",
   "execution_count": 31,
   "metadata": {},
   "outputs": [],
   "source": [
    "string_list = np.array(['a','b','c','d','e','f'])\n",
    "numbers = np.random.rand(6,6)"
   ]
  },
  {
   "cell_type": "code",
   "execution_count": 32,
   "metadata": {},
   "outputs": [
    {
     "output_type": "stream",
     "name": "stdout",
     "text": [
      "['a' 'b' 'c' 'd' 'e' 'f']\n[[0.03762245 0.54522178 0.02551724 0.59868818 0.34240408 0.85752182]\n [0.85948742 0.92996979 0.01594085 0.85355159 0.26211164 0.91172376]\n [0.43588122 0.53841202 0.40905933 0.309152   0.71088877 0.83549856]\n [0.8553929  0.09942158 0.46798852 0.19588041 0.7986551  0.00253846]\n [0.52692559 0.55343048 0.55593192 0.78418538 0.8887327  0.14936529]\n [0.2864753  0.51743121 0.31655    0.89755616 0.73943008 0.97202471]]\n"
     ]
    }
   ],
   "source": [
    "print(string_list)\n",
    "print(numbers)"
   ]
  },
  {
   "cell_type": "code",
   "execution_count": 33,
   "metadata": {},
   "outputs": [
    {
     "output_type": "execute_result",
     "data": {
      "text/plain": [
       "array([ True, False, False, False, False, False])"
      ]
     },
     "metadata": {},
     "execution_count": 33
    }
   ],
   "source": [
    "string_list == 'a'"
   ]
  },
  {
   "cell_type": "code",
   "execution_count": 34,
   "metadata": {},
   "outputs": [
    {
     "output_type": "execute_result",
     "data": {
      "text/plain": [
       "array([[0.03762245, 0.54522178, 0.02551724, 0.59868818, 0.34240408,\n",
       "        0.85752182]])"
      ]
     },
     "metadata": {},
     "execution_count": 34
    }
   ],
   "source": [
    "numbers[string_list == 'a']"
   ]
  },
  {
   "cell_type": "code",
   "execution_count": 35,
   "metadata": {},
   "outputs": [
    {
     "output_type": "execute_result",
     "data": {
      "text/plain": [
       "array([[0.54522178, 0.02551724, 0.59868818]])"
      ]
     },
     "metadata": {},
     "execution_count": 35
    }
   ],
   "source": [
    "numbers[string_list == 'a' ,1:4]"
   ]
  },
  {
   "cell_type": "code",
   "execution_count": 36,
   "metadata": {},
   "outputs": [
    {
     "output_type": "execute_result",
     "data": {
      "text/plain": [
       "array([0.54522178])"
      ]
     },
     "metadata": {},
     "execution_count": 36
    }
   ],
   "source": [
    "numbers[string_list == 'a' ,1]"
   ]
  },
  {
   "cell_type": "code",
   "execution_count": 37,
   "metadata": {},
   "outputs": [
    {
     "output_type": "execute_result",
     "data": {
      "text/plain": [
       "array([[0.85948742, 0.92996979, 0.01594085, 0.85355159, 0.26211164,\n",
       "        0.91172376],\n",
       "       [0.43588122, 0.53841202, 0.40905933, 0.309152  , 0.71088877,\n",
       "        0.83549856],\n",
       "       [0.8553929 , 0.09942158, 0.46798852, 0.19588041, 0.7986551 ,\n",
       "        0.00253846],\n",
       "       [0.52692559, 0.55343048, 0.55593192, 0.78418538, 0.8887327 ,\n",
       "        0.14936529],\n",
       "       [0.2864753 , 0.51743121, 0.31655   , 0.89755616, 0.73943008,\n",
       "        0.97202471]])"
      ]
     },
     "metadata": {},
     "execution_count": 37
    }
   ],
   "source": [
    "numbers[string_list != 'a' ]"
   ]
  },
  {
   "cell_type": "code",
   "execution_count": 38,
   "metadata": {},
   "outputs": [],
   "source": [
    "invert = string_list == 'a'"
   ]
  },
  {
   "cell_type": "code",
   "execution_count": 39,
   "metadata": {},
   "outputs": [
    {
     "output_type": "execute_result",
     "data": {
      "text/plain": [
       "array([ True, False, False, False, False, False])"
      ]
     },
     "metadata": {},
     "execution_count": 39
    }
   ],
   "source": [
    "invert"
   ]
  },
  {
   "cell_type": "code",
   "execution_count": 40,
   "metadata": {},
   "outputs": [
    {
     "output_type": "execute_result",
     "data": {
      "text/plain": [
       "array([[0.85948742, 0.92996979, 0.01594085, 0.85355159, 0.26211164,\n",
       "        0.91172376],\n",
       "       [0.43588122, 0.53841202, 0.40905933, 0.309152  , 0.71088877,\n",
       "        0.83549856],\n",
       "       [0.8553929 , 0.09942158, 0.46798852, 0.19588041, 0.7986551 ,\n",
       "        0.00253846],\n",
       "       [0.52692559, 0.55343048, 0.55593192, 0.78418538, 0.8887327 ,\n",
       "        0.14936529],\n",
       "       [0.2864753 , 0.51743121, 0.31655   , 0.89755616, 0.73943008,\n",
       "        0.97202471]])"
      ]
     },
     "metadata": {},
     "execution_count": 40
    }
   ],
   "source": [
    "numbers[~invert]"
   ]
  },
  {
   "source": [
    "### Logical Operator or Bitwise opeartor\n",
    "- instead of or (python) we use | (pipe symbol)\n",
    "- instead of and (python) we use and (simple english word and)"
   ],
   "cell_type": "markdown",
   "metadata": {}
  },
  {
   "cell_type": "code",
   "execution_count": 41,
   "metadata": {},
   "outputs": [
    {
     "output_type": "stream",
     "name": "stdout",
     "text": [
      "[ True  True False False False False]\n"
     ]
    }
   ],
   "source": [
    "bitwise = (string_list == 'a') | (string_list == 'b')\n",
    "print(bitwise)"
   ]
  },
  {
   "cell_type": "code",
   "execution_count": 42,
   "metadata": {},
   "outputs": [
    {
     "output_type": "execute_result",
     "data": {
      "text/plain": [
       "array([[0.03762245, 0.54522178, 0.02551724, 0.59868818, 0.34240408,\n",
       "        0.85752182],\n",
       "       [0.85948742, 0.92996979, 0.01594085, 0.85355159, 0.26211164,\n",
       "        0.91172376]])"
      ]
     },
     "metadata": {},
     "execution_count": 42
    }
   ],
   "source": [
    "numbers[bitwise]"
   ]
  },
  {
   "cell_type": "code",
   "execution_count": 43,
   "metadata": {},
   "outputs": [
    {
     "output_type": "execute_result",
     "data": {
      "text/plain": [
       "array([0.03762245, 0.02551724, 0.01594085, 0.26211164, 0.09942158,\n",
       "       0.19588041, 0.00253846, 0.14936529, 0.2864753 ])"
      ]
     },
     "metadata": {},
     "execution_count": 43
    }
   ],
   "source": [
    "numbers[numbers <= 0.3]"
   ]
  },
  {
   "cell_type": "code",
   "execution_count": 44,
   "metadata": {},
   "outputs": [],
   "source": [
    "numbers[numbers <= 0.2] = 'NAN'"
   ]
  },
  {
   "cell_type": "code",
   "execution_count": 45,
   "metadata": {},
   "outputs": [
    {
     "output_type": "execute_result",
     "data": {
      "text/plain": [
       "array([[       nan, 0.54522178,        nan, 0.59868818, 0.34240408,\n",
       "        0.85752182],\n",
       "       [0.85948742, 0.92996979,        nan, 0.85355159, 0.26211164,\n",
       "        0.91172376],\n",
       "       [0.43588122, 0.53841202, 0.40905933, 0.309152  , 0.71088877,\n",
       "        0.83549856],\n",
       "       [0.8553929 ,        nan, 0.46798852,        nan, 0.7986551 ,\n",
       "               nan],\n",
       "       [0.52692559, 0.55343048, 0.55593192, 0.78418538, 0.8887327 ,\n",
       "               nan],\n",
       "       [0.2864753 , 0.51743121, 0.31655   , 0.89755616, 0.73943008,\n",
       "        0.97202471]])"
      ]
     },
     "metadata": {},
     "execution_count": 45
    }
   ],
   "source": [
    "numbers"
   ]
  },
  {
   "cell_type": "code",
   "execution_count": 46,
   "metadata": {},
   "outputs": [
    {
     "output_type": "execute_result",
     "data": {
      "text/plain": [
       "array([[        nan,  0.54522178,         nan,  0.59868818,  0.34240408,\n",
       "         0.85752182],\n",
       "       [10.        , 10.        , 10.        , 10.        , 10.        ,\n",
       "        10.        ],\n",
       "       [10.        , 10.        , 10.        , 10.        , 10.        ,\n",
       "        10.        ],\n",
       "       [10.        , 10.        , 10.        , 10.        , 10.        ,\n",
       "        10.        ],\n",
       "       [10.        , 10.        , 10.        , 10.        , 10.        ,\n",
       "        10.        ],\n",
       "       [10.        , 10.        , 10.        , 10.        , 10.        ,\n",
       "        10.        ]])"
      ]
     },
     "metadata": {},
     "execution_count": 46
    }
   ],
   "source": [
    "numbers[string_list != 'a'] = 10\n",
    "numbers\n"
   ]
  },
  {
   "source": [
    "# Fancy Indexing"
   ],
   "cell_type": "markdown",
   "metadata": {}
  },
  {
   "cell_type": "code",
   "execution_count": 47,
   "metadata": {},
   "outputs": [
    {
     "output_type": "execute_result",
     "data": {
      "text/plain": [
       "array([55,  3, 25, 16, 15, 37, 25, 99, 66, 17])"
      ]
     },
     "metadata": {},
     "execution_count": 47
    }
   ],
   "source": [
    "np.random.randint(100,size=10)"
   ]
  },
  {
   "cell_type": "code",
   "execution_count": 48,
   "metadata": {},
   "outputs": [],
   "source": [
    "fancyarry =  np.arange(10)"
   ]
  },
  {
   "cell_type": "code",
   "execution_count": 49,
   "metadata": {},
   "outputs": [
    {
     "output_type": "execute_result",
     "data": {
      "text/plain": [
       "[4, 2, 0]"
      ]
     },
     "metadata": {},
     "execution_count": 49
    }
   ],
   "source": [
    "[fancyarry[4],fancyarry[2],fancyarry[0]]\n"
   ]
  },
  {
   "cell_type": "code",
   "execution_count": 50,
   "metadata": {},
   "outputs": [
    {
     "output_type": "execute_result",
     "data": {
      "text/plain": [
       "array([4, 2, 0])"
      ]
     },
     "metadata": {},
     "execution_count": 50
    }
   ],
   "source": [
    "fancyarry[[4,2,0]]"
   ]
  },
  {
   "cell_type": "code",
   "execution_count": 51,
   "metadata": {},
   "outputs": [],
   "source": [
    "fancyindex = np.empty((10,10))\n",
    "for i in range(10):\n",
    "    fancyindex[i] = i"
   ]
  },
  {
   "cell_type": "code",
   "execution_count": 52,
   "metadata": {},
   "outputs": [
    {
     "output_type": "execute_result",
     "data": {
      "text/plain": [
       "array([[0., 0., 0., 0., 0., 0., 0., 0., 0., 0.],\n",
       "       [1., 1., 1., 1., 1., 1., 1., 1., 1., 1.],\n",
       "       [2., 2., 2., 2., 2., 2., 2., 2., 2., 2.],\n",
       "       [3., 3., 3., 3., 3., 3., 3., 3., 3., 3.],\n",
       "       [4., 4., 4., 4., 4., 4., 4., 4., 4., 4.],\n",
       "       [5., 5., 5., 5., 5., 5., 5., 5., 5., 5.],\n",
       "       [6., 6., 6., 6., 6., 6., 6., 6., 6., 6.],\n",
       "       [7., 7., 7., 7., 7., 7., 7., 7., 7., 7.],\n",
       "       [8., 8., 8., 8., 8., 8., 8., 8., 8., 8.],\n",
       "       [9., 9., 9., 9., 9., 9., 9., 9., 9., 9.]])"
      ]
     },
     "metadata": {},
     "execution_count": 52
    }
   ],
   "source": [
    "fancyindex"
   ]
  },
  {
   "cell_type": "code",
   "execution_count": 53,
   "metadata": {},
   "outputs": [
    {
     "output_type": "execute_result",
     "data": {
      "text/plain": [
       "array([0., 0., 0., 0., 0., 0., 0., 0., 0., 0.])"
      ]
     },
     "metadata": {},
     "execution_count": 53
    }
   ],
   "source": [
    "fancyindex[0]"
   ]
  },
  {
   "cell_type": "code",
   "execution_count": 54,
   "metadata": {},
   "outputs": [
    {
     "output_type": "execute_result",
     "data": {
      "text/plain": [
       "array([[0., 0., 0., 0., 0., 0., 0., 0., 0., 0.],\n",
       "       [5., 5., 5., 5., 5., 5., 5., 5., 5., 5.]])"
      ]
     },
     "metadata": {},
     "execution_count": 54
    }
   ],
   "source": [
    "fancyindex[[0,5]]"
   ]
  },
  {
   "cell_type": "code",
   "execution_count": 55,
   "metadata": {},
   "outputs": [
    {
     "output_type": "execute_result",
     "data": {
      "text/plain": [
       "array([[ 0,  1,  2,  3],\n",
       "       [ 4,  5,  6,  7],\n",
       "       [ 8,  9, 10, 11],\n",
       "       [12, 13, 14, 15]])"
      ]
     },
     "metadata": {},
     "execution_count": 55
    }
   ],
   "source": [
    "fancyindex2 = np.arange(16).reshape(4,4)\n",
    "fancyindex2"
   ]
  },
  {
   "cell_type": "code",
   "execution_count": 56,
   "metadata": {},
   "outputs": [
    {
     "output_type": "execute_result",
     "data": {
      "text/plain": [
       "array([ 1, 13])"
      ]
     },
     "metadata": {},
     "execution_count": 56
    }
   ],
   "source": [
    "fancyindex2[[0,3],[1]]"
   ]
  },
  {
   "cell_type": "code",
   "execution_count": 57,
   "metadata": {},
   "outputs": [
    {
     "output_type": "execute_result",
     "data": {
      "text/plain": [
       "array([[ 1,  0,  3,  2],\n",
       "       [ 9,  8, 11, 10]])"
      ]
     },
     "metadata": {},
     "execution_count": 57
    }
   ],
   "source": [
    "fancyindex2[[0,2]][:,[1,0,3,2]]"
   ]
  },
  {
   "cell_type": "code",
   "execution_count": 58,
   "metadata": {},
   "outputs": [
    {
     "output_type": "execute_result",
     "data": {
      "text/plain": [
       "array([[[ 0,  1,  2],\n",
       "        [ 3,  4,  5],\n",
       "        [ 6,  7,  8]],\n",
       "\n",
       "       [[ 9, 10, 11],\n",
       "        [12, 13, 14],\n",
       "        [15, 16, 17]],\n",
       "\n",
       "       [[18, 19, 20],\n",
       "        [21, 22, 23],\n",
       "        [24, 25, 26]]])"
      ]
     },
     "metadata": {},
     "execution_count": 58
    }
   ],
   "source": [
    "# three dimentional\n",
    "fancyindex3 = np.arange(27).reshape(3,3,3)\n",
    "fancyindex3"
   ]
  },
  {
   "cell_type": "code",
   "execution_count": 59,
   "metadata": {},
   "outputs": [
    {
     "output_type": "execute_result",
     "data": {
      "text/plain": [
       "array([[ 0,  1,  2],\n",
       "       [21, 22, 23],\n",
       "       [ 9, 10, 11]])"
      ]
     },
     "metadata": {},
     "execution_count": 59
    }
   ],
   "source": [
    "fancyindex3[[0,2,1],[0,1,0]]"
   ]
  },
  {
   "cell_type": "code",
   "execution_count": 59,
   "metadata": {},
   "outputs": [],
   "source": [
    "\n",
    "\n"
   ]
  }
 ],
 "metadata": {
  "kernelspec": {
   "display_name": "Python 3",
   "language": "python",
   "name": "python3"
  },
  "language_info": {
   "codemirror_mode": {
    "name": "ipython",
    "version": 3
   },
   "file_extension": ".py",
   "mimetype": "text/x-python",
   "name": "python",
   "nbconvert_exporter": "python",
   "pygments_lexer": "ipython3",
   "version": "3.7.3-final"
  }
 },
 "nbformat": 4,
 "nbformat_minor": 2
}