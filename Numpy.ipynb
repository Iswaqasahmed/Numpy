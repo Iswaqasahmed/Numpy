{
 "cells": [
  {
   "cell_type": "markdown",
   "metadata": {},
   "source": [
    "Numpy is the fundamental package for numeric computing with Python. It provides powerful ways to create,\n",
    "store, and/or manipulate data, which makes it able to seamlessly and speedily integrate with a wide variety\n",
    "of databases. This is also the foundation that Pandas is built on, which is a high-performance data-centric\n",
    "package that we will learn later in the course.\n",
    "\n",
    "In this lecture, we will talk about creating array with certain data types, manipulating array, selecting\n",
    "elements from arrays, and loading dataset into array. Such functions are useful for manipulating data and\n",
    "understanding the functionalities of other common Python data packages."
   ]
  },
  {
   "cell_type": "code",
   "execution_count": 1,
   "metadata": {},
   "outputs": [],
   "source": [
    "# You'll recall that we import a library using the `import` keyword as numpy's common abbreviation is np\n",
    "import numpy as np # first import numpy module"
   ]
  },
  {
   "cell_type": "code",
   "execution_count": 2,
   "metadata": {},
   "outputs": [
    {
     "output_type": "execute_result",
     "data": {
      "text/plain": [
       "'1.16.2'"
      ]
     },
     "metadata": {},
     "execution_count": 2
    }
   ],
   "source": [
    "np.__version__   # there are different version of numpy, it's good approach to be touch with latest update. (tip)"
   ]
  },
  {
   "cell_type": "code",
   "execution_count": 3,
   "metadata": {},
   "outputs": [
    {
     "output_type": "stream",
     "name": "stdout",
     "text": [
      "Array [1 2 3 4 5 5 6 7 8 9], Type of arrayint32\n"
     ]
    }
   ],
   "source": [
    "lis = [1,2,3,4,5,5,6,7,8,9]\n",
    "_1dim = np.array(lis)\n",
    "print('Array {0}, Type of array{1}'.format(_1dim,_1dim.dtype))"
   ]
  },
  {
   "source": [
    "### Concept of Dimenstion in Array:\n",
    "`there are a lot of dimension to be possible in array. we should only focus of mostly and oftenly use.`"
   ],
   "cell_type": "markdown",
   "metadata": {}
  },
  {
   "cell_type": "code",
   "execution_count": 4,
   "metadata": {},
   "outputs": [
    {
     "output_type": "stream",
     "name": "stdout",
     "text": [
      "[1 2 3 4 5 6 7 8 9]\n[[ 1  2]\n [ 3  4]\n [ 5  6]\n [ 7  8]\n [ 9 10]]\n[[[ 1  2  3]\n  [ 4  5  6]\n  [ 7  8  9]]\n\n [[10 11 12]\n  [13 14 15]\n  [16 17 18]]\n\n [[19 20 21]\n  [22 23 24]\n  [25 26 27]]\n\n [[28 29 30]\n  [31 32 33]\n  [34 35 36]]\n\n [[37 38 39]\n  [40 41 42]\n  [43 44 45]]]\n[[[[  1   2   3]\n   [  4   5   6]\n   [  7   8   9]]\n\n  [[ 10  11  12]\n   [ 13  14  15]\n   [ 16  17  18]]\n\n  [[ 19  20  21]\n   [ 22  23  24]\n   [ 25  26  27]]]\n\n\n [[[ 28  29  30]\n   [ 31  32  33]\n   [ 34  35  36]]\n\n  [[ 37  38  39]\n   [ 40  41  42]\n   [ 43  44  45]]\n\n  [[ 46  47  48]\n   [ 49  50  51]\n   [ 52  53  54]]]\n\n\n [[[ 55  56  57]\n   [ 58  59  60]\n   [ 61  62  63]]\n\n  [[ 64  65  66]\n   [ 67  68  69]\n   [ 70  71  72]]\n\n  [[ 73  74  75]\n   [ 76  77  78]\n   [ 79  80  81]]]\n\n\n [[[ 82  83  84]\n   [ 85  86  87]\n   [ 88  89  90]]\n\n  [[ 91  92  93]\n   [ 94  95  96]\n   [ 97  98  99]]\n\n  [[100 101 102]\n   [103 104 105]\n   [106 107 108]]]\n\n\n [[[109 110 111]\n   [112 113 114]\n   [115 116 117]]\n\n  [[118 119 120]\n   [121 122 123]\n   [124 125 126]]\n\n  [[127 128 129]\n   [130 131 132]\n   [133 134 135]]]]\n"
     ]
    }
   ],
   "source": [
    "# **Note** np.arange(include,exclude)\n",
    "_1_dimention_array = np.array(np.arange(1,10))\n",
    "_2_dimention_array = np.array(np.arange(1,11)).reshape(5,2)  # 5: row, 2 : column. 5*2 : 10\n",
    "_3_dimention_array = np.array(np.arange(1,46)).reshape(5,3,3) # 5: row, 3: column, 3: Depth, 5*3*3 = 45\n",
    "_4_dimention_array = np.array(np.arange(1,136)).reshape(5,3,3,3) #  row: 5, column: 3, Depth: 3, whole 3 dimentional array depth: 3\n",
    "print(_1_dimention_array)\n",
    "print(_2_dimention_array)\n",
    "print(_3_dimention_array)\n",
    "print(_4_dimention_array)"
   ]
  },
  {
   "cell_type": "code",
   "execution_count": 5,
   "metadata": {},
   "outputs": [
    {
     "output_type": "stream",
     "name": "stdout",
     "text": [
      "(9,) 1\n(5, 2) 2\n(5, 3, 3) 3\n(5, 3, 3, 3) 4\n"
     ]
    }
   ],
   "source": [
    "print(_1_dimention_array.shape,_1_dimention_array.ndim)\n",
    "print(_2_dimention_array.shape,_2_dimention_array.ndim)\n",
    "print(_3_dimention_array.shape,_3_dimention_array.ndim)\n",
    "print(_4_dimention_array.shape,_4_dimention_array.ndim)"
   ]
  },
  {
   "source": [
    "### Timing\n",
    "Why we should use array? although it's answer is annoying, but it's true: python numpy library written in C language.   Numpy computational power must faster than normal python list."
   ],
   "cell_type": "markdown",
   "metadata": {}
  },
  {
   "cell_type": "code",
   "execution_count": 6,
   "metadata": {},
   "outputs": [
    {
     "output_type": "stream",
     "name": "stdout",
     "text": [
      "Wall time: 386 ms\n"
     ]
    }
   ],
   "source": [
    "%time lis = [2*i for i in range(1000000)]"
   ]
  },
  {
   "cell_type": "code",
   "execution_count": 7,
   "metadata": {},
   "outputs": [
    {
     "output_type": "stream",
     "name": "stdout",
     "text": [
      "Wall time: 3.99 ms\n"
     ]
    },
    {
     "output_type": "execute_result",
     "data": {
      "text/plain": [
       "array([      2,       4,       6, ..., 1999994, 1999996, 1999998])"
      ]
     },
     "metadata": {},
     "execution_count": 7
    }
   ],
   "source": [
    "array = np.arange(1,1000000)\n",
    "%time array*2"
   ]
  },
  {
   "source": [
    "### Array Creation Function\n",
    "\n",
    "- asarray `Convert input to ndarray, but do not copy if the input is already an ndarray` &nbsp;\n",
    "- arange `Like the built-in range but returns an ndarray instead of a list` &nbsp;\n",
    "- ones `Produce an array of all 1s with the given shape and dtype` &nbsp;\n",
    "- ones_like `Produce an array of all 1s with the given shape and dtype; ones_like takes another array and produces a ones array of the same shape and dtype` &nbsp;\n",
    "- zeros `Like ones and ones_like but producing arrays of 0s instead` &nbsp;\n",
    "- zeros_like `zero reference`\n",
    "- empty `Create new arrays by allocating new memory, but do not populate with any values like ones and zeros` &nbsp; \n",
    "- empty_like `Above reference ` &nbsp;\n",
    "- full : `Produce an array of the given shape and dtype with all values set to the indicated “fill value”` &nbsp\n",
    "- full_like `Above reference`\n",
    "- full_like ` takes another array and produces a filled array of the same shape and dtype`\n",
    "- eye, identity `Create a square N × N identity matrix (1s on the diagonal and 0s elsewhere)`"
   ],
   "cell_type": "markdown",
   "metadata": {}
  },
  {
   "source": [
    "#### Very interesting fact about numpy array. see example:"
   ],
   "cell_type": "markdown",
   "metadata": {}
  },
  {
   "cell_type": "code",
   "execution_count": 8,
   "metadata": {},
   "outputs": [
    {
     "output_type": "execute_result",
     "data": {
      "text/plain": [
       "array([0, 1, 2, 3, 4, 5, 6, 7, 8, 9])"
      ]
     },
     "metadata": {},
     "execution_count": 8
    }
   ],
   "source": [
    "array = np.arange(10)\n",
    "array"
   ]
  },
  {
   "cell_type": "code",
   "execution_count": 9,
   "metadata": {},
   "outputs": [
    {
     "output_type": "execute_result",
     "data": {
      "text/plain": [
       "array([4, 5, 6, 7, 8, 9])"
      ]
     },
     "metadata": {},
     "execution_count": 9
    }
   ],
   "source": [
    "new_array = array[4:]\n",
    "new_array"
   ]
  },
  {
   "cell_type": "code",
   "execution_count": 10,
   "metadata": {},
   "outputs": [
    {
     "output_type": "stream",
     "name": "stdout",
     "text": [
      "[[1. 1. 1.]\n [1. 1. 1.]]\n[1 1 1 1 1 1 1 1 1 1 1 1]\n"
     ]
    }
   ],
   "source": [
    "# ones and ones_like\n",
    "one = np.ones((2,3))     # numpy.ones(shape, dtype=None, order='C')\n",
    "print(one)\n",
    "one_like = np.ones_like(np.arange(12))  # it can be convert multi dimentional value of vector into multidimentional value of 1's\n",
    "print(one_like)            "
   ]
  },
  {
   "cell_type": "code",
   "execution_count": 11,
   "metadata": {},
   "outputs": [
    {
     "output_type": "stream",
     "name": "stdout",
     "text": [
      "[[0. 0. 0. 0.]\n",
      " [0. 0. 0. 0.]\n",
      " [0. 0. 0. 0.]\n",
      " [0. 0. 0. 0.]]\n",
      "[[0 0 0 0]\n",
      " [0 0 0 0]\n",
      " [0 0 0 0]\n",
      " [0 0 0 0]]\n"
     ]
    }
   ],
   "source": [
    "# Zero and Zero_like\n",
    "zero = np.zeros((4,4))\n",
    "print(zero)\n",
    "zero_like = np.zeros_like(np.arange(1,17).reshape(4,4))\n",
    "print(zero_like)\n"
   ]
  },
  {
   "cell_type": "code",
   "execution_count": 12,
   "metadata": {},
   "outputs": [
    {
     "output_type": "stream",
     "name": "stdout",
     "text": [
      "[[inf inf]\n [inf inf]]\n[['a' 'b']\n ['a' 'b']]\n"
     ]
    }
   ],
   "source": [
    "# full and full like\n",
    "# numpy.full(shape, fill_value, dtype=None, order='C')\n",
    "full = np.full((2,2),np.inf)\n",
    "print(full)\n",
    "full_coustome = np.full((2,2),['a','b'])\n",
    "print(full_coustome)\n"
   ]
  },
  {
   "cell_type": "code",
   "execution_count": 13,
   "metadata": {},
   "outputs": [
    {
     "output_type": "execute_result",
     "data": {
      "text/plain": [
       "array([1, 1, 1, 1, 1, 1])"
      ]
     },
     "metadata": {},
     "execution_count": 13
    }
   ],
   "source": [
    "# numpy.full_like(a, fill_value, dtype=None, order='K', subok=True, shape=None)\n",
    "full_like = np.full_like(np.arange(6),1)\n",
    "full_like\n",
    "full_like2 = np.full_like(np.arange(6),0.4)\n",
    "full_like\n"
   ]
  },
  {
   "cell_type": "code",
   "execution_count": 14,
   "metadata": {},
   "outputs": [
    {
     "output_type": "execute_result",
     "data": {
      "text/plain": [
       "array([[1., 0., 0., 0.],\n",
       "       [0., 1., 0., 0.],\n",
       "       [0., 0., 1., 0.],\n",
       "       [0., 0., 0., 1.]])"
      ]
     },
     "metadata": {},
     "execution_count": 14
    }
   ],
   "source": [
    "# eye or identity\n",
    "eye = np.eye(4)\n",
    "eye"
   ]
  },
  {
   "source": [
    "### Arithmetic with Numpy Array\n",
    "- Addition.\n",
    "- Substraction.\n",
    "- Division.\n",
    "- Multiplication.\n",
    "- Complex Number \n"
   ],
   "cell_type": "markdown",
   "metadata": {}
  },
  {
   "cell_type": "code",
   "execution_count": 15,
   "metadata": {},
   "outputs": [
    {
     "output_type": "stream",
     "name": "stdout",
     "text": [
      "***** Addition********\n",
      "[[ 2  4  6  8]\n",
      " [10 12 14 16]\n",
      " [18 20 22 24]\n",
      " [26 28 30 32]]\n",
      "*****Subtraction********\n",
      "[[ 2  4  6  8]\n",
      " [10 12 14 16]\n",
      " [18 20 22 24]\n",
      " [26 28 30 32]]\n",
      "*****Method 1: Multiplication********\n",
      "[[  1   4   9  16]\n",
      " [ 25  36  49  64]\n",
      " [ 81 100 121 144]\n",
      " [169 196 225 256]]\n",
      "*****Method 2: Multiplication********\n",
      "[[ 90 100 110 120]\n",
      " [202 228 254 280]\n",
      " [314 356 398 440]\n",
      " [426 484 542 600]]\n",
      "*****Division********\n",
      "[[1. 1. 1. 1.]\n",
      " [1. 1. 1. 1.]\n",
      " [1. 1. 1. 1.]\n",
      " [1. 1. 1. 1.]]\n"
     ]
    }
   ],
   "source": [
    "array1 = np.arange(1,17).reshape(4,4)\n",
    "array2 = np.arange(1,17).reshape(4,4)\n",
    "addition = array1 + array2\n",
    "print('***** Addition********')\n",
    "print(addition)\n",
    "subtraction = array1 + array2\n",
    "print('*****Subtraction********')\n",
    "print(subtraction)\n",
    "multiplication1 = array1*array2\n",
    "print('*****Method 1: Multiplication********')\n",
    "print(multiplication1)\n",
    "multiplication2 = array1 @ array2\n",
    "print('*****Method 2: Multiplication********')\n",
    "print(multiplication2)\n",
    "division = array1/array2\n",
    "print('*****Division********')\n",
    "print(division)\n"
   ]
  },
  {
   "source": [
    "### Slicing:\n",
    "`What is Slicing? selecting inside elements from array. It may be single or multidimentional slicing.\n"
   ],
   "cell_type": "markdown",
   "metadata": {}
  },
  {
   "cell_type": "code",
   "execution_count": 16,
   "metadata": {},
   "outputs": [
    {
     "output_type": "stream",
     "name": "stdout",
     "text": [
      "[1 2 3 4 5 6]\n[7 8 9]\n"
     ]
    }
   ],
   "source": [
    "# single dimention silicing.\n",
    "arr = np.array(np.arange(1,10))\n",
    "print(arr[:6]) \n",
    "print(arr[6:])"
   ]
  },
  {
   "source": [
    "### important fact about numpy "
   ],
   "cell_type": "markdown",
   "metadata": {}
  },
  {
   "cell_type": "code",
   "execution_count": 17,
   "metadata": {},
   "outputs": [
    {
     "output_type": "stream",
     "name": "stdout",
     "text": [
      "[1 2 3 4 5 6 0 0 0]\nAs you noticed that we chnage only new array but it's result also reflect at old arr\n"
     ]
    }
   ],
   "source": [
    "new_arr = arr[6:]\n",
    "new_arr[:] = 0\n",
    "print(arr)\n",
    "print(\"As you noticed that we chnage only new array but it's result also reflect at old arr\")"
   ]
  },
  {
   "cell_type": "code",
   "execution_count": 18,
   "metadata": {},
   "outputs": [
    {
     "output_type": "stream",
     "name": "stdout",
     "text": [
      "[0 0 0 0 0 0]\n[1 2 3 4 5 6 7 8 9]\n"
     ]
    }
   ],
   "source": [
    "arr2 = np.array(np.arange(1,10))\n",
    "copyarray = arr2[3:].copy()\n",
    "copyarray[:] = 0\n",
    "print(copyarray)\n",
    "print(arr2)"
   ]
  },
  {
   "cell_type": "code",
   "execution_count": 19,
   "metadata": {},
   "outputs": [
    {
     "output_type": "stream",
     "name": "stdout",
     "text": [
      "[[ 1  2  3  4]\n",
      " [ 5  6  7  8]\n",
      " [ 9 10 11 12]\n",
      " [13 14 15 16]]\n"
     ]
    }
   ],
   "source": [
    "# 2 dimentional slicing\n",
    "_2array = np.array(np.arange(1,17).reshape(4,4))\n",
    "print(_2array)"
   ]
  },
  {
   "cell_type": "code",
   "execution_count": 20,
   "metadata": {},
   "outputs": [
    {
     "output_type": "execute_result",
     "data": {
      "text/plain": [
       "array([1, 2, 3, 4])"
      ]
     },
     "metadata": {},
     "execution_count": 20
    }
   ],
   "source": [
    "_2array[0][:]"
   ]
  },
  {
   "cell_type": "code",
   "execution_count": 21,
   "metadata": {},
   "outputs": [
    {
     "output_type": "execute_result",
     "data": {
      "text/plain": [
       "array([[[ 1,  2,  3],\n",
       "        [ 4,  5,  6],\n",
       "        [ 7,  8,  9]],\n",
       "\n",
       "       [[10, 11, 12],\n",
       "        [13, 14, 15],\n",
       "        [16, 17, 18]],\n",
       "\n",
       "       [[19, 20, 21],\n",
       "        [22, 23, 24],\n",
       "        [25, 26, 27]]])"
      ]
     },
     "metadata": {},
     "execution_count": 21
    }
   ],
   "source": [
    " _3darr = np.array(np.arange(1,28).reshape(3,3,3))\n",
    " _3darr"
   ]
  },
  {
   "cell_type": "code",
   "execution_count": 22,
   "metadata": {},
   "outputs": [
    {
     "output_type": "execute_result",
     "data": {
      "text/plain": [
       "array([[1, 2, 3],\n",
       "       [4, 5, 6],\n",
       "       [7, 8, 9]])"
      ]
     },
     "metadata": {},
     "execution_count": 22
    }
   ],
   "source": [
    "x = _3darr[0]\n",
    "x"
   ]
  },
  {
   "cell_type": "code",
   "execution_count": 23,
   "metadata": {},
   "outputs": [
    {
     "output_type": "execute_result",
     "data": {
      "text/plain": [
       "array([1, 2, 3])"
      ]
     },
     "metadata": {},
     "execution_count": 23
    }
   ],
   "source": [
    "x[0]"
   ]
  },
  {
   "source": [
    "## Indexing Vs Slicing\n",
    "index means in array (numpy array), starting position of zero and till nth location. &nbsp;\n",
    "Slicing means break array into futher pieces.\n"
   ],
   "cell_type": "markdown",
   "metadata": {}
  },
  {
   "source": [
    "### Indexing with Slices"
   ],
   "cell_type": "markdown",
   "metadata": {}
  },
  {
   "cell_type": "code",
   "execution_count": 24,
   "metadata": {},
   "outputs": [
    {
     "output_type": "execute_result",
     "data": {
      "text/plain": [
       "array([2, 3, 4, 5, 6])"
      ]
     },
     "metadata": {},
     "execution_count": 24
    }
   ],
   "source": [
    "\n",
    "# first dimention\n",
    "arr[1:6]"
   ]
  },
  {
   "cell_type": "code",
   "execution_count": 25,
   "metadata": {},
   "outputs": [
    {
     "output_type": "execute_result",
     "data": {
      "text/plain": [
       "array([[ 1,  2,  3,  4],\n",
       "       [ 5,  6,  7,  8],\n",
       "       [ 9, 10, 11, 12],\n",
       "       [13, 14, 15, 16]])"
      ]
     },
     "metadata": {},
     "execution_count": 25
    }
   ],
   "source": [
    "_2array"
   ]
  },
  {
   "cell_type": "code",
   "execution_count": 26,
   "metadata": {},
   "outputs": [
    {
     "output_type": "execute_result",
     "data": {
      "text/plain": [
       "array([[1, 2, 3, 4],\n",
       "       [5, 6, 7, 8]])"
      ]
     },
     "metadata": {},
     "execution_count": 26
    }
   ],
   "source": [
    "_2array[:2]  # slicing at axis 0."
   ]
  },
  {
   "cell_type": "code",
   "execution_count": 27,
   "metadata": {},
   "outputs": [
    {
     "output_type": "execute_result",
     "data": {
      "text/plain": [
       "array([[2, 3, 4],\n",
       "       [6, 7, 8]])"
      ]
     },
     "metadata": {},
     "execution_count": 27
    }
   ],
   "source": [
    "_2array[:2,1:]"
   ]
  },
  {
   "cell_type": "code",
   "execution_count": 28,
   "metadata": {},
   "outputs": [
    {
     "output_type": "execute_result",
     "data": {
      "text/plain": [
       "array([[ 1],\n",
       "       [ 5],\n",
       "       [ 9],\n",
       "       [13]])"
      ]
     },
     "metadata": {},
     "execution_count": 28
    }
   ],
   "source": [
    "_2array[:,:1]"
   ]
  },
  {
   "cell_type": "code",
   "execution_count": 29,
   "metadata": {},
   "outputs": [
    {
     "output_type": "execute_result",
     "data": {
      "text/plain": [
       "array([[[ 1,  2,  3],\n",
       "        [ 4,  5,  6],\n",
       "        [ 7,  8,  9]],\n",
       "\n",
       "       [[10, 11, 12],\n",
       "        [13, 14, 15],\n",
       "        [16, 17, 18]],\n",
       "\n",
       "       [[19, 20, 21],\n",
       "        [22, 23, 24],\n",
       "        [25, 26, 27]]])"
      ]
     },
     "metadata": {},
     "execution_count": 29
    }
   ],
   "source": [
    "_3darr"
   ]
  },
  {
   "cell_type": "code",
   "execution_count": 30,
   "metadata": {},
   "outputs": [
    {
     "output_type": "execute_result",
     "data": {
      "text/plain": [
       "array([[1, 2, 3],\n",
       "       [4, 5, 6],\n",
       "       [7, 8, 9]])"
      ]
     },
     "metadata": {},
     "execution_count": 30
    }
   ],
   "source": [
    "x3 = _3darr[0]\n",
    "x3"
   ]
  },
  {
   "source": [
    "## Boolean Index"
   ],
   "cell_type": "markdown",
   "metadata": {}
  },
  {
   "cell_type": "code",
   "execution_count": 31,
   "metadata": {},
   "outputs": [],
   "source": [
    "string_list = np.array(['a','b','c','d','e','f'])\n",
    "numbers = np.random.rand(6,6)"
   ]
  },
  {
   "cell_type": "code",
   "execution_count": 32,
   "metadata": {},
   "outputs": [
    {
     "output_type": "stream",
     "name": "stdout",
     "text": [
      "['a' 'b' 'c' 'd' 'e' 'f']\n[[0.03762245 0.54522178 0.02551724 0.59868818 0.34240408 0.85752182]\n [0.85948742 0.92996979 0.01594085 0.85355159 0.26211164 0.91172376]\n [0.43588122 0.53841202 0.40905933 0.309152   0.71088877 0.83549856]\n [0.8553929  0.09942158 0.46798852 0.19588041 0.7986551  0.00253846]\n [0.52692559 0.55343048 0.55593192 0.78418538 0.8887327  0.14936529]\n [0.2864753  0.51743121 0.31655    0.89755616 0.73943008 0.97202471]]\n"
     ]
    }
   ],
   "source": [
    "print(string_list)\n",
    "print(numbers)"
   ]
  },
  {
   "cell_type": "code",
   "execution_count": 33,
   "metadata": {},
   "outputs": [
    {
     "output_type": "execute_result",
     "data": {
      "text/plain": [
       "array([ True, False, False, False, False, False])"
      ]
     },
     "metadata": {},
     "execution_count": 33
    }
   ],
   "source": [
    "string_list == 'a'"
   ]
  },
  {
   "cell_type": "code",
   "execution_count": 34,
   "metadata": {},
   "outputs": [
    {
     "output_type": "execute_result",
     "data": {
      "text/plain": [
       "array([[0.03762245, 0.54522178, 0.02551724, 0.59868818, 0.34240408,\n",
       "        0.85752182]])"
      ]
     },
     "metadata": {},
     "execution_count": 34
    }
   ],
   "source": [
    "numbers[string_list == 'a']"
   ]
  },
  {
   "cell_type": "code",
   "execution_count": 35,
   "metadata": {},
   "outputs": [
    {
     "output_type": "execute_result",
     "data": {
      "text/plain": [
       "array([[0.54522178, 0.02551724, 0.59868818]])"
      ]
     },
     "metadata": {},
     "execution_count": 35
    }
   ],
   "source": [
    "numbers[string_list == 'a' ,1:4]"
   ]
  },
  {
   "cell_type": "code",
   "execution_count": 36,
   "metadata": {},
   "outputs": [
    {
     "output_type": "execute_result",
     "data": {
      "text/plain": [
       "array([0.54522178])"
      ]
     },
     "metadata": {},
     "execution_count": 36
    }
   ],
   "source": [
    "numbers[string_list == 'a' ,1]"
   ]
  },
  {
   "cell_type": "code",
   "execution_count": 37,
   "metadata": {},
   "outputs": [
    {
     "output_type": "execute_result",
     "data": {
      "text/plain": [
       "array([[0.85948742, 0.92996979, 0.01594085, 0.85355159, 0.26211164,\n",
       "        0.91172376],\n",
       "       [0.43588122, 0.53841202, 0.40905933, 0.309152  , 0.71088877,\n",
       "        0.83549856],\n",
       "       [0.8553929 , 0.09942158, 0.46798852, 0.19588041, 0.7986551 ,\n",
       "        0.00253846],\n",
       "       [0.52692559, 0.55343048, 0.55593192, 0.78418538, 0.8887327 ,\n",
       "        0.14936529],\n",
       "       [0.2864753 , 0.51743121, 0.31655   , 0.89755616, 0.73943008,\n",
       "        0.97202471]])"
      ]
     },
     "metadata": {},
     "execution_count": 37
    }
   ],
   "source": [
    "numbers[string_list != 'a' ]"
   ]
  },
  {
   "cell_type": "code",
   "execution_count": 38,
   "metadata": {},
   "outputs": [],
   "source": [
    "invert = string_list == 'a'"
   ]
  },
  {
   "cell_type": "code",
   "execution_count": 39,
   "metadata": {},
   "outputs": [
    {
     "output_type": "execute_result",
     "data": {
      "text/plain": [
       "array([ True, False, False, False, False, False])"
      ]
     },
     "metadata": {},
     "execution_count": 39
    }
   ],
   "source": [
    "invert"
   ]
  },
  {
   "cell_type": "code",
   "execution_count": 40,
   "metadata": {},
   "outputs": [
    {
     "output_type": "execute_result",
     "data": {
      "text/plain": [
       "array([[0.85948742, 0.92996979, 0.01594085, 0.85355159, 0.26211164,\n",
       "        0.91172376],\n",
       "       [0.43588122, 0.53841202, 0.40905933, 0.309152  , 0.71088877,\n",
       "        0.83549856],\n",
       "       [0.8553929 , 0.09942158, 0.46798852, 0.19588041, 0.7986551 ,\n",
       "        0.00253846],\n",
       "       [0.52692559, 0.55343048, 0.55593192, 0.78418538, 0.8887327 ,\n",
       "        0.14936529],\n",
       "       [0.2864753 , 0.51743121, 0.31655   , 0.89755616, 0.73943008,\n",
       "        0.97202471]])"
      ]
     },
     "metadata": {},
     "execution_count": 40
    }
   ],
   "source": [
    "numbers[~invert]"
   ]
  },
  {
   "source": [
    "### Logical Operator or Bitwise opeartor\n",
    "- instead of or (python) we use | (pipe symbol)\n",
    "- instead of and (python) we use and (simple english word and)"
   ],
   "cell_type": "markdown",
   "metadata": {}
  },
  {
   "cell_type": "code",
   "execution_count": 41,
   "metadata": {},
   "outputs": [
    {
     "output_type": "stream",
     "name": "stdout",
     "text": [
      "[ True  True False False False False]\n"
     ]
    }
   ],
   "source": [
    "bitwise = (string_list == 'a') | (string_list == 'b')\n",
    "print(bitwise)"
   ]
  },
  {
   "cell_type": "code",
   "execution_count": 42,
   "metadata": {},
   "outputs": [
    {
     "output_type": "execute_result",
     "data": {
      "text/plain": [
       "array([[0.03762245, 0.54522178, 0.02551724, 0.59868818, 0.34240408,\n",
       "        0.85752182],\n",
       "       [0.85948742, 0.92996979, 0.01594085, 0.85355159, 0.26211164,\n",
       "        0.91172376]])"
      ]
     },
     "metadata": {},
     "execution_count": 42
    }
   ],
   "source": [
    "numbers[bitwise]"
   ]
  },
  {
   "cell_type": "code",
   "execution_count": 43,
   "metadata": {},
   "outputs": [
    {
     "output_type": "execute_result",
     "data": {
      "text/plain": [
       "array([0.03762245, 0.02551724, 0.01594085, 0.26211164, 0.09942158,\n",
       "       0.19588041, 0.00253846, 0.14936529, 0.2864753 ])"
      ]
     },
     "metadata": {},
     "execution_count": 43
    }
   ],
   "source": [
    "numbers[numbers <= 0.3]"
   ]
  },
  {
   "cell_type": "code",
   "execution_count": 44,
   "metadata": {},
   "outputs": [],
   "source": [
    "numbers[numbers <= 0.2] = 'NAN'"
   ]
  },
  {
   "cell_type": "code",
   "execution_count": 45,
   "metadata": {},
   "outputs": [
    {
     "output_type": "execute_result",
     "data": {
      "text/plain": [
       "array([[       nan, 0.54522178,        nan, 0.59868818, 0.34240408,\n",
       "        0.85752182],\n",
       "       [0.85948742, 0.92996979,        nan, 0.85355159, 0.26211164,\n",
       "        0.91172376],\n",
       "       [0.43588122, 0.53841202, 0.40905933, 0.309152  , 0.71088877,\n",
       "        0.83549856],\n",
       "       [0.8553929 ,        nan, 0.46798852,        nan, 0.7986551 ,\n",
       "               nan],\n",
       "       [0.52692559, 0.55343048, 0.55593192, 0.78418538, 0.8887327 ,\n",
       "               nan],\n",
       "       [0.2864753 , 0.51743121, 0.31655   , 0.89755616, 0.73943008,\n",
       "        0.97202471]])"
      ]
     },
     "metadata": {},
     "execution_count": 45
    }
   ],
   "source": [
    "numbers"
   ]
  },
  {
   "cell_type": "code",
   "execution_count": 46,
   "metadata": {},
   "outputs": [
    {
     "output_type": "execute_result",
     "data": {
      "text/plain": [
       "array([[        nan,  0.54522178,         nan,  0.59868818,  0.34240408,\n",
       "         0.85752182],\n",
       "       [10.        , 10.        , 10.        , 10.        , 10.        ,\n",
       "        10.        ],\n",
       "       [10.        , 10.        , 10.        , 10.        , 10.        ,\n",
       "        10.        ],\n",
       "       [10.        , 10.        , 10.        , 10.        , 10.        ,\n",
       "        10.        ],\n",
       "       [10.        , 10.        , 10.        , 10.        , 10.        ,\n",
       "        10.        ],\n",
       "       [10.        , 10.        , 10.        , 10.        , 10.        ,\n",
       "        10.        ]])"
      ]
     },
     "metadata": {},
     "execution_count": 46
    }
   ],
   "source": [
    "numbers[string_list != 'a'] = 10\n",
    "numbers\n"
   ]
  },
  {
   "source": [
    "# Fancy Indexing"
   ],
   "cell_type": "markdown",
   "metadata": {}
  },
  {
   "cell_type": "code",
   "execution_count": 47,
   "metadata": {},
   "outputs": [
    {
     "output_type": "execute_result",
     "data": {
      "text/plain": [
       "array([55,  3, 25, 16, 15, 37, 25, 99, 66, 17])"
      ]
     },
     "metadata": {},
     "execution_count": 47
    }
   ],
   "source": [
    "np.random.randint(100,size=10)"
   ]
  },
  {
   "cell_type": "code",
   "execution_count": 48,
   "metadata": {},
   "outputs": [],
   "source": [
    "fancyarry =  np.arange(10)"
   ]
  },
  {
   "cell_type": "code",
   "execution_count": 49,
   "metadata": {},
   "outputs": [
    {
     "output_type": "execute_result",
     "data": {
      "text/plain": [
       "[4, 2, 0]"
      ]
     },
     "metadata": {},
     "execution_count": 49
    }
   ],
   "source": [
    "[fancyarry[4],fancyarry[2],fancyarry[0]]\n"
   ]
  },
  {
   "cell_type": "code",
   "execution_count": 50,
   "metadata": {},
   "outputs": [
    {
     "output_type": "execute_result",
     "data": {
      "text/plain": [
       "array([4, 2, 0])"
      ]
     },
     "metadata": {},
     "execution_count": 50
    }
   ],
   "source": [
    "fancyarry[[4,2,0]]"
   ]
  },
  {
   "cell_type": "code",
   "execution_count": 51,
   "metadata": {},
   "outputs": [],
   "source": [
    "fancyindex = np.empty((10,10))\n",
    "for i in range(10):\n",
    "    fancyindex[i] = i"
   ]
  },
  {
   "cell_type": "code",
   "execution_count": 52,
   "metadata": {},
   "outputs": [
    {
     "output_type": "execute_result",
     "data": {
      "text/plain": [
       "array([[0., 0., 0., 0., 0., 0., 0., 0., 0., 0.],\n",
       "       [1., 1., 1., 1., 1., 1., 1., 1., 1., 1.],\n",
       "       [2., 2., 2., 2., 2., 2., 2., 2., 2., 2.],\n",
       "       [3., 3., 3., 3., 3., 3., 3., 3., 3., 3.],\n",
       "       [4., 4., 4., 4., 4., 4., 4., 4., 4., 4.],\n",
       "       [5., 5., 5., 5., 5., 5., 5., 5., 5., 5.],\n",
       "       [6., 6., 6., 6., 6., 6., 6., 6., 6., 6.],\n",
       "       [7., 7., 7., 7., 7., 7., 7., 7., 7., 7.],\n",
       "       [8., 8., 8., 8., 8., 8., 8., 8., 8., 8.],\n",
       "       [9., 9., 9., 9., 9., 9., 9., 9., 9., 9.]])"
      ]
     },
     "metadata": {},
     "execution_count": 52
    }
   ],
   "source": [
    "fancyindex"
   ]
  },
  {
   "cell_type": "code",
   "execution_count": 53,
   "metadata": {},
   "outputs": [
    {
     "output_type": "execute_result",
     "data": {
      "text/plain": [
       "array([0., 0., 0., 0., 0., 0., 0., 0., 0., 0.])"
      ]
     },
     "metadata": {},
     "execution_count": 53
    }
   ],
   "source": [
    "fancyindex[0]"
   ]
  },
  {
   "cell_type": "code",
   "execution_count": 54,
   "metadata": {},
   "outputs": [
    {
     "output_type": "execute_result",
     "data": {
      "text/plain": [
       "array([[0., 0., 0., 0., 0., 0., 0., 0., 0., 0.],\n",
       "       [5., 5., 5., 5., 5., 5., 5., 5., 5., 5.]])"
      ]
     },
     "metadata": {},
     "execution_count": 54
    }
   ],
   "source": [
    "fancyindex[[0,5]]"
   ]
  },
  {
   "cell_type": "code",
   "execution_count": 55,
   "metadata": {},
   "outputs": [
    {
     "output_type": "execute_result",
     "data": {
      "text/plain": [
       "array([[ 0,  1,  2,  3],\n",
       "       [ 4,  5,  6,  7],\n",
       "       [ 8,  9, 10, 11],\n",
       "       [12, 13, 14, 15]])"
      ]
     },
     "metadata": {},
     "execution_count": 55
    }
   ],
   "source": [
    "fancyindex2 = np.arange(16).reshape(4,4)\n",
    "fancyindex2"
   ]
  },
  {
   "cell_type": "code",
   "execution_count": 56,
   "metadata": {},
   "outputs": [
    {
     "output_type": "execute_result",
     "data": {
      "text/plain": [
       "array([ 1, 13])"
      ]
     },
     "metadata": {},
     "execution_count": 56
    }
   ],
   "source": [
    "fancyindex2[[0,3],[1]]"
   ]
  },
  {
   "cell_type": "code",
   "execution_count": 57,
   "metadata": {},
   "outputs": [
    {
     "output_type": "execute_result",
     "data": {
      "text/plain": [
       "array([[ 1,  0,  3,  2],\n",
       "       [ 9,  8, 11, 10]])"
      ]
     },
     "metadata": {},
     "execution_count": 57
    }
   ],
   "source": [
    "fancyindex2[[0,2]][:,[1,0,3,2]]"
   ]
  },
  {
   "cell_type": "code",
   "execution_count": 58,
   "metadata": {},
   "outputs": [
    {
     "output_type": "execute_result",
     "data": {
      "text/plain": [
       "array([[[ 0,  1,  2],\n",
       "        [ 3,  4,  5],\n",
       "        [ 6,  7,  8]],\n",
       "\n",
       "       [[ 9, 10, 11],\n",
       "        [12, 13, 14],\n",
       "        [15, 16, 17]],\n",
       "\n",
       "       [[18, 19, 20],\n",
       "        [21, 22, 23],\n",
       "        [24, 25, 26]]])"
      ]
     },
     "metadata": {},
     "execution_count": 58
    }
   ],
   "source": [
    "# three dimentional\n",
    "fancyindex3 = np.arange(27).reshape(3,3,3)\n",
    "fancyindex3"
   ]
  },
  {
   "cell_type": "code",
   "execution_count": 59,
   "metadata": {},
   "outputs": [
    {
     "output_type": "execute_result",
     "data": {
      "text/plain": [
       "array([[ 0,  1,  2],\n",
       "       [21, 22, 23],\n",
       "       [ 9, 10, 11]])"
      ]
     },
     "metadata": {},
     "execution_count": 59
    }
   ],
   "source": [
    "fancyindex3[[0,2,1],[0,1,0]]"
   ]
  },
  {
   "source": [
    "### Transposing Array and Swapping Axes\n",
    "\n"
   ],
   "cell_type": "markdown",
   "metadata": {}
  },
  {
   "cell_type": "code",
   "execution_count": 68,
   "metadata": {},
   "outputs": [
    {
     "output_type": "stream",
     "name": "stdout",
     "text": [
      "Befor Transpose \n****************************\n[0 1 2 3 4 5 6 7 8 9]\n\nAfter Transpose \n****************************\n\n[0 1 2 3 4 5 6 7 8 9]\n\nBefor Transpose \n****************************\n[[ 0  1  2  3]\n [ 4  5  6  7]\n [ 8  9 10 11]\n [12 13 14 15]]\nAfter Transpose \n****************************\n\n[[ 0  4  8 12]\n [ 1  5  9 13]\n [ 2  6 10 14]\n [ 3  7 11 15]]\n\nBefor Transpose \n****************************\n[[[ 0  1]\n  [ 2  3]\n  [ 4  5]\n  [ 6  7]]\n\n [[ 8  9]\n  [10 11]\n  [12 13]\n  [14 15]]\n\n [[16 17]\n  [18 19]\n  [20 21]\n  [22 23]]\n\n [[24 25]\n  [26 27]\n  [28 29]\n  [30 31]]]\nAfter Transpose \n****************************\n[[[ 0  8 16 24]\n  [ 2 10 18 26]\n  [ 4 12 20 28]\n  [ 6 14 22 30]]\n\n [[ 1  9 17 25]\n  [ 3 11 19 27]\n  [ 5 13 21 29]\n  [ 7 15 23 31]]]\n"
     ]
    }
   ],
   "source": [
    "# one dimentional swap\n",
    "\n",
    "onedimtranspose = np.arange(10)\n",
    "print(\"Befor Transpose \\n****************************\")\n",
    "print(onedimtranspose)\n",
    "print(\"\\nAfter Transpose \\n****************************\\n\")\n",
    "print(onedimtranspose.T)\n",
    "twodimtranspose = np.arange(16).reshape(4,4)\n",
    "print(\"\\nBefor Transpose \\n****************************\")\n",
    "print(twodimtranspose)\n",
    "print(\"After Transpose \\n****************************\\n\")\n",
    "print(twodimtranspose.T)\n",
    "threedimtranspose = np.arange(32).reshape(4,4,2)\n",
    "print(\"\\nBefor Transpose \\n****************************\")\n",
    "print(threedimtranspose)\n",
    "print(\"After Transpose \\n****************************\")\n",
    "print(threedimtranspose.T)\n",
    "\n"
   ]
  },
  {
   "cell_type": "code",
   "execution_count": 72,
   "metadata": {},
   "outputs": [
    {
     "output_type": "execute_result",
     "data": {
      "text/plain": [
       "array([[0, 3, 6],\n",
       "       [1, 4, 7],\n",
       "       [2, 5, 8]])"
      ]
     },
     "metadata": {},
     "execution_count": 72
    }
   ],
   "source": [
    "# swapeaxis\n",
    "np.arange(9).reshape(3,3).swapaxes(0,1)"
   ]
  },
  {
   "source": [
    "### Universal Function : Fast Element Wise Array\n",
    " - abs, fabs : Compute the absolute value element-wise for integer, floating-point, or complex values\n",
    "- sqrt : Compute the square root of each element (equivalent to arr ** 0.5)\n",
    "- square : Compute the square of each element (equivalent to arr ** 2)\n",
    "- exp : Compute the exponent ex of each element\n",
    "- log, log10 : Natural logarithm (base e), log base 10, log base 2, and log(1 + x), respectively\n",
    "- log2, log1p : sign Compute the sign of each element: 1 (positive), 0 (zero), or –1 (negative)\n",
    "- ceil :  Compute the ceiling of each element (i.e., the smallest integer greater than or equal to that\n",
    "- number)\n",
    "- floor : Compute the floor of each element (i.e., the largest integer less than or equal to each element)\n",
    "- rint : Round elements to the nearest integer, preserving the dtype\n",
    "- modf :vReturn fractional and integral parts of array as a separate array\n",
    "- isnan : Return boolean array indicating whether each value is NaN (Not a Number)\n",
    "- isfinite, isinf : Return boolean array indicating whether each element is finite (non-inf, non-NaN) or infinite,\n",
    "- respectively\n",
    "- cos, cosh, sin,\n",
    "- sinh, tan, tanh\n",
    "- Regular and hyperbolic trigonometric functions\n",
    "- arccos, arccosh,\n",
    "- arcsin, arcsinh,\n",
    "- arctan, arctanh\n",
    "- Inverse trigonometric functions\n",
    "- logical_not Compute truth value of not x element-wise (equivalent to ~arr)."
   ],
   "cell_type": "markdown",
   "metadata": {}
  },
  {
   "cell_type": "code",
   "execution_count": 80,
   "metadata": {},
   "outputs": [
    {
     "output_type": "stream",
     "name": "stdout",
     "text": [
      "[0 1 2 3 4 5 6 7 8 9]\n[0.         1.         1.41421356 1.73205081 2.         2.23606798\n 2.44948974 2.64575131 2.82842712 3.        ]\n[ 0  1  4  9 16 25 36 49 64 81]\n[1.00000000e+00 2.71828183e+00 7.38905610e+00 2.00855369e+01\n 5.45981500e+01 1.48413159e+02 4.03428793e+02 1.09663316e+03\n 2.98095799e+03 8.10308393e+03]\n[      -inf 0.         0.69314718 1.09861229 1.38629436 1.60943791\n 1.79175947 1.94591015 2.07944154 2.19722458]\n[0. 1. 2. 3. 4. 5. 6. 7. 8. 9.]\n"
     ]
    }
   ],
   "source": [
    "arr = np.array(np.arange(10))\n",
    "print(np.abs(arr))\n",
    "print(np.sqrt(arr))\n",
    "print(np.square(arr))\n",
    "print(np.exp(arr))\n",
    "print(np.log(arr))\n",
    "print(np.floor())"
   ]
  },
  {
   "source": [
    "### Array Oriented Programming with numpy Array"
   ],
   "cell_type": "markdown",
   "metadata": {}
  },
  {
   "cell_type": "code",
   "execution_count": 81,
   "metadata": {},
   "outputs": [],
   "source": [
    "points = np.arange(-5,5,0.01)"
   ]
  },
  {
   "cell_type": "code",
   "execution_count": 84,
   "metadata": {},
   "outputs": [
    {
     "output_type": "stream",
     "name": "stdout",
     "text": [
      "[[-5.   -4.99 -4.98 ...  4.97  4.98  4.99]\n [-5.   -4.99 -4.98 ...  4.97  4.98  4.99]\n [-5.   -4.99 -4.98 ...  4.97  4.98  4.99]\n ...\n [-5.   -4.99 -4.98 ...  4.97  4.98  4.99]\n [-5.   -4.99 -4.98 ...  4.97  4.98  4.99]\n [-5.   -4.99 -4.98 ...  4.97  4.98  4.99]]\n"
     ]
    }
   ],
   "source": [
    "xs,ys = np.meshgrid(points,points)\n",
    "print(xs)"
   ]
  },
  {
   "cell_type": "code",
   "execution_count": 85,
   "metadata": {},
   "outputs": [
    {
     "output_type": "stream",
     "name": "stdout",
     "text": [
      "[[7.07106781 7.06400028 7.05693985 ... 7.04988652 7.05693985 7.06400028]\n [7.06400028 7.05692568 7.04985815 ... 7.04279774 7.04985815 7.05692568]\n [7.05693985 7.04985815 7.04278354 ... 7.03571603 7.04278354 7.04985815]\n ...\n [7.04988652 7.04279774 7.03571603 ... 7.0286414  7.03571603 7.04279774]\n [7.05693985 7.04985815 7.04278354 ... 7.03571603 7.04278354 7.04985815]\n [7.06400028 7.05692568 7.04985815 ... 7.04279774 7.04985815 7.05692568]]\n"
     ]
    }
   ],
   "source": [
    "distance = np.sqrt(xs**2 + ys**2)\n",
    "print(distance)"
   ]
  },
  {
   "cell_type": "code",
   "execution_count": 88,
   "metadata": {},
   "outputs": [],
   "source": [
    "import matplotlib.pyplot as plt"
   ]
  },
  {
   "cell_type": "code",
   "execution_count": 90,
   "metadata": {},
   "outputs": [
    {
     "output_type": "execute_result",
     "data": {
      "text/plain": [
       "Text(0.5, 1.0, 'image plot of distance ')"
      ]
     },
     "metadata": {},
     "execution_count": 90
    },
    {
     "output_type": "display_data",
     "data": {
      "text/plain": "<Figure size 432x288 with 2 Axes>",
      "image/svg+xml": "<?xml version=\"1.0\" encoding=\"utf-8\" standalone=\"no\"?>\r\n<!DOCTYPE svg PUBLIC \"-//W3C//DTD SVG 1.1//EN\"\r\n  \"http://www.w3.org/Graphics/SVG/1.1/DTD/svg11.dtd\">\r\n<!-- Created with matplotlib (https://matplotlib.org/) -->\r\n<svg height=\"263.63625pt\" version=\"1.1\" viewBox=\"0 0 305.2645 263.63625\" width=\"305.2645pt\" xmlns=\"http://www.w3.org/2000/svg\" xmlns:xlink=\"http://www.w3.org/1999/xlink\">\r\n <defs>\r\n  <style type=\"text/css\">\r\n*{stroke-linecap:butt;stroke-linejoin:round;}\r\n  </style>\r\n </defs>\r\n <g id=\"figure_1\">\r\n  <g id=\"patch_1\">\r\n   <path d=\"M 0 263.63625 \r\nL 305.2645 263.63625 \r\nL 305.2645 0 \r\nL 0 0 \r\nz\r\n\" style=\"fill:none;\"/>\r\n  </g>\r\n  <g id=\"axes_1\">\r\n   <g id=\"patch_2\">\r\n    <path d=\"M 39.65 239.758125 \r\nL 257.09 239.758125 \r\nL 257.09 22.318125 \r\nL 39.65 22.318125 \r\nz\r\n\" style=\"fill:#ffffff;\"/>\r\n   </g>\r\n   <g clip-path=\"url(#pef72971bd2)\">\r\n    <image height=\"218\" id=\"image7e6429615a\" transform=\"scale(1 -1)translate(0 -218)\" width=\"218\" x=\"39.65\" xlink:href=\"data:image/png;base64,\r\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\" y=\"-21.758125\"/>\r\n   </g>\r\n   <g id=\"matplotlib.axis_1\">\r\n    <g id=\"xtick_1\">\r\n     <g id=\"line2d_1\">\r\n      <defs>\r\n       <path d=\"M 0 0 \r\nL 0 3.5 \r\n\" id=\"md7b0440573\" style=\"stroke:#000000;stroke-width:0.8;\"/>\r\n      </defs>\r\n      <g>\r\n       <use style=\"stroke:#000000;stroke-width:0.8;\" x=\"39.75872\" xlink:href=\"#md7b0440573\" y=\"239.758125\"/>\r\n      </g>\r\n     </g>\r\n     <g id=\"text_1\">\r\n      <!-- 0 -->\r\n      <defs>\r\n       <path d=\"M 31.78125 66.40625 \r\nQ 24.171875 66.40625 20.328125 58.90625 \r\nQ 16.5 51.421875 16.5 36.375 \r\nQ 16.5 21.390625 20.328125 13.890625 \r\nQ 24.171875 6.390625 31.78125 6.390625 \r\nQ 39.453125 6.390625 43.28125 13.890625 \r\nQ 47.125 21.390625 47.125 36.375 \r\nQ 47.125 51.421875 43.28125 58.90625 \r\nQ 39.453125 66.40625 31.78125 66.40625 \r\nz\r\nM 31.78125 74.21875 \r\nQ 44.046875 74.21875 50.515625 64.515625 \r\nQ 56.984375 54.828125 56.984375 36.375 \r\nQ 56.984375 17.96875 50.515625 8.265625 \r\nQ 44.046875 -1.421875 31.78125 -1.421875 \r\nQ 19.53125 -1.421875 13.0625 8.265625 \r\nQ 6.59375 17.96875 6.59375 36.375 \r\nQ 6.59375 54.828125 13.0625 64.515625 \r\nQ 19.53125 74.21875 31.78125 74.21875 \r\nz\r\n\" id=\"DejaVuSans-48\"/>\r\n      </defs>\r\n      <g transform=\"translate(36.57747 254.356563)scale(0.1 -0.1)\">\r\n       <use xlink:href=\"#DejaVuSans-48\"/>\r\n      </g>\r\n     </g>\r\n    </g>\r\n    <g id=\"xtick_2\">\r\n     <g id=\"line2d_2\">\r\n      <g>\r\n       <use style=\"stroke:#000000;stroke-width:0.8;\" x=\"83.24672\" xlink:href=\"#md7b0440573\" y=\"239.758125\"/>\r\n      </g>\r\n     </g>\r\n     <g id=\"text_2\">\r\n      <!-- 200 -->\r\n      <defs>\r\n       <path d=\"M 19.1875 8.296875 \r\nL 53.609375 8.296875 \r\nL 53.609375 0 \r\nL 7.328125 0 \r\nL 7.328125 8.296875 \r\nQ 12.9375 14.109375 22.625 23.890625 \r\nQ 32.328125 33.6875 34.8125 36.53125 \r\nQ 39.546875 41.84375 41.421875 45.53125 \r\nQ 43.3125 49.21875 43.3125 52.78125 \r\nQ 43.3125 58.59375 39.234375 62.25 \r\nQ 35.15625 65.921875 28.609375 65.921875 \r\nQ 23.96875 65.921875 18.8125 64.3125 \r\nQ 13.671875 62.703125 7.8125 59.421875 \r\nL 7.8125 69.390625 \r\nQ 13.765625 71.78125 18.9375 73 \r\nQ 24.125 74.21875 28.421875 74.21875 \r\nQ 39.75 74.21875 46.484375 68.546875 \r\nQ 53.21875 62.890625 53.21875 53.421875 \r\nQ 53.21875 48.921875 51.53125 44.890625 \r\nQ 49.859375 40.875 45.40625 35.40625 \r\nQ 44.1875 33.984375 37.640625 27.21875 \r\nQ 31.109375 20.453125 19.1875 8.296875 \r\nz\r\n\" id=\"DejaVuSans-50\"/>\r\n      </defs>\r\n      <g transform=\"translate(73.70297 254.356563)scale(0.1 -0.1)\">\r\n       <use xlink:href=\"#DejaVuSans-50\"/>\r\n       <use x=\"63.623047\" xlink:href=\"#DejaVuSans-48\"/>\r\n       <use x=\"127.246094\" xlink:href=\"#DejaVuSans-48\"/>\r\n      </g>\r\n     </g>\r\n    </g>\r\n    <g id=\"xtick_3\">\r\n     <g id=\"line2d_3\">\r\n      <g>\r\n       <use style=\"stroke:#000000;stroke-width:0.8;\" x=\"126.73472\" xlink:href=\"#md7b0440573\" y=\"239.758125\"/>\r\n      </g>\r\n     </g>\r\n     <g id=\"text_3\">\r\n      <!-- 400 -->\r\n      <defs>\r\n       <path d=\"M 37.796875 64.3125 \r\nL 12.890625 25.390625 \r\nL 37.796875 25.390625 \r\nz\r\nM 35.203125 72.90625 \r\nL 47.609375 72.90625 \r\nL 47.609375 25.390625 \r\nL 58.015625 25.390625 \r\nL 58.015625 17.1875 \r\nL 47.609375 17.1875 \r\nL 47.609375 0 \r\nL 37.796875 0 \r\nL 37.796875 17.1875 \r\nL 4.890625 17.1875 \r\nL 4.890625 26.703125 \r\nz\r\n\" id=\"DejaVuSans-52\"/>\r\n      </defs>\r\n      <g transform=\"translate(117.19097 254.356563)scale(0.1 -0.1)\">\r\n       <use xlink:href=\"#DejaVuSans-52\"/>\r\n       <use x=\"63.623047\" xlink:href=\"#DejaVuSans-48\"/>\r\n       <use x=\"127.246094\" xlink:href=\"#DejaVuSans-48\"/>\r\n      </g>\r\n     </g>\r\n    </g>\r\n    <g id=\"xtick_4\">\r\n     <g id=\"line2d_4\">\r\n      <g>\r\n       <use style=\"stroke:#000000;stroke-width:0.8;\" x=\"170.22272\" xlink:href=\"#md7b0440573\" y=\"239.758125\"/>\r\n      </g>\r\n     </g>\r\n     <g id=\"text_4\">\r\n      <!-- 600 -->\r\n      <defs>\r\n       <path d=\"M 33.015625 40.375 \r\nQ 26.375 40.375 22.484375 35.828125 \r\nQ 18.609375 31.296875 18.609375 23.390625 \r\nQ 18.609375 15.53125 22.484375 10.953125 \r\nQ 26.375 6.390625 33.015625 6.390625 \r\nQ 39.65625 6.390625 43.53125 10.953125 \r\nQ 47.40625 15.53125 47.40625 23.390625 \r\nQ 47.40625 31.296875 43.53125 35.828125 \r\nQ 39.65625 40.375 33.015625 40.375 \r\nz\r\nM 52.59375 71.296875 \r\nL 52.59375 62.3125 \r\nQ 48.875 64.0625 45.09375 64.984375 \r\nQ 41.3125 65.921875 37.59375 65.921875 \r\nQ 27.828125 65.921875 22.671875 59.328125 \r\nQ 17.53125 52.734375 16.796875 39.40625 \r\nQ 19.671875 43.65625 24.015625 45.921875 \r\nQ 28.375 48.1875 33.59375 48.1875 \r\nQ 44.578125 48.1875 50.953125 41.515625 \r\nQ 57.328125 34.859375 57.328125 23.390625 \r\nQ 57.328125 12.15625 50.6875 5.359375 \r\nQ 44.046875 -1.421875 33.015625 -1.421875 \r\nQ 20.359375 -1.421875 13.671875 8.265625 \r\nQ 6.984375 17.96875 6.984375 36.375 \r\nQ 6.984375 53.65625 15.1875 63.9375 \r\nQ 23.390625 74.21875 37.203125 74.21875 \r\nQ 40.921875 74.21875 44.703125 73.484375 \r\nQ 48.484375 72.75 52.59375 71.296875 \r\nz\r\n\" id=\"DejaVuSans-54\"/>\r\n      </defs>\r\n      <g transform=\"translate(160.67897 254.356563)scale(0.1 -0.1)\">\r\n       <use xlink:href=\"#DejaVuSans-54\"/>\r\n       <use x=\"63.623047\" xlink:href=\"#DejaVuSans-48\"/>\r\n       <use x=\"127.246094\" xlink:href=\"#DejaVuSans-48\"/>\r\n      </g>\r\n     </g>\r\n    </g>\r\n    <g id=\"xtick_5\">\r\n     <g id=\"line2d_5\">\r\n      <g>\r\n       <use style=\"stroke:#000000;stroke-width:0.8;\" x=\"213.71072\" xlink:href=\"#md7b0440573\" y=\"239.758125\"/>\r\n      </g>\r\n     </g>\r\n     <g id=\"text_5\">\r\n      <!-- 800 -->\r\n      <defs>\r\n       <path d=\"M 31.78125 34.625 \r\nQ 24.75 34.625 20.71875 30.859375 \r\nQ 16.703125 27.09375 16.703125 20.515625 \r\nQ 16.703125 13.921875 20.71875 10.15625 \r\nQ 24.75 6.390625 31.78125 6.390625 \r\nQ 38.8125 6.390625 42.859375 10.171875 \r\nQ 46.921875 13.96875 46.921875 20.515625 \r\nQ 46.921875 27.09375 42.890625 30.859375 \r\nQ 38.875 34.625 31.78125 34.625 \r\nz\r\nM 21.921875 38.8125 \r\nQ 15.578125 40.375 12.03125 44.71875 \r\nQ 8.5 49.078125 8.5 55.328125 \r\nQ 8.5 64.0625 14.71875 69.140625 \r\nQ 20.953125 74.21875 31.78125 74.21875 \r\nQ 42.671875 74.21875 48.875 69.140625 \r\nQ 55.078125 64.0625 55.078125 55.328125 \r\nQ 55.078125 49.078125 51.53125 44.71875 \r\nQ 48 40.375 41.703125 38.8125 \r\nQ 48.828125 37.15625 52.796875 32.3125 \r\nQ 56.78125 27.484375 56.78125 20.515625 \r\nQ 56.78125 9.90625 50.3125 4.234375 \r\nQ 43.84375 -1.421875 31.78125 -1.421875 \r\nQ 19.734375 -1.421875 13.25 4.234375 \r\nQ 6.78125 9.90625 6.78125 20.515625 \r\nQ 6.78125 27.484375 10.78125 32.3125 \r\nQ 14.796875 37.15625 21.921875 38.8125 \r\nz\r\nM 18.3125 54.390625 \r\nQ 18.3125 48.734375 21.84375 45.5625 \r\nQ 25.390625 42.390625 31.78125 42.390625 \r\nQ 38.140625 42.390625 41.71875 45.5625 \r\nQ 45.3125 48.734375 45.3125 54.390625 \r\nQ 45.3125 60.0625 41.71875 63.234375 \r\nQ 38.140625 66.40625 31.78125 66.40625 \r\nQ 25.390625 66.40625 21.84375 63.234375 \r\nQ 18.3125 60.0625 18.3125 54.390625 \r\nz\r\n\" id=\"DejaVuSans-56\"/>\r\n      </defs>\r\n      <g transform=\"translate(204.16697 254.356563)scale(0.1 -0.1)\">\r\n       <use xlink:href=\"#DejaVuSans-56\"/>\r\n       <use x=\"63.623047\" xlink:href=\"#DejaVuSans-48\"/>\r\n       <use x=\"127.246094\" xlink:href=\"#DejaVuSans-48\"/>\r\n      </g>\r\n     </g>\r\n    </g>\r\n    <g id=\"xtick_6\">\r\n     <g id=\"line2d_6\">\r\n      <g>\r\n       <use style=\"stroke:#000000;stroke-width:0.8;\" x=\"257.19872\" xlink:href=\"#md7b0440573\" y=\"239.758125\"/>\r\n      </g>\r\n     </g>\r\n     <g id=\"text_6\">\r\n      <!-- 1000 -->\r\n      <defs>\r\n       <path d=\"M 12.40625 8.296875 \r\nL 28.515625 8.296875 \r\nL 28.515625 63.921875 \r\nL 10.984375 60.40625 \r\nL 10.984375 69.390625 \r\nL 28.421875 72.90625 \r\nL 38.28125 72.90625 \r\nL 38.28125 8.296875 \r\nL 54.390625 8.296875 \r\nL 54.390625 0 \r\nL 12.40625 0 \r\nz\r\n\" id=\"DejaVuSans-49\"/>\r\n      </defs>\r\n      <g transform=\"translate(244.47372 254.356563)scale(0.1 -0.1)\">\r\n       <use xlink:href=\"#DejaVuSans-49\"/>\r\n       <use x=\"63.623047\" xlink:href=\"#DejaVuSans-48\"/>\r\n       <use x=\"127.246094\" xlink:href=\"#DejaVuSans-48\"/>\r\n       <use x=\"190.869141\" xlink:href=\"#DejaVuSans-48\"/>\r\n      </g>\r\n     </g>\r\n    </g>\r\n   </g>\r\n   <g id=\"matplotlib.axis_2\">\r\n    <g id=\"ytick_1\">\r\n     <g id=\"line2d_7\">\r\n      <defs>\r\n       <path d=\"M 0 0 \r\nL -3.5 0 \r\n\" id=\"m0d15c01302\" style=\"stroke:#000000;stroke-width:0.8;\"/>\r\n      </defs>\r\n      <g>\r\n       <use style=\"stroke:#000000;stroke-width:0.8;\" x=\"39.65\" xlink:href=\"#m0d15c01302\" y=\"22.426845\"/>\r\n      </g>\r\n     </g>\r\n     <g id=\"text_7\">\r\n      <!-- 0 -->\r\n      <g transform=\"translate(26.2875 26.226064)scale(0.1 -0.1)\">\r\n       <use xlink:href=\"#DejaVuSans-48\"/>\r\n      </g>\r\n     </g>\r\n    </g>\r\n    <g id=\"ytick_2\">\r\n     <g id=\"line2d_8\">\r\n      <g>\r\n       <use style=\"stroke:#000000;stroke-width:0.8;\" x=\"39.65\" xlink:href=\"#m0d15c01302\" y=\"65.914845\"/>\r\n      </g>\r\n     </g>\r\n     <g id=\"text_8\">\r\n      <!-- 200 -->\r\n      <g transform=\"translate(13.5625 69.714064)scale(0.1 -0.1)\">\r\n       <use xlink:href=\"#DejaVuSans-50\"/>\r\n       <use x=\"63.623047\" xlink:href=\"#DejaVuSans-48\"/>\r\n       <use x=\"127.246094\" xlink:href=\"#DejaVuSans-48\"/>\r\n      </g>\r\n     </g>\r\n    </g>\r\n    <g id=\"ytick_3\">\r\n     <g id=\"line2d_9\">\r\n      <g>\r\n       <use style=\"stroke:#000000;stroke-width:0.8;\" x=\"39.65\" xlink:href=\"#m0d15c01302\" y=\"109.402845\"/>\r\n      </g>\r\n     </g>\r\n     <g id=\"text_9\">\r\n      <!-- 400 -->\r\n      <g transform=\"translate(13.5625 113.202064)scale(0.1 -0.1)\">\r\n       <use xlink:href=\"#DejaVuSans-52\"/>\r\n       <use x=\"63.623047\" xlink:href=\"#DejaVuSans-48\"/>\r\n       <use x=\"127.246094\" xlink:href=\"#DejaVuSans-48\"/>\r\n      </g>\r\n     </g>\r\n    </g>\r\n    <g id=\"ytick_4\">\r\n     <g id=\"line2d_10\">\r\n      <g>\r\n       <use style=\"stroke:#000000;stroke-width:0.8;\" x=\"39.65\" xlink:href=\"#m0d15c01302\" y=\"152.890845\"/>\r\n      </g>\r\n     </g>\r\n     <g id=\"text_10\">\r\n      <!-- 600 -->\r\n      <g transform=\"translate(13.5625 156.690064)scale(0.1 -0.1)\">\r\n       <use xlink:href=\"#DejaVuSans-54\"/>\r\n       <use x=\"63.623047\" xlink:href=\"#DejaVuSans-48\"/>\r\n       <use x=\"127.246094\" xlink:href=\"#DejaVuSans-48\"/>\r\n      </g>\r\n     </g>\r\n    </g>\r\n    <g id=\"ytick_5\">\r\n     <g id=\"line2d_11\">\r\n      <g>\r\n       <use style=\"stroke:#000000;stroke-width:0.8;\" x=\"39.65\" xlink:href=\"#m0d15c01302\" y=\"196.378845\"/>\r\n      </g>\r\n     </g>\r\n     <g id=\"text_11\">\r\n      <!-- 800 -->\r\n      <g transform=\"translate(13.5625 200.178064)scale(0.1 -0.1)\">\r\n       <use xlink:href=\"#DejaVuSans-56\"/>\r\n       <use x=\"63.623047\" xlink:href=\"#DejaVuSans-48\"/>\r\n       <use x=\"127.246094\" xlink:href=\"#DejaVuSans-48\"/>\r\n      </g>\r\n     </g>\r\n    </g>\r\n    <g id=\"ytick_6\">\r\n     <g id=\"line2d_12\">\r\n      <g>\r\n       <use style=\"stroke:#000000;stroke-width:0.8;\" x=\"39.65\" xlink:href=\"#m0d15c01302\" y=\"239.866845\"/>\r\n      </g>\r\n     </g>\r\n     <g id=\"text_12\">\r\n      <!-- 1000 -->\r\n      <g transform=\"translate(7.2 243.666064)scale(0.1 -0.1)\">\r\n       <use xlink:href=\"#DejaVuSans-49\"/>\r\n       <use x=\"63.623047\" xlink:href=\"#DejaVuSans-48\"/>\r\n       <use x=\"127.246094\" xlink:href=\"#DejaVuSans-48\"/>\r\n       <use x=\"190.869141\" xlink:href=\"#DejaVuSans-48\"/>\r\n      </g>\r\n     </g>\r\n    </g>\r\n   </g>\r\n   <g id=\"patch_3\">\r\n    <path d=\"M 39.65 239.758125 \r\nL 39.65 22.318125 \r\n\" style=\"fill:none;stroke:#000000;stroke-linecap:square;stroke-linejoin:miter;stroke-width:0.8;\"/>\r\n   </g>\r\n   <g id=\"patch_4\">\r\n    <path d=\"M 257.09 239.758125 \r\nL 257.09 22.318125 \r\n\" style=\"fill:none;stroke:#000000;stroke-linecap:square;stroke-linejoin:miter;stroke-width:0.8;\"/>\r\n   </g>\r\n   <g id=\"patch_5\">\r\n    <path d=\"M 39.65 239.758125 \r\nL 257.09 239.758125 \r\n\" style=\"fill:none;stroke:#000000;stroke-linecap:square;stroke-linejoin:miter;stroke-width:0.8;\"/>\r\n   </g>\r\n   <g id=\"patch_6\">\r\n    <path d=\"M 39.65 22.318125 \r\nL 257.09 22.318125 \r\n\" style=\"fill:none;stroke:#000000;stroke-linecap:square;stroke-linejoin:miter;stroke-width:0.8;\"/>\r\n   </g>\r\n   <g id=\"text_13\">\r\n    <!-- image plot of distance  -->\r\n    <defs>\r\n     <path d=\"M 9.421875 54.6875 \r\nL 18.40625 54.6875 \r\nL 18.40625 0 \r\nL 9.421875 0 \r\nz\r\nM 9.421875 75.984375 \r\nL 18.40625 75.984375 \r\nL 18.40625 64.59375 \r\nL 9.421875 64.59375 \r\nz\r\n\" id=\"DejaVuSans-105\"/>\r\n     <path d=\"M 52 44.1875 \r\nQ 55.375 50.25 60.0625 53.125 \r\nQ 64.75 56 71.09375 56 \r\nQ 79.640625 56 84.28125 50.015625 \r\nQ 88.921875 44.046875 88.921875 33.015625 \r\nL 88.921875 0 \r\nL 79.890625 0 \r\nL 79.890625 32.71875 \r\nQ 79.890625 40.578125 77.09375 44.375 \r\nQ 74.3125 48.1875 68.609375 48.1875 \r\nQ 61.625 48.1875 57.5625 43.546875 \r\nQ 53.515625 38.921875 53.515625 30.90625 \r\nL 53.515625 0 \r\nL 44.484375 0 \r\nL 44.484375 32.71875 \r\nQ 44.484375 40.625 41.703125 44.40625 \r\nQ 38.921875 48.1875 33.109375 48.1875 \r\nQ 26.21875 48.1875 22.15625 43.53125 \r\nQ 18.109375 38.875 18.109375 30.90625 \r\nL 18.109375 0 \r\nL 9.078125 0 \r\nL 9.078125 54.6875 \r\nL 18.109375 54.6875 \r\nL 18.109375 46.1875 \r\nQ 21.1875 51.21875 25.484375 53.609375 \r\nQ 29.78125 56 35.6875 56 \r\nQ 41.65625 56 45.828125 52.96875 \r\nQ 50 49.953125 52 44.1875 \r\nz\r\n\" id=\"DejaVuSans-109\"/>\r\n     <path d=\"M 34.28125 27.484375 \r\nQ 23.390625 27.484375 19.1875 25 \r\nQ 14.984375 22.515625 14.984375 16.5 \r\nQ 14.984375 11.71875 18.140625 8.90625 \r\nQ 21.296875 6.109375 26.703125 6.109375 \r\nQ 34.1875 6.109375 38.703125 11.40625 \r\nQ 43.21875 16.703125 43.21875 25.484375 \r\nL 43.21875 27.484375 \r\nz\r\nM 52.203125 31.203125 \r\nL 52.203125 0 \r\nL 43.21875 0 \r\nL 43.21875 8.296875 \r\nQ 40.140625 3.328125 35.546875 0.953125 \r\nQ 30.953125 -1.421875 24.3125 -1.421875 \r\nQ 15.921875 -1.421875 10.953125 3.296875 \r\nQ 6 8.015625 6 15.921875 \r\nQ 6 25.140625 12.171875 29.828125 \r\nQ 18.359375 34.515625 30.609375 34.515625 \r\nL 43.21875 34.515625 \r\nL 43.21875 35.40625 \r\nQ 43.21875 41.609375 39.140625 45 \r\nQ 35.0625 48.390625 27.6875 48.390625 \r\nQ 23 48.390625 18.546875 47.265625 \r\nQ 14.109375 46.140625 10.015625 43.890625 \r\nL 10.015625 52.203125 \r\nQ 14.9375 54.109375 19.578125 55.046875 \r\nQ 24.21875 56 28.609375 56 \r\nQ 40.484375 56 46.34375 49.84375 \r\nQ 52.203125 43.703125 52.203125 31.203125 \r\nz\r\n\" id=\"DejaVuSans-97\"/>\r\n     <path d=\"M 45.40625 27.984375 \r\nQ 45.40625 37.75 41.375 43.109375 \r\nQ 37.359375 48.484375 30.078125 48.484375 \r\nQ 22.859375 48.484375 18.828125 43.109375 \r\nQ 14.796875 37.75 14.796875 27.984375 \r\nQ 14.796875 18.265625 18.828125 12.890625 \r\nQ 22.859375 7.515625 30.078125 7.515625 \r\nQ 37.359375 7.515625 41.375 12.890625 \r\nQ 45.40625 18.265625 45.40625 27.984375 \r\nz\r\nM 54.390625 6.78125 \r\nQ 54.390625 -7.171875 48.1875 -13.984375 \r\nQ 42 -20.796875 29.203125 -20.796875 \r\nQ 24.46875 -20.796875 20.265625 -20.09375 \r\nQ 16.0625 -19.390625 12.109375 -17.921875 \r\nL 12.109375 -9.1875 \r\nQ 16.0625 -11.328125 19.921875 -12.34375 \r\nQ 23.78125 -13.375 27.78125 -13.375 \r\nQ 36.625 -13.375 41.015625 -8.765625 \r\nQ 45.40625 -4.15625 45.40625 5.171875 \r\nL 45.40625 9.625 \r\nQ 42.625 4.78125 38.28125 2.390625 \r\nQ 33.9375 0 27.875 0 \r\nQ 17.828125 0 11.671875 7.65625 \r\nQ 5.515625 15.328125 5.515625 27.984375 \r\nQ 5.515625 40.671875 11.671875 48.328125 \r\nQ 17.828125 56 27.875 56 \r\nQ 33.9375 56 38.28125 53.609375 \r\nQ 42.625 51.21875 45.40625 46.390625 \r\nL 45.40625 54.6875 \r\nL 54.390625 54.6875 \r\nz\r\n\" id=\"DejaVuSans-103\"/>\r\n     <path d=\"M 56.203125 29.59375 \r\nL 56.203125 25.203125 \r\nL 14.890625 25.203125 \r\nQ 15.484375 15.921875 20.484375 11.0625 \r\nQ 25.484375 6.203125 34.421875 6.203125 \r\nQ 39.59375 6.203125 44.453125 7.46875 \r\nQ 49.3125 8.734375 54.109375 11.28125 \r\nL 54.109375 2.78125 \r\nQ 49.265625 0.734375 44.1875 -0.34375 \r\nQ 39.109375 -1.421875 33.890625 -1.421875 \r\nQ 20.796875 -1.421875 13.15625 6.1875 \r\nQ 5.515625 13.8125 5.515625 26.8125 \r\nQ 5.515625 40.234375 12.765625 48.109375 \r\nQ 20.015625 56 32.328125 56 \r\nQ 43.359375 56 49.78125 48.890625 \r\nQ 56.203125 41.796875 56.203125 29.59375 \r\nz\r\nM 47.21875 32.234375 \r\nQ 47.125 39.59375 43.09375 43.984375 \r\nQ 39.0625 48.390625 32.421875 48.390625 \r\nQ 24.90625 48.390625 20.390625 44.140625 \r\nQ 15.875 39.890625 15.1875 32.171875 \r\nz\r\n\" id=\"DejaVuSans-101\"/>\r\n     <path id=\"DejaVuSans-32\"/>\r\n     <path d=\"M 18.109375 8.203125 \r\nL 18.109375 -20.796875 \r\nL 9.078125 -20.796875 \r\nL 9.078125 54.6875 \r\nL 18.109375 54.6875 \r\nL 18.109375 46.390625 \r\nQ 20.953125 51.265625 25.265625 53.625 \r\nQ 29.59375 56 35.59375 56 \r\nQ 45.5625 56 51.78125 48.09375 \r\nQ 58.015625 40.1875 58.015625 27.296875 \r\nQ 58.015625 14.40625 51.78125 6.484375 \r\nQ 45.5625 -1.421875 35.59375 -1.421875 \r\nQ 29.59375 -1.421875 25.265625 0.953125 \r\nQ 20.953125 3.328125 18.109375 8.203125 \r\nz\r\nM 48.6875 27.296875 \r\nQ 48.6875 37.203125 44.609375 42.84375 \r\nQ 40.53125 48.484375 33.40625 48.484375 \r\nQ 26.265625 48.484375 22.1875 42.84375 \r\nQ 18.109375 37.203125 18.109375 27.296875 \r\nQ 18.109375 17.390625 22.1875 11.75 \r\nQ 26.265625 6.109375 33.40625 6.109375 \r\nQ 40.53125 6.109375 44.609375 11.75 \r\nQ 48.6875 17.390625 48.6875 27.296875 \r\nz\r\n\" id=\"DejaVuSans-112\"/>\r\n     <path d=\"M 9.421875 75.984375 \r\nL 18.40625 75.984375 \r\nL 18.40625 0 \r\nL 9.421875 0 \r\nz\r\n\" id=\"DejaVuSans-108\"/>\r\n     <path d=\"M 30.609375 48.390625 \r\nQ 23.390625 48.390625 19.1875 42.75 \r\nQ 14.984375 37.109375 14.984375 27.296875 \r\nQ 14.984375 17.484375 19.15625 11.84375 \r\nQ 23.34375 6.203125 30.609375 6.203125 \r\nQ 37.796875 6.203125 41.984375 11.859375 \r\nQ 46.1875 17.53125 46.1875 27.296875 \r\nQ 46.1875 37.015625 41.984375 42.703125 \r\nQ 37.796875 48.390625 30.609375 48.390625 \r\nz\r\nM 30.609375 56 \r\nQ 42.328125 56 49.015625 48.375 \r\nQ 55.71875 40.765625 55.71875 27.296875 \r\nQ 55.71875 13.875 49.015625 6.21875 \r\nQ 42.328125 -1.421875 30.609375 -1.421875 \r\nQ 18.84375 -1.421875 12.171875 6.21875 \r\nQ 5.515625 13.875 5.515625 27.296875 \r\nQ 5.515625 40.765625 12.171875 48.375 \r\nQ 18.84375 56 30.609375 56 \r\nz\r\n\" id=\"DejaVuSans-111\"/>\r\n     <path d=\"M 18.3125 70.21875 \r\nL 18.3125 54.6875 \r\nL 36.8125 54.6875 \r\nL 36.8125 47.703125 \r\nL 18.3125 47.703125 \r\nL 18.3125 18.015625 \r\nQ 18.3125 11.328125 20.140625 9.421875 \r\nQ 21.96875 7.515625 27.59375 7.515625 \r\nL 36.8125 7.515625 \r\nL 36.8125 0 \r\nL 27.59375 0 \r\nQ 17.1875 0 13.234375 3.875 \r\nQ 9.28125 7.765625 9.28125 18.015625 \r\nL 9.28125 47.703125 \r\nL 2.6875 47.703125 \r\nL 2.6875 54.6875 \r\nL 9.28125 54.6875 \r\nL 9.28125 70.21875 \r\nz\r\n\" id=\"DejaVuSans-116\"/>\r\n     <path d=\"M 37.109375 75.984375 \r\nL 37.109375 68.5 \r\nL 28.515625 68.5 \r\nQ 23.6875 68.5 21.796875 66.546875 \r\nQ 19.921875 64.59375 19.921875 59.515625 \r\nL 19.921875 54.6875 \r\nL 34.71875 54.6875 \r\nL 34.71875 47.703125 \r\nL 19.921875 47.703125 \r\nL 19.921875 0 \r\nL 10.890625 0 \r\nL 10.890625 47.703125 \r\nL 2.296875 47.703125 \r\nL 2.296875 54.6875 \r\nL 10.890625 54.6875 \r\nL 10.890625 58.5 \r\nQ 10.890625 67.625 15.140625 71.796875 \r\nQ 19.390625 75.984375 28.609375 75.984375 \r\nz\r\n\" id=\"DejaVuSans-102\"/>\r\n     <path d=\"M 45.40625 46.390625 \r\nL 45.40625 75.984375 \r\nL 54.390625 75.984375 \r\nL 54.390625 0 \r\nL 45.40625 0 \r\nL 45.40625 8.203125 \r\nQ 42.578125 3.328125 38.25 0.953125 \r\nQ 33.9375 -1.421875 27.875 -1.421875 \r\nQ 17.96875 -1.421875 11.734375 6.484375 \r\nQ 5.515625 14.40625 5.515625 27.296875 \r\nQ 5.515625 40.1875 11.734375 48.09375 \r\nQ 17.96875 56 27.875 56 \r\nQ 33.9375 56 38.25 53.625 \r\nQ 42.578125 51.265625 45.40625 46.390625 \r\nz\r\nM 14.796875 27.296875 \r\nQ 14.796875 17.390625 18.875 11.75 \r\nQ 22.953125 6.109375 30.078125 6.109375 \r\nQ 37.203125 6.109375 41.296875 11.75 \r\nQ 45.40625 17.390625 45.40625 27.296875 \r\nQ 45.40625 37.203125 41.296875 42.84375 \r\nQ 37.203125 48.484375 30.078125 48.484375 \r\nQ 22.953125 48.484375 18.875 42.84375 \r\nQ 14.796875 37.203125 14.796875 27.296875 \r\nz\r\n\" id=\"DejaVuSans-100\"/>\r\n     <path d=\"M 44.28125 53.078125 \r\nL 44.28125 44.578125 \r\nQ 40.484375 46.53125 36.375 47.5 \r\nQ 32.28125 48.484375 27.875 48.484375 \r\nQ 21.1875 48.484375 17.84375 46.4375 \r\nQ 14.5 44.390625 14.5 40.28125 \r\nQ 14.5 37.15625 16.890625 35.375 \r\nQ 19.28125 33.59375 26.515625 31.984375 \r\nL 29.59375 31.296875 \r\nQ 39.15625 29.25 43.1875 25.515625 \r\nQ 47.21875 21.78125 47.21875 15.09375 \r\nQ 47.21875 7.46875 41.1875 3.015625 \r\nQ 35.15625 -1.421875 24.609375 -1.421875 \r\nQ 20.21875 -1.421875 15.453125 -0.5625 \r\nQ 10.6875 0.296875 5.421875 2 \r\nL 5.421875 11.28125 \r\nQ 10.40625 8.6875 15.234375 7.390625 \r\nQ 20.0625 6.109375 24.8125 6.109375 \r\nQ 31.15625 6.109375 34.5625 8.28125 \r\nQ 37.984375 10.453125 37.984375 14.40625 \r\nQ 37.984375 18.0625 35.515625 20.015625 \r\nQ 33.0625 21.96875 24.703125 23.78125 \r\nL 21.578125 24.515625 \r\nQ 13.234375 26.265625 9.515625 29.90625 \r\nQ 5.8125 33.546875 5.8125 39.890625 \r\nQ 5.8125 47.609375 11.28125 51.796875 \r\nQ 16.75 56 26.8125 56 \r\nQ 31.78125 56 36.171875 55.265625 \r\nQ 40.578125 54.546875 44.28125 53.078125 \r\nz\r\n\" id=\"DejaVuSans-115\"/>\r\n     <path d=\"M 54.890625 33.015625 \r\nL 54.890625 0 \r\nL 45.90625 0 \r\nL 45.90625 32.71875 \r\nQ 45.90625 40.484375 42.875 44.328125 \r\nQ 39.84375 48.1875 33.796875 48.1875 \r\nQ 26.515625 48.1875 22.3125 43.546875 \r\nQ 18.109375 38.921875 18.109375 30.90625 \r\nL 18.109375 0 \r\nL 9.078125 0 \r\nL 9.078125 54.6875 \r\nL 18.109375 54.6875 \r\nL 18.109375 46.1875 \r\nQ 21.34375 51.125 25.703125 53.5625 \r\nQ 30.078125 56 35.796875 56 \r\nQ 45.21875 56 50.046875 50.171875 \r\nQ 54.890625 44.34375 54.890625 33.015625 \r\nz\r\n\" id=\"DejaVuSans-110\"/>\r\n     <path d=\"M 48.78125 52.59375 \r\nL 48.78125 44.1875 \r\nQ 44.96875 46.296875 41.140625 47.34375 \r\nQ 37.3125 48.390625 33.40625 48.390625 \r\nQ 24.65625 48.390625 19.8125 42.84375 \r\nQ 14.984375 37.3125 14.984375 27.296875 \r\nQ 14.984375 17.28125 19.8125 11.734375 \r\nQ 24.65625 6.203125 33.40625 6.203125 \r\nQ 37.3125 6.203125 41.140625 7.25 \r\nQ 44.96875 8.296875 48.78125 10.40625 \r\nL 48.78125 2.09375 \r\nQ 45.015625 0.34375 40.984375 -0.53125 \r\nQ 36.96875 -1.421875 32.421875 -1.421875 \r\nQ 20.0625 -1.421875 12.78125 6.34375 \r\nQ 5.515625 14.109375 5.515625 27.296875 \r\nQ 5.515625 40.671875 12.859375 48.328125 \r\nQ 20.21875 56 33.015625 56 \r\nQ 37.15625 56 41.109375 55.140625 \r\nQ 45.0625 54.296875 48.78125 52.59375 \r\nz\r\n\" id=\"DejaVuSans-99\"/>\r\n    </defs>\r\n    <g transform=\"translate(79.346563 16.318125)scale(0.12 -0.12)\">\r\n     <use xlink:href=\"#DejaVuSans-105\"/>\r\n     <use x=\"27.783203\" xlink:href=\"#DejaVuSans-109\"/>\r\n     <use x=\"125.195312\" xlink:href=\"#DejaVuSans-97\"/>\r\n     <use x=\"186.474609\" xlink:href=\"#DejaVuSans-103\"/>\r\n     <use x=\"249.951172\" xlink:href=\"#DejaVuSans-101\"/>\r\n     <use x=\"311.474609\" xlink:href=\"#DejaVuSans-32\"/>\r\n     <use x=\"343.261719\" xlink:href=\"#DejaVuSans-112\"/>\r\n     <use x=\"406.738281\" xlink:href=\"#DejaVuSans-108\"/>\r\n     <use x=\"434.521484\" xlink:href=\"#DejaVuSans-111\"/>\r\n     <use x=\"495.703125\" xlink:href=\"#DejaVuSans-116\"/>\r\n     <use x=\"534.912109\" xlink:href=\"#DejaVuSans-32\"/>\r\n     <use x=\"566.699219\" xlink:href=\"#DejaVuSans-111\"/>\r\n     <use x=\"627.880859\" xlink:href=\"#DejaVuSans-102\"/>\r\n     <use x=\"663.085938\" xlink:href=\"#DejaVuSans-32\"/>\r\n     <use x=\"694.873047\" xlink:href=\"#DejaVuSans-100\"/>\r\n     <use x=\"758.349609\" xlink:href=\"#DejaVuSans-105\"/>\r\n     <use x=\"786.132812\" xlink:href=\"#DejaVuSans-115\"/>\r\n     <use x=\"838.232422\" xlink:href=\"#DejaVuSans-116\"/>\r\n     <use x=\"877.441406\" xlink:href=\"#DejaVuSans-97\"/>\r\n     <use x=\"938.720703\" xlink:href=\"#DejaVuSans-110\"/>\r\n     <use x=\"1002.099609\" xlink:href=\"#DejaVuSans-99\"/>\r\n     <use x=\"1057.080078\" xlink:href=\"#DejaVuSans-101\"/>\r\n     <use x=\"1118.603516\" xlink:href=\"#DejaVuSans-32\"/>\r\n    </g>\r\n   </g>\r\n  </g>\r\n  <g id=\"axes_2\">\r\n   <g id=\"patch_7\">\r\n    <path clip-path=\"url(#p933bdc20dd)\" d=\"M 273.83 239.758125 \r\nL 273.83 238.90875 \r\nL 273.83 23.1675 \r\nL 273.83 22.318125 \r\nL 284.702 22.318125 \r\nL 284.702 23.1675 \r\nL 284.702 238.90875 \r\nL 284.702 239.758125 \r\nz\r\n\" style=\"fill:#ffffff;stroke:#ffffff;stroke-linejoin:miter;stroke-width:0.01;\"/>\r\n   </g>\r\n   <image height=\"217\" id=\"image073d994b22\" transform=\"scale(1 -1)translate(0 -217)\" width=\"11\" x=\"274\" xlink:href=\"data:image/png;base64,\r\niVBORw0KGgoAAAANSUhEUgAAAAsAAADZCAYAAAD2WsoCAAAABHNCSVQICAgIfAhkiAAAAIJJREFUaIHt0DEKwDAQA8HI+P9fTtorjSBglr16i9Mkyfsc3k5y2v4Zr7VueOOSWI0Z4zXwA9WoY7wGfqAaM8YPVKOO8Rr4gWrUMV4DP1CNOsZr4AeqMWP8QDXqGK+BH6hGHeM18APVqGO8Bn6gGnWM18APVGPG+IFq1DFeAz+QrvEB3UYHXpyDMvMAAAAASUVORK5CYII=\" y=\"-22\"/>\r\n   <g id=\"matplotlib.axis_3\"/>\r\n   <g id=\"matplotlib.axis_4\">\r\n    <g id=\"ytick_7\">\r\n     <g id=\"line2d_13\">\r\n      <defs>\r\n       <path d=\"M 0 0 \r\nL 3.5 0 \r\n\" id=\"m1b1778e0d4\" style=\"stroke:#000000;stroke-width:0.8;\"/>\r\n      </defs>\r\n      <g>\r\n       <use style=\"stroke:#000000;stroke-width:0.8;\" x=\"284.702\" xlink:href=\"#m1b1778e0d4\" y=\"239.758125\"/>\r\n      </g>\r\n     </g>\r\n     <g id=\"text_14\">\r\n      <!-- 0 -->\r\n      <g transform=\"translate(291.702 243.557344)scale(0.1 -0.1)\">\r\n       <use xlink:href=\"#DejaVuSans-48\"/>\r\n      </g>\r\n     </g>\r\n    </g>\r\n    <g id=\"ytick_8\">\r\n     <g id=\"line2d_14\">\r\n      <g>\r\n       <use style=\"stroke:#000000;stroke-width:0.8;\" x=\"284.702\" xlink:href=\"#m1b1778e0d4\" y=\"209.007465\"/>\r\n      </g>\r\n     </g>\r\n     <g id=\"text_15\">\r\n      <!-- 1 -->\r\n      <g transform=\"translate(291.702 212.806684)scale(0.1 -0.1)\">\r\n       <use xlink:href=\"#DejaVuSans-49\"/>\r\n      </g>\r\n     </g>\r\n    </g>\r\n    <g id=\"ytick_9\">\r\n     <g id=\"line2d_15\">\r\n      <g>\r\n       <use style=\"stroke:#000000;stroke-width:0.8;\" x=\"284.702\" xlink:href=\"#m1b1778e0d4\" y=\"178.256806\"/>\r\n      </g>\r\n     </g>\r\n     <g id=\"text_16\">\r\n      <!-- 2 -->\r\n      <g transform=\"translate(291.702 182.056024)scale(0.1 -0.1)\">\r\n       <use xlink:href=\"#DejaVuSans-50\"/>\r\n      </g>\r\n     </g>\r\n    </g>\r\n    <g id=\"ytick_10\">\r\n     <g id=\"line2d_16\">\r\n      <g>\r\n       <use style=\"stroke:#000000;stroke-width:0.8;\" x=\"284.702\" xlink:href=\"#m1b1778e0d4\" y=\"147.506146\"/>\r\n      </g>\r\n     </g>\r\n     <g id=\"text_17\">\r\n      <!-- 3 -->\r\n      <defs>\r\n       <path d=\"M 40.578125 39.3125 \r\nQ 47.65625 37.796875 51.625 33 \r\nQ 55.609375 28.21875 55.609375 21.1875 \r\nQ 55.609375 10.40625 48.1875 4.484375 \r\nQ 40.765625 -1.421875 27.09375 -1.421875 \r\nQ 22.515625 -1.421875 17.65625 -0.515625 \r\nQ 12.796875 0.390625 7.625 2.203125 \r\nL 7.625 11.71875 \r\nQ 11.71875 9.328125 16.59375 8.109375 \r\nQ 21.484375 6.890625 26.8125 6.890625 \r\nQ 36.078125 6.890625 40.9375 10.546875 \r\nQ 45.796875 14.203125 45.796875 21.1875 \r\nQ 45.796875 27.640625 41.28125 31.265625 \r\nQ 36.765625 34.90625 28.71875 34.90625 \r\nL 20.21875 34.90625 \r\nL 20.21875 43.015625 \r\nL 29.109375 43.015625 \r\nQ 36.375 43.015625 40.234375 45.921875 \r\nQ 44.09375 48.828125 44.09375 54.296875 \r\nQ 44.09375 59.90625 40.109375 62.90625 \r\nQ 36.140625 65.921875 28.71875 65.921875 \r\nQ 24.65625 65.921875 20.015625 65.03125 \r\nQ 15.375 64.15625 9.8125 62.3125 \r\nL 9.8125 71.09375 \r\nQ 15.4375 72.65625 20.34375 73.4375 \r\nQ 25.25 74.21875 29.59375 74.21875 \r\nQ 40.828125 74.21875 47.359375 69.109375 \r\nQ 53.90625 64.015625 53.90625 55.328125 \r\nQ 53.90625 49.265625 50.4375 45.09375 \r\nQ 46.96875 40.921875 40.578125 39.3125 \r\nz\r\n\" id=\"DejaVuSans-51\"/>\r\n      </defs>\r\n      <g transform=\"translate(291.702 151.305365)scale(0.1 -0.1)\">\r\n       <use xlink:href=\"#DejaVuSans-51\"/>\r\n      </g>\r\n     </g>\r\n    </g>\r\n    <g id=\"ytick_11\">\r\n     <g id=\"line2d_17\">\r\n      <g>\r\n       <use style=\"stroke:#000000;stroke-width:0.8;\" x=\"284.702\" xlink:href=\"#m1b1778e0d4\" y=\"116.755486\"/>\r\n      </g>\r\n     </g>\r\n     <g id=\"text_18\">\r\n      <!-- 4 -->\r\n      <g transform=\"translate(291.702 120.554705)scale(0.1 -0.1)\">\r\n       <use xlink:href=\"#DejaVuSans-52\"/>\r\n      </g>\r\n     </g>\r\n    </g>\r\n    <g id=\"ytick_12\">\r\n     <g id=\"line2d_18\">\r\n      <g>\r\n       <use style=\"stroke:#000000;stroke-width:0.8;\" x=\"284.702\" xlink:href=\"#m1b1778e0d4\" y=\"86.004826\"/>\r\n      </g>\r\n     </g>\r\n     <g id=\"text_19\">\r\n      <!-- 5 -->\r\n      <defs>\r\n       <path d=\"M 10.796875 72.90625 \r\nL 49.515625 72.90625 \r\nL 49.515625 64.59375 \r\nL 19.828125 64.59375 \r\nL 19.828125 46.734375 \r\nQ 21.96875 47.46875 24.109375 47.828125 \r\nQ 26.265625 48.1875 28.421875 48.1875 \r\nQ 40.625 48.1875 47.75 41.5 \r\nQ 54.890625 34.8125 54.890625 23.390625 \r\nQ 54.890625 11.625 47.5625 5.09375 \r\nQ 40.234375 -1.421875 26.90625 -1.421875 \r\nQ 22.3125 -1.421875 17.546875 -0.640625 \r\nQ 12.796875 0.140625 7.71875 1.703125 \r\nL 7.71875 11.625 \r\nQ 12.109375 9.234375 16.796875 8.0625 \r\nQ 21.484375 6.890625 26.703125 6.890625 \r\nQ 35.15625 6.890625 40.078125 11.328125 \r\nQ 45.015625 15.765625 45.015625 23.390625 \r\nQ 45.015625 31 40.078125 35.4375 \r\nQ 35.15625 39.890625 26.703125 39.890625 \r\nQ 22.75 39.890625 18.8125 39.015625 \r\nQ 14.890625 38.140625 10.796875 36.28125 \r\nz\r\n\" id=\"DejaVuSans-53\"/>\r\n      </defs>\r\n      <g transform=\"translate(291.702 89.804045)scale(0.1 -0.1)\">\r\n       <use xlink:href=\"#DejaVuSans-53\"/>\r\n      </g>\r\n     </g>\r\n    </g>\r\n    <g id=\"ytick_13\">\r\n     <g id=\"line2d_19\">\r\n      <g>\r\n       <use style=\"stroke:#000000;stroke-width:0.8;\" x=\"284.702\" xlink:href=\"#m1b1778e0d4\" y=\"55.254167\"/>\r\n      </g>\r\n     </g>\r\n     <g id=\"text_20\">\r\n      <!-- 6 -->\r\n      <g transform=\"translate(291.702 59.053386)scale(0.1 -0.1)\">\r\n       <use xlink:href=\"#DejaVuSans-54\"/>\r\n      </g>\r\n     </g>\r\n    </g>\r\n    <g id=\"ytick_14\">\r\n     <g id=\"line2d_20\">\r\n      <g>\r\n       <use style=\"stroke:#000000;stroke-width:0.8;\" x=\"284.702\" xlink:href=\"#m1b1778e0d4\" y=\"24.503507\"/>\r\n      </g>\r\n     </g>\r\n     <g id=\"text_21\">\r\n      <!-- 7 -->\r\n      <defs>\r\n       <path d=\"M 8.203125 72.90625 \r\nL 55.078125 72.90625 \r\nL 55.078125 68.703125 \r\nL 28.609375 0 \r\nL 18.3125 0 \r\nL 43.21875 64.59375 \r\nL 8.203125 64.59375 \r\nz\r\n\" id=\"DejaVuSans-55\"/>\r\n      </defs>\r\n      <g transform=\"translate(291.702 28.302726)scale(0.1 -0.1)\">\r\n       <use xlink:href=\"#DejaVuSans-55\"/>\r\n      </g>\r\n     </g>\r\n    </g>\r\n   </g>\r\n   <g id=\"patch_8\">\r\n    <path d=\"M 273.83 239.758125 \r\nL 273.83 238.90875 \r\nL 273.83 23.1675 \r\nL 273.83 22.318125 \r\nL 284.702 22.318125 \r\nL 284.702 23.1675 \r\nL 284.702 238.90875 \r\nL 284.702 239.758125 \r\nz\r\n\" style=\"fill:none;stroke:#000000;stroke-linejoin:miter;stroke-width:0.8;\"/>\r\n   </g>\r\n  </g>\r\n </g>\r\n <defs>\r\n  <clipPath id=\"pef72971bd2\">\r\n   <rect height=\"217.44\" width=\"217.44\" x=\"39.65\" y=\"22.318125\"/>\r\n  </clipPath>\r\n  <clipPath id=\"p933bdc20dd\">\r\n   <rect height=\"217.44\" width=\"10.872\" x=\"273.83\" y=\"22.318125\"/>\r\n  </clipPath>\r\n </defs>\r\n</svg>\r\n",
      "image/png": "[encoded data removed]"
     },
     "metadata": {
      "needs_background": "light"
     }
    }
   ],
   "source": [
    "plt.imshow(distance,cmap= plt.cm.gray)\n",
    "plt.colorbar()\n",
    "plt.title(\"image plot of distance \")"
   ]
  },
  {
   "source": [
    "### where method"
   ],
   "cell_type": "markdown",
   "metadata": {}
  },
  {
   "cell_type": "code",
   "execution_count": 91,
   "metadata": {},
   "outputs": [],
   "source": [
    "arr = np.arange(16).reshape(4,4)"
   ]
  },
  {
   "cell_type": "code",
   "execution_count": 92,
   "metadata": {},
   "outputs": [
    {
     "output_type": "execute_result",
     "data": {
      "text/plain": [
       "array([[ 0,  1,  2,  3],\n",
       "       [ 4,  5,  6,  7],\n",
       "       [ 8,  9, 10, 11],\n",
       "       [12, 13, 14, 15]])"
      ]
     },
     "metadata": {},
     "execution_count": 92
    }
   ],
   "source": [
    "arr"
   ]
  },
  {
   "cell_type": "code",
   "execution_count": null,
   "metadata": {},
   "outputs": [],
   "source": []
  }
 ],
 "metadata": {
  "kernelspec": {
   "display_name": "Python 3",
   "language": "python",
   "name": "python3"
  },
  "language_info": {
   "codemirror_mode": {
    "name": "ipython",
    "version": 3
   },
   "file_extension": ".py",
   "mimetype": "text/x-python",
   "name": "python",
   "nbconvert_exporter": "python",
   "pygments_lexer": "ipython3",
   "version": "3.7.3-final"
  }
 },
 "nbformat": 4,
 "nbformat_minor": 2
}